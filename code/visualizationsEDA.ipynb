{
 "cells": [
  {
   "cell_type": "markdown",
   "metadata": {},
   "source": [
    "# Preprocessing cell for the Pokémon Data Science Project"
   ]
  },
  {
   "cell_type": "code",
   "execution_count": 191,
   "metadata": {},
   "outputs": [
    {
     "data": {
      "text/plain": [
       "<Figure size 600x480 with 0 Axes>"
      ]
     },
     "metadata": {},
     "output_type": "display_data"
    }
   ],
   "source": [
    "import numpy as np\n",
    "import pandas as pd\n",
    "import matplotlib.pyplot as plt\n",
    "import seaborn as sns\n",
    "import plotly.express as px\n",
    "import plotly.graph_objects as go\n",
    "\n",
    "\n",
    "#import missingno as msno\n",
    "\n",
    "plt.figure(figsize=(10, 8), dpi=60)\n",
    "plt.rcParams['figure.figsize'] = [10, 8]\n",
    "plt.rcParams['figure.dpi'] = 60\n",
    "sns.set_theme(rc={'figure.figsize':(10,8)})"
   ]
  },
  {
   "cell_type": "markdown",
   "metadata": {},
   "source": [
    "### Data reading"
   ]
  },
  {
   "cell_type": "code",
   "execution_count": 135,
   "metadata": {},
   "outputs": [],
   "source": [
    "data = pd.read_csv(\"../data/PokemonPreproc.csv\", index_col=None)"
   ]
  },
  {
   "cell_type": "markdown",
   "metadata": {},
   "source": [
    "### About the data, preprocessed:\n",
    "\n",
    "The dataset was extracted using the file bulbapediascrapper.py and then preprocessed using the preprocess.ipynb. The main objective of this notebook is to do a exploratory data analysis, generate graphics as well as star extracting conclusions about the dataset."
   ]
  },
  {
   "cell_type": "markdown",
   "metadata": {},
   "source": [
    "### This notebook's tasks:\n",
    "\n",
    "1. Further data exploration\n",
    "2. Visualizations"
   ]
  },
  {
   "cell_type": "markdown",
   "metadata": {},
   "source": [
    "## 1. Initial definitions of functions and other values"
   ]
  },
  {
   "cell_type": "code",
   "execution_count": 136,
   "metadata": {},
   "outputs": [],
   "source": [
    "COLOR_TYPES = {'Normal': '#9fa19f',\n",
    "               'Fighting': '#ff8101',\n",
    "               'Flying': '#81b9ef',\n",
    "               'Poison': '#9142cb',\n",
    "               'Ground': '#925122',\n",
    "               'Rock': '#a9af82',\n",
    "               'Bug': '#91a119',\n",
    "               'Ghost': '#714171',\n",
    "               'Steel': '#61a1b9',\n",
    "               'Fire': '#e72829',\n",
    "               'Water': '#2881f0',\n",
    "               'Grass': '#3fa22a',\n",
    "               'Electric': '#fac000',\n",
    "               'Psychic': '#f0417a',\n",
    "               'Ice': '#3fcdf3',\n",
    "               'Dragon': '#5060e2',\n",
    "               'Dark': '#624d4f',\n",
    "               'Fairy': '#ef71ef'\n",
    "               }\n",
    "\n",
    "NUM_GEN = data['Generation'].max()\n"
   ]
  },
  {
   "cell_type": "markdown",
   "metadata": {},
   "source": [
    "Let's understand the content of each file. Let's start with the training dataset"
   ]
  },
  {
   "cell_type": "code",
   "execution_count": 137,
   "metadata": {},
   "outputs": [
    {
     "name": "stdout",
     "output_type": "stream",
     "text": [
      "Pokémon dataset\n",
      "Number of rows: 1179, number of columns: 51\n",
      "Column names: Index(['DexNumber', 'Name', 'Type1', 'Type2', 'Ability1', 'Ability2',\n",
      "       'HiddenAbility', 'Generation', 'Hp', 'Attack', 'Defense',\n",
      "       'SpecialAttack', 'SpecialDefense', 'Speed', 'TotalStats', 'Weight',\n",
      "       'Height', 'GenderProbM', 'NoGender', 'Category', 'CatchRate',\n",
      "       'EggCycles', 'EggGroup1', 'EggGroup2', 'LevelingRate', 'BaseFriendship',\n",
      "       'IsLegendary', 'IsMythical', 'IsUltraBeast', 'HasMega', 'EvoStage',\n",
      "       'TotalEvoStages', 'PreevoName', 'DamageFromNormal',\n",
      "       'DamageFromFighting', 'DamageFromFlying', 'DamageFromPoison',\n",
      "       'DamageFromGround', 'DamageFromRock', 'DamageFromBug',\n",
      "       'DamageFromGhost', 'DamageFromSteel', 'DamageFromFire',\n",
      "       'DamageFromWater', 'DamageFromGrass', 'DamageFromElectric',\n",
      "       'DamageFromPsychic', 'DamageFromIce', 'DamageFromDragon',\n",
      "       'DamageFromDark', 'DamageFromFairy'],\n",
      "      dtype='object')\n",
      "Number of missing values: 0\n"
     ]
    }
   ],
   "source": [
    "print(\"Pokémon dataset\")\n",
    "print(f\"Number of rows: {data.shape[0]}, number of columns: {data.shape[1]}\")\n",
    "print(f\"Column names: {data.columns}\")\n",
    "print(f\"Number of missing values: {data.isna().sum().sum()}\")"
   ]
  },
  {
   "cell_type": "markdown",
   "metadata": {},
   "source": [
    "### Attribute information:\n",
    "\n",
    "1. **DexNumber**: Number of the Pokémon for the national dex\n",
    "2. **Name**: Name of the Pokémon\n",
    "3. **Type**: Pokémon's typing as a list\n",
    "4. **Abilities**: Pokémon's abilities as a list\n",
    "5. **Generation**: The generation where it was introduced\n",
    "6. **Hp**: Hp base stat\n",
    "7. **Attack**: Attack base stat\n",
    "8. **Defense**: Defense base stat\n",
    "9. **SpecialAttack**: Special attack base stat\n",
    "10. **SpecialDefense**: Special defense base stat\n",
    "11. **Speed**: Speed base stat\n",
    "12. **TotalStats**: Total stats (sum of the previous six stats)\n",
    "13. **Weight**: Weight in kg\n",
    "14. **Height**: Height in m\n",
    "15. **GenderProbM**: Probability of a Pokémon of that species being male (if it has unknown gender, it will be None)\n",
    "16. **Category**: Category of that Pokémon (some distinct Pokémons have the same categories, and it may vary between evolutions)\n",
    "17. **CatchRate**: Capture rate of that Pokémon\n",
    "18. **EggCycles**: Number of cycles (steps, the number of steps in each cycle varies among games) to hatch an egg of that Pokémon\n",
    "19. **EggGroup**: Egg Group(s) of that Pokémon\n",
    "20. **LevelingRate**: Class of the XP growth of that Pokémon\n",
    "21. **BaseFriendship**: Base friendship of that Pokémon\n",
    "22. **IsLegendary**: Denotes if it is a legendary pokemon\n",
    "23. **IsLegendary**: Denotes if it is a legendary pokemon\n",
    "24. **IsMythical**: Denotes if it is a mythical pokemon\n",
    "25. **IsUltraBeast**: Denotes if it is an ultra beast\n",
    "26. **HasMega**: Has a Mega evolution\n",
    "27. **EvoStage**: Evolution Stage of that Pokémon\n",
    "28. **TotalEvoStages**: Total evolution stages for that Pokémon\n",
    "29\n",
    "29. **DamageFrom(Type)**: Amount of damage taken for a specific attack type"
   ]
  },
  {
   "cell_type": "code",
   "execution_count": 138,
   "metadata": {},
   "outputs": [
    {
     "data": {
      "text/html": [
       "<div>\n",
       "<style scoped>\n",
       "    .dataframe tbody tr th:only-of-type {\n",
       "        vertical-align: middle;\n",
       "    }\n",
       "\n",
       "    .dataframe tbody tr th {\n",
       "        vertical-align: top;\n",
       "    }\n",
       "\n",
       "    .dataframe thead th {\n",
       "        text-align: right;\n",
       "    }\n",
       "</style>\n",
       "<table border=\"1\" class=\"dataframe\">\n",
       "  <thead>\n",
       "    <tr style=\"text-align: right;\">\n",
       "      <th></th>\n",
       "      <th>DexNumber</th>\n",
       "      <th>Generation</th>\n",
       "      <th>Hp</th>\n",
       "      <th>Attack</th>\n",
       "      <th>Defense</th>\n",
       "      <th>SpecialAttack</th>\n",
       "      <th>SpecialDefense</th>\n",
       "      <th>Speed</th>\n",
       "      <th>TotalStats</th>\n",
       "      <th>Weight</th>\n",
       "      <th>...</th>\n",
       "      <th>DamageFromSteel</th>\n",
       "      <th>DamageFromFire</th>\n",
       "      <th>DamageFromWater</th>\n",
       "      <th>DamageFromGrass</th>\n",
       "      <th>DamageFromElectric</th>\n",
       "      <th>DamageFromPsychic</th>\n",
       "      <th>DamageFromIce</th>\n",
       "      <th>DamageFromDragon</th>\n",
       "      <th>DamageFromDark</th>\n",
       "      <th>DamageFromFairy</th>\n",
       "    </tr>\n",
       "  </thead>\n",
       "  <tbody>\n",
       "    <tr>\n",
       "      <th>count</th>\n",
       "      <td>1179.000000</td>\n",
       "      <td>1179.000000</td>\n",
       "      <td>1179.000000</td>\n",
       "      <td>1179.000000</td>\n",
       "      <td>1179.000000</td>\n",
       "      <td>1179.000000</td>\n",
       "      <td>1179.000000</td>\n",
       "      <td>1179.000000</td>\n",
       "      <td>1179.000000</td>\n",
       "      <td>1179.000000</td>\n",
       "      <td>...</td>\n",
       "      <td>1179.000000</td>\n",
       "      <td>1179.000000</td>\n",
       "      <td>1179.000000</td>\n",
       "      <td>1179.000000</td>\n",
       "      <td>1179.000000</td>\n",
       "      <td>1179.000000</td>\n",
       "      <td>1179.000000</td>\n",
       "      <td>1179.000000</td>\n",
       "      <td>1179.000000</td>\n",
       "      <td>1179.000000</td>\n",
       "    </tr>\n",
       "    <tr>\n",
       "      <th>mean</th>\n",
       "      <td>514.177269</td>\n",
       "      <td>4.995759</td>\n",
       "      <td>70.823579</td>\n",
       "      <td>79.006785</td>\n",
       "      <td>73.095844</td>\n",
       "      <td>72.067006</td>\n",
       "      <td>71.787956</td>\n",
       "      <td>69.270568</td>\n",
       "      <td>442.075488</td>\n",
       "      <td>66.536811</td>\n",
       "      <td>...</td>\n",
       "      <td>0.995547</td>\n",
       "      <td>1.148007</td>\n",
       "      <td>1.051739</td>\n",
       "      <td>0.993215</td>\n",
       "      <td>1.038804</td>\n",
       "      <td>0.986005</td>\n",
       "      <td>1.201654</td>\n",
       "      <td>0.964801</td>\n",
       "      <td>1.058100</td>\n",
       "      <td>1.090331</td>\n",
       "    </tr>\n",
       "    <tr>\n",
       "      <th>std</th>\n",
       "      <td>296.629667</td>\n",
       "      <td>2.613628</td>\n",
       "      <td>26.485177</td>\n",
       "      <td>30.333040</td>\n",
       "      <td>28.848474</td>\n",
       "      <td>31.280072</td>\n",
       "      <td>27.198244</td>\n",
       "      <td>29.638923</td>\n",
       "      <td>122.726110</td>\n",
       "      <td>119.956411</td>\n",
       "      <td>...</td>\n",
       "      <td>0.514777</td>\n",
       "      <td>0.695027</td>\n",
       "      <td>0.595839</td>\n",
       "      <td>0.725956</td>\n",
       "      <td>0.632178</td>\n",
       "      <td>0.517945</td>\n",
       "      <td>0.736001</td>\n",
       "      <td>0.385199</td>\n",
       "      <td>0.454902</td>\n",
       "      <td>0.535065</td>\n",
       "    </tr>\n",
       "    <tr>\n",
       "      <th>min</th>\n",
       "      <td>1.000000</td>\n",
       "      <td>1.000000</td>\n",
       "      <td>1.000000</td>\n",
       "      <td>5.000000</td>\n",
       "      <td>5.000000</td>\n",
       "      <td>10.000000</td>\n",
       "      <td>20.000000</td>\n",
       "      <td>5.000000</td>\n",
       "      <td>180.000000</td>\n",
       "      <td>0.100000</td>\n",
       "      <td>...</td>\n",
       "      <td>0.250000</td>\n",
       "      <td>0.250000</td>\n",
       "      <td>0.250000</td>\n",
       "      <td>0.250000</td>\n",
       "      <td>0.000000</td>\n",
       "      <td>0.000000</td>\n",
       "      <td>0.250000</td>\n",
       "      <td>0.000000</td>\n",
       "      <td>0.250000</td>\n",
       "      <td>0.250000</td>\n",
       "    </tr>\n",
       "    <tr>\n",
       "      <th>25%</th>\n",
       "      <td>255.500000</td>\n",
       "      <td>3.000000</td>\n",
       "      <td>51.000000</td>\n",
       "      <td>55.000000</td>\n",
       "      <td>50.000000</td>\n",
       "      <td>50.000000</td>\n",
       "      <td>50.000000</td>\n",
       "      <td>45.000000</td>\n",
       "      <td>330.000000</td>\n",
       "      <td>8.350000</td>\n",
       "      <td>...</td>\n",
       "      <td>0.500000</td>\n",
       "      <td>0.500000</td>\n",
       "      <td>0.500000</td>\n",
       "      <td>0.500000</td>\n",
       "      <td>0.500000</td>\n",
       "      <td>1.000000</td>\n",
       "      <td>0.500000</td>\n",
       "      <td>1.000000</td>\n",
       "      <td>1.000000</td>\n",
       "      <td>1.000000</td>\n",
       "    </tr>\n",
       "    <tr>\n",
       "      <th>50%</th>\n",
       "      <td>525.000000</td>\n",
       "      <td>5.000000</td>\n",
       "      <td>70.000000</td>\n",
       "      <td>76.000000</td>\n",
       "      <td>70.000000</td>\n",
       "      <td>65.000000</td>\n",
       "      <td>70.000000</td>\n",
       "      <td>67.000000</td>\n",
       "      <td>464.000000</td>\n",
       "      <td>28.000000</td>\n",
       "      <td>...</td>\n",
       "      <td>1.000000</td>\n",
       "      <td>1.000000</td>\n",
       "      <td>1.000000</td>\n",
       "      <td>1.000000</td>\n",
       "      <td>1.000000</td>\n",
       "      <td>1.000000</td>\n",
       "      <td>1.000000</td>\n",
       "      <td>1.000000</td>\n",
       "      <td>1.000000</td>\n",
       "      <td>1.000000</td>\n",
       "    </tr>\n",
       "    <tr>\n",
       "      <th>75%</th>\n",
       "      <td>762.500000</td>\n",
       "      <td>7.000000</td>\n",
       "      <td>85.000000</td>\n",
       "      <td>100.000000</td>\n",
       "      <td>90.000000</td>\n",
       "      <td>95.000000</td>\n",
       "      <td>90.000000</td>\n",
       "      <td>90.000000</td>\n",
       "      <td>525.000000</td>\n",
       "      <td>70.750000</td>\n",
       "      <td>...</td>\n",
       "      <td>1.000000</td>\n",
       "      <td>2.000000</td>\n",
       "      <td>1.000000</td>\n",
       "      <td>1.000000</td>\n",
       "      <td>1.000000</td>\n",
       "      <td>1.000000</td>\n",
       "      <td>2.000000</td>\n",
       "      <td>1.000000</td>\n",
       "      <td>1.000000</td>\n",
       "      <td>1.000000</td>\n",
       "    </tr>\n",
       "    <tr>\n",
       "      <th>max</th>\n",
       "      <td>1025.000000</td>\n",
       "      <td>9.000000</td>\n",
       "      <td>255.000000</td>\n",
       "      <td>181.000000</td>\n",
       "      <td>230.000000</td>\n",
       "      <td>180.000000</td>\n",
       "      <td>230.000000</td>\n",
       "      <td>200.000000</td>\n",
       "      <td>1125.000000</td>\n",
       "      <td>999.900000</td>\n",
       "      <td>...</td>\n",
       "      <td>4.000000</td>\n",
       "      <td>4.000000</td>\n",
       "      <td>4.000000</td>\n",
       "      <td>4.000000</td>\n",
       "      <td>4.000000</td>\n",
       "      <td>4.000000</td>\n",
       "      <td>4.000000</td>\n",
       "      <td>2.000000</td>\n",
       "      <td>4.000000</td>\n",
       "      <td>4.000000</td>\n",
       "    </tr>\n",
       "  </tbody>\n",
       "</table>\n",
       "<p>8 rows × 40 columns</p>\n",
       "</div>"
      ],
      "text/plain": [
       "         DexNumber   Generation           Hp       Attack      Defense  \\\n",
       "count  1179.000000  1179.000000  1179.000000  1179.000000  1179.000000   \n",
       "mean    514.177269     4.995759    70.823579    79.006785    73.095844   \n",
       "std     296.629667     2.613628    26.485177    30.333040    28.848474   \n",
       "min       1.000000     1.000000     1.000000     5.000000     5.000000   \n",
       "25%     255.500000     3.000000    51.000000    55.000000    50.000000   \n",
       "50%     525.000000     5.000000    70.000000    76.000000    70.000000   \n",
       "75%     762.500000     7.000000    85.000000   100.000000    90.000000   \n",
       "max    1025.000000     9.000000   255.000000   181.000000   230.000000   \n",
       "\n",
       "       SpecialAttack  SpecialDefense        Speed   TotalStats       Weight  \\\n",
       "count    1179.000000     1179.000000  1179.000000  1179.000000  1179.000000   \n",
       "mean       72.067006       71.787956    69.270568   442.075488    66.536811   \n",
       "std        31.280072       27.198244    29.638923   122.726110   119.956411   \n",
       "min        10.000000       20.000000     5.000000   180.000000     0.100000   \n",
       "25%        50.000000       50.000000    45.000000   330.000000     8.350000   \n",
       "50%        65.000000       70.000000    67.000000   464.000000    28.000000   \n",
       "75%        95.000000       90.000000    90.000000   525.000000    70.750000   \n",
       "max       180.000000      230.000000   200.000000  1125.000000   999.900000   \n",
       "\n",
       "       ...  DamageFromSteel  DamageFromFire  DamageFromWater  DamageFromGrass  \\\n",
       "count  ...      1179.000000     1179.000000      1179.000000      1179.000000   \n",
       "mean   ...         0.995547        1.148007         1.051739         0.993215   \n",
       "std    ...         0.514777        0.695027         0.595839         0.725956   \n",
       "min    ...         0.250000        0.250000         0.250000         0.250000   \n",
       "25%    ...         0.500000        0.500000         0.500000         0.500000   \n",
       "50%    ...         1.000000        1.000000         1.000000         1.000000   \n",
       "75%    ...         1.000000        2.000000         1.000000         1.000000   \n",
       "max    ...         4.000000        4.000000         4.000000         4.000000   \n",
       "\n",
       "       DamageFromElectric  DamageFromPsychic  DamageFromIce  DamageFromDragon  \\\n",
       "count         1179.000000        1179.000000    1179.000000       1179.000000   \n",
       "mean             1.038804           0.986005       1.201654          0.964801   \n",
       "std              0.632178           0.517945       0.736001          0.385199   \n",
       "min              0.000000           0.000000       0.250000          0.000000   \n",
       "25%              0.500000           1.000000       0.500000          1.000000   \n",
       "50%              1.000000           1.000000       1.000000          1.000000   \n",
       "75%              1.000000           1.000000       2.000000          1.000000   \n",
       "max              4.000000           4.000000       4.000000          2.000000   \n",
       "\n",
       "       DamageFromDark  DamageFromFairy  \n",
       "count     1179.000000      1179.000000  \n",
       "mean         1.058100         1.090331  \n",
       "std          0.454902         0.535065  \n",
       "min          0.250000         0.250000  \n",
       "25%          1.000000         1.000000  \n",
       "50%          1.000000         1.000000  \n",
       "75%          1.000000         1.000000  \n",
       "max          4.000000         4.000000  \n",
       "\n",
       "[8 rows x 40 columns]"
      ]
     },
     "execution_count": 138,
     "metadata": {},
     "output_type": "execute_result"
    }
   ],
   "source": [
    "data.describe()"
   ]
  },
  {
   "cell_type": "markdown",
   "metadata": {},
   "source": [
    "# Gráficos a hacer"
   ]
  },
  {
   "cell_type": "markdown",
   "metadata": {},
   "source": [
    "- Heatmap de cantidad de Pokémon en función de sus tipos.\n",
    "- Stacked bar chart de tipos de Pokémon y cantidad a lo largo de las generaciones\n",
    "- Histograma de estadísticas en función del tipo del Pokémon\n",
    "- Bosque de evoluciones de Pokémons\n",
    "- Histograma sobre habilidades perteneciendo a líneas evolutivas distintas (cuántas habilidades sólo pertenecen a 1 línea evolutiva, cuántas a 2 líneas evolutivas....)"
   ]
  },
  {
   "cell_type": "markdown",
   "metadata": {},
   "source": [
    "# IA a hacer:\n",
    "- Predecir atributos binarios (legendario, mítico, tiene Mega, ultraente, nogender)\n",
    "- Intentar predecir el leveling rate como clasificación ordinal\n",
    "- PROYECTO, TIERS DE SMOGON"
   ]
  },
  {
   "cell_type": "markdown",
   "metadata": {},
   "source": [
    "## Heatmap of amount of Pokémon of each type combination."
   ]
  },
  {
   "cell_type": "code",
   "execution_count": 139,
   "metadata": {},
   "outputs": [
    {
     "data": {
      "image/png": "[encoded data removed]",
      "text/plain": [
       "<Figure size 600x480 with 2 Axes>"
      ]
     },
     "metadata": {},
     "output_type": "display_data"
    }
   ],
   "source": [
    "data[['Type1', 'Type2']]\n",
    "matrix = data.groupby(['Type1','Type2']).size().unstack(fill_value=0)\n",
    "matrix = matrix[color_types.keys()].loc[color_types.keys()]\n",
    "\n",
    "plt.title(\"Amount of Pokémon having each type combination.\\nValues in the main diagonal are those of Pokémon with only one type.\")\n",
    "sns.heatmap(matrix, annot=True, cmap='Blues')\n",
    "plt.ylabel(\"Primary Type\")\n",
    "plt.xlabel(\"Secondary Type\")\n",
    "plt.show()\n"
   ]
  },
  {
   "cell_type": "markdown",
   "metadata": {},
   "source": [
    "## Stacked bar chart with amount of Pokémon of each type across generations"
   ]
  },
  {
   "cell_type": "code",
   "execution_count": 140,
   "metadata": {},
   "outputs": [
    {
     "name": "stdout",
     "output_type": "stream",
     "text": [
      "Original series:\n",
      "level1  level2\n",
      "1       a         1\n",
      "        b         2\n",
      "2       a         3\n",
      "dtype: int64\n",
      "\n",
      "Converted DataFrame:\n",
      "   level1 level2  0\n",
      "0       1      a  1\n",
      "1       1      b  2\n",
      "2       2      a  3\n"
     ]
    }
   ],
   "source": [
    "# Sample multi-index series\n",
    "s = pd.Series([1, 2, 3], index=pd.MultiIndex.from_tuples([(1, 'a'), (1, 'b'), (2, 'a')], names=['level1', 'level2']))\n",
    "\n",
    "print(\"Original series:\")\n",
    "print(s)\n",
    "\n",
    "# Convert multi-index series to DataFrame\n",
    "df = s.reset_index()\n",
    "\n",
    "print(\"\\nConverted DataFrame:\")\n",
    "print(df)"
   ]
  },
  {
   "cell_type": "code",
   "execution_count": 180,
   "metadata": {},
   "outputs": [
    {
     "name": "stdout",
     "output_type": "stream",
     "text": [
      "     Generation     Type1  Count\n",
      "0             1     Water   14.0\n",
      "1             1    Normal   11.0\n",
      "2             1    Poison    7.0\n",
      "3             1       Bug    6.0\n",
      "4             1      Fire    6.0\n",
      "..          ...       ...    ...\n",
      "146           9    Ground    2.0\n",
      "147           9  Fighting    1.5\n",
      "148           9       Ice    1.5\n",
      "149           9    Flying    1.0\n",
      "150           9   Psychic    1.0\n",
      "\n",
      "[151 rows x 3 columns]      Generation    Type2  Count\n",
      "0             1   Poison   14.5\n",
      "1             1    Water   11.0\n",
      "2             1   Flying    9.5\n",
      "3             1  Psychic    6.5\n",
      "4             1   Ground    6.0\n",
      "..          ...      ...    ...\n",
      "151           9   Poison    2.5\n",
      "152           9     Rock    2.5\n",
      "153           9      Bug    2.0\n",
      "154           9    Fairy    2.0\n",
      "155           9   Ground    2.0\n",
      "\n",
      "[156 rows x 3 columns]\n",
      "     Generation    Type  Count\n",
      "0             1   Water   25.0\n",
      "1             1  Normal   17.0\n",
      "2             1  Poison   21.5\n",
      "3             1     Bug    7.5\n",
      "4             1    Fire   11.0\n",
      "..          ...     ...    ...\n",
      "157           3   Fairy    2.5\n",
      "158           4  Flying    8.0\n",
      "159           5   Fairy    1.0\n",
      "160           6  Ground    2.0\n",
      "161           7  Flying    6.0\n",
      "\n",
      "[162 rows x 3 columns]\n"
     ]
    }
   ],
   "source": [
    "d1 = data.groupby('Generation')['Type1'].value_counts().reset_index(name ='Count')\n",
    "d2 = data.groupby('Generation')['Type2'].value_counts().reset_index(name ='Count')\n",
    "d1['Count'] = d1['Count'] * 0.5\n",
    "d2['Count'] = d2['Count'] * 0.5\n",
    "\n",
    "sum_d = d1.copy()\n",
    "sum_d = sum_d.rename({'Type1': 'Type'}, axis=1)\n",
    "\n",
    "for gen in range(1, NUM_GEN+1):\n",
    "    for type in COLOR_TYPES.keys():\n",
    "        #print(gen, type)\n",
    "        #print(sum_d.loc[(sum_d[\"Type\"] == type) & (sum_d[\"Generation\"] == gen), 'Count'])\n",
    "        #print(d2.loc[(d2[\"Type2\"] == type) & (d2[\"Generation\"] == gen), 'Count'])\n",
    "        if sum_d.loc[(sum_d[\"Type\"] == type) & (sum_d[\"Generation\"] == gen), 'Count'].empty:\n",
    "            sum_d.loc[len(sum_d.index)] = [gen, type, 0.0]\n",
    "        if not d2.loc[(d2[\"Type2\"] == type) & (d2[\"Generation\"] == gen), 'Count'].empty:\n",
    "            sum_d.loc[(sum_d[\"Type\"] == type) & (sum_d[\"Generation\"] == gen), 'Count'] += d2.loc[(d2[\"Type2\"] == type) & (d2[\"Generation\"] == gen), 'Count'].values[0]\n",
    "        #print(sum_d.loc[(sum_d[\"Type\"] == type) & (sum_d[\"Generation\"] == gen), 'Count'])\n",
    "print(d1, d2)\n",
    "print(sum_d)"
   ]
  },
  {
   "cell_type": "code",
   "execution_count": 207,
   "metadata": {},
   "outputs": [
    {
     "data": {
      "application/vnd.plotly.v1+json": {
       "config": {
        "plotlyServerURL": "https://plot.ly"
       },
       "data": [
        {
         "alignmentgroup": "True",
         "bingroup": "x",
         "histfunc": "sum",
         "hovertemplate": "Type=Water<br>Generation=%{x}<br>sum of Count=%{y}<extra></extra>",
         "legendgroup": "Water",
         "marker": {
          "color": "#2881f0",
          "pattern": {
           "shape": ""
          }
         },
         "name": "Water",
         "offsetgroup": "Water",
         "orientation": "v",
         "showlegend": true,
         "type": "histogram",
         "x": [
          1,
          2,
          3,
          4,
          5,
          6,
          7,
          8,
          9
         ],
         "xaxis": "x",
         "y": [
          25,
          12.5,
          20.5,
          14,
          14,
          6.5,
          9.5,
          12,
          12
         ],
         "yaxis": "y"
        },
        {
         "alignmentgroup": "True",
         "bingroup": "x",
         "histfunc": "sum",
         "hovertemplate": "Type=Normal<br>Generation=%{x}<br>sum of Count=%{y}<extra></extra>",
         "legendgroup": "Normal",
         "marker": {
          "color": "#9fa19f",
          "pattern": {
           "shape": ""
          }
         },
         "name": "Normal",
         "offsetgroup": "Normal",
         "orientation": "v",
         "showlegend": true,
         "type": "histogram",
         "x": [
          1,
          2,
          3,
          4,
          5,
          6,
          7,
          8,
          9
         ],
         "xaxis": "x",
         "y": [
          17,
          13,
          16,
          14.5,
          16.5,
          5,
          9.5,
          9,
          16.5
         ],
         "yaxis": "y"
        },
        {
         "alignmentgroup": "True",
         "bingroup": "x",
         "histfunc": "sum",
         "hovertemplate": "Type=Poison<br>Generation=%{x}<br>sum of Count=%{y}<extra></extra>",
         "legendgroup": "Poison",
         "marker": {
          "color": "#9142cb",
          "pattern": {
           "shape": ""
          }
         },
         "name": "Poison",
         "offsetgroup": "Poison",
         "orientation": "v",
         "showlegend": true,
         "type": "histogram",
         "x": [
          1,
          2,
          3,
          4,
          5,
          6,
          7,
          8,
          9
         ],
         "xaxis": "x",
         "y": [
          21.5,
          2,
          4,
          4,
          4.5,
          1,
          5,
          5.5,
          6.5
         ],
         "yaxis": "y"
        },
        {
         "alignmentgroup": "True",
         "bingroup": "x",
         "histfunc": "sum",
         "hovertemplate": "Type=Bug<br>Generation=%{x}<br>sum of Count=%{y}<extra></extra>",
         "legendgroup": "Bug",
         "marker": {
          "color": "#91a119",
          "pattern": {
           "shape": ""
          }
         },
         "name": "Bug",
         "offsetgroup": "Bug",
         "orientation": "v",
         "showlegend": true,
         "type": "histogram",
         "x": [
          1,
          2,
          3,
          4,
          5,
          6,
          7,
          8,
          9
         ],
         "xaxis": "x",
         "y": [
          7.5,
          5.5,
          9.5,
          9,
          12.5,
          2.5,
          6,
          4.5,
          5.5
         ],
         "yaxis": "y"
        },
        {
         "alignmentgroup": "True",
         "bingroup": "x",
         "histfunc": "sum",
         "hovertemplate": "Type=Fire<br>Generation=%{x}<br>sum of Count=%{y}<extra></extra>",
         "legendgroup": "Fire",
         "marker": {
          "color": "#e72829",
          "pattern": {
           "shape": ""
          }
         },
         "name": "Fire",
         "offsetgroup": "Fire",
         "orientation": "v",
         "showlegend": true,
         "type": "histogram",
         "x": [
          1,
          2,
          3,
          4,
          5,
          6,
          7,
          8,
          9
         ],
         "xaxis": "x",
         "y": [
          11,
          8,
          5,
          4,
          12,
          5,
          6,
          7.5,
          7
         ],
         "yaxis": "y"
        },
        {
         "alignmentgroup": "True",
         "bingroup": "x",
         "histfunc": "sum",
         "hovertemplate": "Type=Grass<br>Generation=%{x}<br>sum of Count=%{y}<extra></extra>",
         "legendgroup": "Grass",
         "marker": {
          "color": "#3fa22a",
          "pattern": {
           "shape": ""
          }
         },
         "name": "Grass",
         "offsetgroup": "Grass",
         "orientation": "v",
         "showlegend": true,
         "type": "histogram",
         "x": [
          1,
          2,
          3,
          4,
          5,
          6,
          7,
          8,
          9
         ],
         "xaxis": "x",
         "y": [
          7.5,
          8,
          11.5,
          13,
          17,
          6.5,
          9.5,
          10.5,
          13.5
         ],
         "yaxis": "y"
        },
        {
         "alignmentgroup": "True",
         "bingroup": "x",
         "histfunc": "sum",
         "hovertemplate": "Type=Electric<br>Generation=%{x}<br>sum of Count=%{y}<extra></extra>",
         "legendgroup": "Electric",
         "marker": {
          "color": "#fac000",
          "pattern": {
           "shape": ""
          }
         },
         "name": "Electric",
         "offsetgroup": "Electric",
         "orientation": "v",
         "showlegend": true,
         "type": "histogram",
         "x": [
          1,
          2,
          3,
          4,
          5,
          6,
          7,
          8,
          9
         ],
         "xaxis": "x",
         "y": [
          7.5,
          7,
          4,
          8.5,
          8.5,
          1.5,
          6.5,
          8.5,
          7.5
         ],
         "yaxis": "y"
        },
        {
         "alignmentgroup": "True",
         "bingroup": "x",
         "histfunc": "sum",
         "hovertemplate": "Type=Rock<br>Generation=%{x}<br>sum of Count=%{y}<extra></extra>",
         "legendgroup": "Rock",
         "marker": {
          "color": "#a9af82",
          "pattern": {
           "shape": ""
          }
         },
         "name": "Rock",
         "offsetgroup": "Rock",
         "orientation": "v",
         "showlegend": true,
         "type": "histogram",
         "x": [
          1,
          2,
          3,
          4,
          5,
          6,
          7,
          8,
          9
         ],
         "xaxis": "x",
         "y": [
          5.5,
          4,
          7,
          5,
          6.5,
          4,
          7.5,
          5.5,
          6.5
         ],
         "yaxis": "y"
        },
        {
         "alignmentgroup": "True",
         "bingroup": "x",
         "histfunc": "sum",
         "hovertemplate": "Type=Ground<br>Generation=%{x}<br>sum of Count=%{y}<extra></extra>",
         "legendgroup": "Ground",
         "marker": {
          "color": "#925122",
          "pattern": {
           "shape": ""
          }
         },
         "name": "Ground",
         "offsetgroup": "Ground",
         "orientation": "v",
         "showlegend": true,
         "type": "histogram",
         "x": [
          1,
          2,
          3,
          4,
          5,
          7,
          8,
          9,
          6
         ],
         "xaxis": "x",
         "y": [
          10,
          6,
          7.5,
          7,
          6.5,
          4,
          4.5,
          4,
          2
         ],
         "yaxis": "y"
        },
        {
         "alignmentgroup": "True",
         "bingroup": "x",
         "histfunc": "sum",
         "hovertemplate": "Type=Psychic<br>Generation=%{x}<br>sum of Count=%{y}<extra></extra>",
         "legendgroup": "Psychic",
         "marker": {
          "color": "#f0417a",
          "pattern": {
           "shape": ""
          }
         },
         "name": "Psychic",
         "offsetgroup": "Psychic",
         "orientation": "v",
         "showlegend": true,
         "type": "histogram",
         "x": [
          1,
          2,
          3,
          4,
          5,
          6,
          7,
          8,
          9
         ],
         "xaxis": "x",
         "y": [
          10.5,
          6.5,
          15.5,
          7,
          13,
          5.5,
          8,
          12,
          6.5
         ],
         "yaxis": "y"
        },
        {
         "alignmentgroup": "True",
         "bingroup": "x",
         "histfunc": "sum",
         "hovertemplate": "Type=Fighting<br>Generation=%{x}<br>sum of Count=%{y}<extra></extra>",
         "legendgroup": "Fighting",
         "marker": {
          "color": "#ff8101",
          "pattern": {
           "shape": ""
          }
         },
         "name": "Fighting",
         "offsetgroup": "Fighting",
         "orientation": "v",
         "showlegend": true,
         "type": "histogram",
         "x": [
          1,
          2,
          3,
          4,
          5,
          6,
          7,
          8,
          9
         ],
         "xaxis": "x",
         "y": [
          7.5,
          2.5,
          4.5,
          4,
          12,
          2.5,
          6,
          11,
          5.5
         ],
         "yaxis": "y"
        },
        {
         "alignmentgroup": "True",
         "bingroup": "x",
         "histfunc": "sum",
         "hovertemplate": "Type=Dragon<br>Generation=%{x}<br>sum of Count=%{y}<extra></extra>",
         "legendgroup": "Dragon",
         "marker": {
          "color": "#5060e2",
          "pattern": {
           "shape": ""
          }
         },
         "name": "Dragon",
         "offsetgroup": "Dragon",
         "orientation": "v",
         "showlegend": true,
         "type": "histogram",
         "x": [
          1,
          3,
          4,
          5,
          6,
          7,
          8,
          9,
          2
         ],
         "xaxis": "x",
         "y": [
          2.5,
          5.5,
          4.5,
          8,
          7,
          4.5,
          7,
          8,
          0.5
         ],
         "yaxis": "y"
        },
        {
         "alignmentgroup": "True",
         "bingroup": "x",
         "histfunc": "sum",
         "hovertemplate": "Type=Ghost<br>Generation=%{x}<br>sum of Count=%{y}<extra></extra>",
         "legendgroup": "Ghost",
         "marker": {
          "color": "#714171",
          "pattern": {
           "shape": ""
          }
         },
         "name": "Ghost",
         "offsetgroup": "Ghost",
         "orientation": "v",
         "showlegend": true,
         "type": "histogram",
         "x": [
          1,
          2,
          3,
          4,
          5,
          6,
          7,
          8,
          9
         ],
         "xaxis": "x",
         "y": [
          1.5,
          1,
          5,
          5.5,
          5.5,
          4.5,
          5.5,
          10,
          9
         ],
         "yaxis": "y"
        },
        {
         "alignmentgroup": "True",
         "bingroup": "x",
         "histfunc": "sum",
         "hovertemplate": "Type=Fairy<br>Generation=%{x}<br>sum of Count=%{y}<extra></extra>",
         "legendgroup": "Fairy",
         "marker": {
          "color": "#ef71ef",
          "pattern": {
           "shape": ""
          }
         },
         "name": "Fairy",
         "offsetgroup": "Fairy",
         "orientation": "v",
         "showlegend": true,
         "type": "histogram",
         "x": [
          1,
          2,
          4,
          6,
          7,
          8,
          9,
          3,
          5
         ],
         "xaxis": "x",
         "y": [
          3.5,
          6,
          1,
          24,
          7.5,
          7.5,
          5.5,
          2.5,
          1
         ],
         "yaxis": "y"
        },
        {
         "alignmentgroup": "True",
         "bingroup": "x",
         "histfunc": "sum",
         "hovertemplate": "Type=Ice<br>Generation=%{x}<br>sum of Count=%{y}<extra></extra>",
         "legendgroup": "Ice",
         "marker": {
          "color": "#3fcdf3",
          "pattern": {
           "shape": ""
          }
         },
         "name": "Ice",
         "offsetgroup": "Ice",
         "orientation": "v",
         "showlegend": true,
         "type": "histogram",
         "x": [
          1,
          2,
          3,
          4,
          5,
          6,
          7,
          8,
          9
         ],
         "xaxis": "x",
         "y": [
          2.5,
          2.5,
          5.5,
          4,
          7.5,
          3,
          3,
          7.5,
          4.5
         ],
         "yaxis": "y"
        },
        {
         "alignmentgroup": "True",
         "bingroup": "x",
         "histfunc": "sum",
         "hovertemplate": "Type=Dark<br>Generation=%{x}<br>sum of Count=%{y}<extra></extra>",
         "legendgroup": "Dark",
         "marker": {
          "color": "#624d4f",
          "pattern": {
           "shape": ""
          }
         },
         "name": "Dark",
         "offsetgroup": "Dark",
         "orientation": "v",
         "showlegend": true,
         "type": "histogram",
         "x": [
          2,
          3,
          4,
          5,
          6,
          7,
          8,
          9,
          1
         ],
         "xaxis": "x",
         "y": [
          3.5,
          6.5,
          4,
          10,
          3,
          5,
          9,
          7.5,
          0
         ],
         "yaxis": "y"
        },
        {
         "alignmentgroup": "True",
         "bingroup": "x",
         "histfunc": "sum",
         "hovertemplate": "Type=Steel<br>Generation=%{x}<br>sum of Count=%{y}<extra></extra>",
         "legendgroup": "Steel",
         "marker": {
          "color": "#61a1b9",
          "pattern": {
           "shape": ""
          }
         },
         "name": "Steel",
         "offsetgroup": "Steel",
         "orientation": "v",
         "showlegend": true,
         "type": "histogram",
         "x": [
          2,
          3,
          4,
          5,
          6,
          7,
          8,
          9,
          1
         ],
         "xaxis": "x",
         "y": [
          2,
          5,
          6,
          9.5,
          2.5,
          7,
          7.5,
          6,
          1
         ],
         "yaxis": "y"
        },
        {
         "alignmentgroup": "True",
         "bingroup": "x",
         "histfunc": "sum",
         "hovertemplate": "Type=Flying<br>Generation=%{x}<br>sum of Count=%{y}<extra></extra>",
         "legendgroup": "Flying",
         "marker": {
          "color": "#81b9ef",
          "pattern": {
           "shape": ""
          }
         },
         "name": "Flying",
         "offsetgroup": "Flying",
         "orientation": "v",
         "showlegend": true,
         "type": "histogram",
         "x": [
          5,
          6,
          8,
          9,
          1,
          2,
          3,
          4,
          7
         ],
         "xaxis": "x",
         "y": [
          11.5,
          4,
          7,
          4.5,
          9.5,
          9.5,
          6,
          8,
          6
         ],
         "yaxis": "y"
        }
       ],
       "layout": {
        "bargap": 0,
        "barmode": "relative",
        "legend": {
         "title": {
          "text": "Type"
         },
         "tracegroupgap": 0
        },
        "template": {
         "data": {
          "bar": [
           {
            "error_x": {
             "color": "#2a3f5f"
            },
            "error_y": {
             "color": "#2a3f5f"
            },
            "marker": {
             "line": {
              "color": "#E5ECF6",
              "width": 0.5
             },
             "pattern": {
              "fillmode": "overlay",
              "size": 10,
              "solidity": 0.2
             }
            },
            "type": "bar"
           }
          ],
          "barpolar": [
           {
            "marker": {
             "line": {
              "color": "#E5ECF6",
              "width": 0.5
             },
             "pattern": {
              "fillmode": "overlay",
              "size": 10,
              "solidity": 0.2
             }
            },
            "type": "barpolar"
           }
          ],
          "carpet": [
           {
            "aaxis": {
             "endlinecolor": "#2a3f5f",
             "gridcolor": "white",
             "linecolor": "white",
             "minorgridcolor": "white",
             "startlinecolor": "#2a3f5f"
            },
            "baxis": {
             "endlinecolor": "#2a3f5f",
             "gridcolor": "white",
             "linecolor": "white",
             "minorgridcolor": "white",
             "startlinecolor": "#2a3f5f"
            },
            "type": "carpet"
           }
          ],
          "choropleth": [
           {
            "colorbar": {
             "outlinewidth": 0,
             "ticks": ""
            },
            "type": "choropleth"
           }
          ],
          "contour": [
           {
            "colorbar": {
             "outlinewidth": 0,
             "ticks": ""
            },
            "colorscale": [
             [
              0,
              "#0d0887"
             ],
             [
              0.1111111111111111,
              "#46039f"
             ],
             [
              0.2222222222222222,
              "#7201a8"
             ],
             [
              0.3333333333333333,
              "#9c179e"
             ],
             [
              0.4444444444444444,
              "#bd3786"
             ],
             [
              0.5555555555555556,
              "#d8576b"
             ],
             [
              0.6666666666666666,
              "#ed7953"
             ],
             [
              0.7777777777777778,
              "#fb9f3a"
             ],
             [
              0.8888888888888888,
              "#fdca26"
             ],
             [
              1,
              "#f0f921"
             ]
            ],
            "type": "contour"
           }
          ],
          "contourcarpet": [
           {
            "colorbar": {
             "outlinewidth": 0,
             "ticks": ""
            },
            "type": "contourcarpet"
           }
          ],
          "heatmap": [
           {
            "colorbar": {
             "outlinewidth": 0,
             "ticks": ""
            },
            "colorscale": [
             [
              0,
              "#0d0887"
             ],
             [
              0.1111111111111111,
              "#46039f"
             ],
             [
              0.2222222222222222,
              "#7201a8"
             ],
             [
              0.3333333333333333,
              "#9c179e"
             ],
             [
              0.4444444444444444,
              "#bd3786"
             ],
             [
              0.5555555555555556,
              "#d8576b"
             ],
             [
              0.6666666666666666,
              "#ed7953"
             ],
             [
              0.7777777777777778,
              "#fb9f3a"
             ],
             [
              0.8888888888888888,
              "#fdca26"
             ],
             [
              1,
              "#f0f921"
             ]
            ],
            "type": "heatmap"
           }
          ],
          "heatmapgl": [
           {
            "colorbar": {
             "outlinewidth": 0,
             "ticks": ""
            },
            "colorscale": [
             [
              0,
              "#0d0887"
             ],
             [
              0.1111111111111111,
              "#46039f"
             ],
             [
              0.2222222222222222,
              "#7201a8"
             ],
             [
              0.3333333333333333,
              "#9c179e"
             ],
             [
              0.4444444444444444,
              "#bd3786"
             ],
             [
              0.5555555555555556,
              "#d8576b"
             ],
             [
              0.6666666666666666,
              "#ed7953"
             ],
             [
              0.7777777777777778,
              "#fb9f3a"
             ],
             [
              0.8888888888888888,
              "#fdca26"
             ],
             [
              1,
              "#f0f921"
             ]
            ],
            "type": "heatmapgl"
           }
          ],
          "histogram": [
           {
            "marker": {
             "pattern": {
              "fillmode": "overlay",
              "size": 10,
              "solidity": 0.2
             }
            },
            "type": "histogram"
           }
          ],
          "histogram2d": [
           {
            "colorbar": {
             "outlinewidth": 0,
             "ticks": ""
            },
            "colorscale": [
             [
              0,
              "#0d0887"
             ],
             [
              0.1111111111111111,
              "#46039f"
             ],
             [
              0.2222222222222222,
              "#7201a8"
             ],
             [
              0.3333333333333333,
              "#9c179e"
             ],
             [
              0.4444444444444444,
              "#bd3786"
             ],
             [
              0.5555555555555556,
              "#d8576b"
             ],
             [
              0.6666666666666666,
              "#ed7953"
             ],
             [
              0.7777777777777778,
              "#fb9f3a"
             ],
             [
              0.8888888888888888,
              "#fdca26"
             ],
             [
              1,
              "#f0f921"
             ]
            ],
            "type": "histogram2d"
           }
          ],
          "histogram2dcontour": [
           {
            "colorbar": {
             "outlinewidth": 0,
             "ticks": ""
            },
            "colorscale": [
             [
              0,
              "#0d0887"
             ],
             [
              0.1111111111111111,
              "#46039f"
             ],
             [
              0.2222222222222222,
              "#7201a8"
             ],
             [
              0.3333333333333333,
              "#9c179e"
             ],
             [
              0.4444444444444444,
              "#bd3786"
             ],
             [
              0.5555555555555556,
              "#d8576b"
             ],
             [
              0.6666666666666666,
              "#ed7953"
             ],
             [
              0.7777777777777778,
              "#fb9f3a"
             ],
             [
              0.8888888888888888,
              "#fdca26"
             ],
             [
              1,
              "#f0f921"
             ]
            ],
            "type": "histogram2dcontour"
           }
          ],
          "mesh3d": [
           {
            "colorbar": {
             "outlinewidth": 0,
             "ticks": ""
            },
            "type": "mesh3d"
           }
          ],
          "parcoords": [
           {
            "line": {
             "colorbar": {
              "outlinewidth": 0,
              "ticks": ""
             }
            },
            "type": "parcoords"
           }
          ],
          "pie": [
           {
            "automargin": true,
            "type": "pie"
           }
          ],
          "scatter": [
           {
            "marker": {
             "colorbar": {
              "outlinewidth": 0,
              "ticks": ""
             }
            },
            "type": "scatter"
           }
          ],
          "scatter3d": [
           {
            "line": {
             "colorbar": {
              "outlinewidth": 0,
              "ticks": ""
             }
            },
            "marker": {
             "colorbar": {
              "outlinewidth": 0,
              "ticks": ""
             }
            },
            "type": "scatter3d"
           }
          ],
          "scattercarpet": [
           {
            "marker": {
             "colorbar": {
              "outlinewidth": 0,
              "ticks": ""
             }
            },
            "type": "scattercarpet"
           }
          ],
          "scattergeo": [
           {
            "marker": {
             "colorbar": {
              "outlinewidth": 0,
              "ticks": ""
             }
            },
            "type": "scattergeo"
           }
          ],
          "scattergl": [
           {
            "marker": {
             "colorbar": {
              "outlinewidth": 0,
              "ticks": ""
             }
            },
            "type": "scattergl"
           }
          ],
          "scattermapbox": [
           {
            "marker": {
             "colorbar": {
              "outlinewidth": 0,
              "ticks": ""
             }
            },
            "type": "scattermapbox"
           }
          ],
          "scatterpolar": [
           {
            "marker": {
             "colorbar": {
              "outlinewidth": 0,
              "ticks": ""
             }
            },
            "type": "scatterpolar"
           }
          ],
          "scatterpolargl": [
           {
            "marker": {
             "colorbar": {
              "outlinewidth": 0,
              "ticks": ""
             }
            },
            "type": "scatterpolargl"
           }
          ],
          "scatterternary": [
           {
            "marker": {
             "colorbar": {
              "outlinewidth": 0,
              "ticks": ""
             }
            },
            "type": "scatterternary"
           }
          ],
          "surface": [
           {
            "colorbar": {
             "outlinewidth": 0,
             "ticks": ""
            },
            "colorscale": [
             [
              0,
              "#0d0887"
             ],
             [
              0.1111111111111111,
              "#46039f"
             ],
             [
              0.2222222222222222,
              "#7201a8"
             ],
             [
              0.3333333333333333,
              "#9c179e"
             ],
             [
              0.4444444444444444,
              "#bd3786"
             ],
             [
              0.5555555555555556,
              "#d8576b"
             ],
             [
              0.6666666666666666,
              "#ed7953"
             ],
             [
              0.7777777777777778,
              "#fb9f3a"
             ],
             [
              0.8888888888888888,
              "#fdca26"
             ],
             [
              1,
              "#f0f921"
             ]
            ],
            "type": "surface"
           }
          ],
          "table": [
           {
            "cells": {
             "fill": {
              "color": "#EBF0F8"
             },
             "line": {
              "color": "white"
             }
            },
            "header": {
             "fill": {
              "color": "#C8D4E3"
             },
             "line": {
              "color": "white"
             }
            },
            "type": "table"
           }
          ]
         },
         "layout": {
          "annotationdefaults": {
           "arrowcolor": "#2a3f5f",
           "arrowhead": 0,
           "arrowwidth": 1
          },
          "autotypenumbers": "strict",
          "coloraxis": {
           "colorbar": {
            "outlinewidth": 0,
            "ticks": ""
           }
          },
          "colorscale": {
           "diverging": [
            [
             0,
             "#8e0152"
            ],
            [
             0.1,
             "#c51b7d"
            ],
            [
             0.2,
             "#de77ae"
            ],
            [
             0.3,
             "#f1b6da"
            ],
            [
             0.4,
             "#fde0ef"
            ],
            [
             0.5,
             "#f7f7f7"
            ],
            [
             0.6,
             "#e6f5d0"
            ],
            [
             0.7,
             "#b8e186"
            ],
            [
             0.8,
             "#7fbc41"
            ],
            [
             0.9,
             "#4d9221"
            ],
            [
             1,
             "#276419"
            ]
           ],
           "sequential": [
            [
             0,
             "#0d0887"
            ],
            [
             0.1111111111111111,
             "#46039f"
            ],
            [
             0.2222222222222222,
             "#7201a8"
            ],
            [
             0.3333333333333333,
             "#9c179e"
            ],
            [
             0.4444444444444444,
             "#bd3786"
            ],
            [
             0.5555555555555556,
             "#d8576b"
            ],
            [
             0.6666666666666666,
             "#ed7953"
            ],
            [
             0.7777777777777778,
             "#fb9f3a"
            ],
            [
             0.8888888888888888,
             "#fdca26"
            ],
            [
             1,
             "#f0f921"
            ]
           ],
           "sequentialminus": [
            [
             0,
             "#0d0887"
            ],
            [
             0.1111111111111111,
             "#46039f"
            ],
            [
             0.2222222222222222,
             "#7201a8"
            ],
            [
             0.3333333333333333,
             "#9c179e"
            ],
            [
             0.4444444444444444,
             "#bd3786"
            ],
            [
             0.5555555555555556,
             "#d8576b"
            ],
            [
             0.6666666666666666,
             "#ed7953"
            ],
            [
             0.7777777777777778,
             "#fb9f3a"
            ],
            [
             0.8888888888888888,
             "#fdca26"
            ],
            [
             1,
             "#f0f921"
            ]
           ]
          },
          "colorway": [
           "#636efa",
           "#EF553B",
           "#00cc96",
           "#ab63fa",
           "#FFA15A",
           "#19d3f3",
           "#FF6692",
           "#B6E880",
           "#FF97FF",
           "#FECB52"
          ],
          "font": {
           "color": "#2a3f5f"
          },
          "geo": {
           "bgcolor": "white",
           "lakecolor": "white",
           "landcolor": "#E5ECF6",
           "showlakes": true,
           "showland": true,
           "subunitcolor": "white"
          },
          "hoverlabel": {
           "align": "left"
          },
          "hovermode": "closest",
          "mapbox": {
           "style": "light"
          },
          "paper_bgcolor": "white",
          "plot_bgcolor": "#E5ECF6",
          "polar": {
           "angularaxis": {
            "gridcolor": "white",
            "linecolor": "white",
            "ticks": ""
           },
           "bgcolor": "#E5ECF6",
           "radialaxis": {
            "gridcolor": "white",
            "linecolor": "white",
            "ticks": ""
           }
          },
          "scene": {
           "xaxis": {
            "backgroundcolor": "#E5ECF6",
            "gridcolor": "white",
            "gridwidth": 2,
            "linecolor": "white",
            "showbackground": true,
            "ticks": "",
            "zerolinecolor": "white"
           },
           "yaxis": {
            "backgroundcolor": "#E5ECF6",
            "gridcolor": "white",
            "gridwidth": 2,
            "linecolor": "white",
            "showbackground": true,
            "ticks": "",
            "zerolinecolor": "white"
           },
           "zaxis": {
            "backgroundcolor": "#E5ECF6",
            "gridcolor": "white",
            "gridwidth": 2,
            "linecolor": "white",
            "showbackground": true,
            "ticks": "",
            "zerolinecolor": "white"
           }
          },
          "shapedefaults": {
           "line": {
            "color": "#2a3f5f"
           }
          },
          "ternary": {
           "aaxis": {
            "gridcolor": "white",
            "linecolor": "white",
            "ticks": ""
           },
           "baxis": {
            "gridcolor": "white",
            "linecolor": "white",
            "ticks": ""
           },
           "bgcolor": "#E5ECF6",
           "caxis": {
            "gridcolor": "white",
            "linecolor": "white",
            "ticks": ""
           }
          },
          "title": {
           "x": 0.05
          },
          "xaxis": {
           "automargin": true,
           "gridcolor": "white",
           "linecolor": "white",
           "ticks": "",
           "title": {
            "standoff": 15
           },
           "zerolinecolor": "white",
           "zerolinewidth": 2
          },
          "yaxis": {
           "automargin": true,
           "gridcolor": "white",
           "linecolor": "white",
           "ticks": "",
           "title": {
            "standoff": 15
           },
           "zerolinecolor": "white",
           "zerolinewidth": 2
          }
         }
        },
        "title": {
         "text": "Wide-Form Input"
        },
        "xaxis": {
         "anchor": "y",
         "domain": [
          0,
          1
         ],
         "title": {
          "text": "Generation"
         }
        },
        "yaxis": {
         "anchor": "x",
         "domain": [
          0,
          1
         ],
         "title": {
          "text": "sum of Count"
         }
        }
       }
      }
     },
     "metadata": {},
     "output_type": "display_data"
    },
    {
     "data": {
      "application/vnd.plotly.v1+json": {
       "config": {
        "plotlyServerURL": "https://plot.ly"
       },
       "data": [
        {
         "alignmentgroup": "True",
         "bingroup": "x",
         "histfunc": "sum",
         "hovertemplate": "Type=Water<br>Generation=%{x}<br>sum of Count (normalized as percent)=%{y}<extra></extra>",
         "legendgroup": "Water",
         "marker": {
          "color": "#2881f0",
          "pattern": {
           "shape": ""
          }
         },
         "name": "Water",
         "offsetgroup": "Water",
         "orientation": "v",
         "showlegend": true,
         "type": "histogram",
         "x": [
          1,
          2,
          3,
          4,
          5,
          6,
          7,
          8,
          9
         ],
         "xaxis": "x",
         "y": [
          25,
          12.5,
          20.5,
          14,
          14,
          6.5,
          9.5,
          12,
          12
         ],
         "yaxis": "y"
        },
        {
         "alignmentgroup": "True",
         "bingroup": "x",
         "histfunc": "sum",
         "hovertemplate": "Type=Normal<br>Generation=%{x}<br>sum of Count (normalized as percent)=%{y}<extra></extra>",
         "legendgroup": "Normal",
         "marker": {
          "color": "#9fa19f",
          "pattern": {
           "shape": ""
          }
         },
         "name": "Normal",
         "offsetgroup": "Normal",
         "orientation": "v",
         "showlegend": true,
         "type": "histogram",
         "x": [
          1,
          2,
          3,
          4,
          5,
          6,
          7,
          8,
          9
         ],
         "xaxis": "x",
         "y": [
          17,
          13,
          16,
          14.5,
          16.5,
          5,
          9.5,
          9,
          16.5
         ],
         "yaxis": "y"
        },
        {
         "alignmentgroup": "True",
         "bingroup": "x",
         "histfunc": "sum",
         "hovertemplate": "Type=Poison<br>Generation=%{x}<br>sum of Count (normalized as percent)=%{y}<extra></extra>",
         "legendgroup": "Poison",
         "marker": {
          "color": "#9142cb",
          "pattern": {
           "shape": ""
          }
         },
         "name": "Poison",
         "offsetgroup": "Poison",
         "orientation": "v",
         "showlegend": true,
         "type": "histogram",
         "x": [
          1,
          2,
          3,
          4,
          5,
          6,
          7,
          8,
          9
         ],
         "xaxis": "x",
         "y": [
          21.5,
          2,
          4,
          4,
          4.5,
          1,
          5,
          5.5,
          6.5
         ],
         "yaxis": "y"
        },
        {
         "alignmentgroup": "True",
         "bingroup": "x",
         "histfunc": "sum",
         "hovertemplate": "Type=Bug<br>Generation=%{x}<br>sum of Count (normalized as percent)=%{y}<extra></extra>",
         "legendgroup": "Bug",
         "marker": {
          "color": "#91a119",
          "pattern": {
           "shape": ""
          }
         },
         "name": "Bug",
         "offsetgroup": "Bug",
         "orientation": "v",
         "showlegend": true,
         "type": "histogram",
         "x": [
          1,
          2,
          3,
          4,
          5,
          6,
          7,
          8,
          9
         ],
         "xaxis": "x",
         "y": [
          7.5,
          5.5,
          9.5,
          9,
          12.5,
          2.5,
          6,
          4.5,
          5.5
         ],
         "yaxis": "y"
        },
        {
         "alignmentgroup": "True",
         "bingroup": "x",
         "histfunc": "sum",
         "hovertemplate": "Type=Fire<br>Generation=%{x}<br>sum of Count (normalized as percent)=%{y}<extra></extra>",
         "legendgroup": "Fire",
         "marker": {
          "color": "#e72829",
          "pattern": {
           "shape": ""
          }
         },
         "name": "Fire",
         "offsetgroup": "Fire",
         "orientation": "v",
         "showlegend": true,
         "type": "histogram",
         "x": [
          1,
          2,
          3,
          4,
          5,
          6,
          7,
          8,
          9
         ],
         "xaxis": "x",
         "y": [
          11,
          8,
          5,
          4,
          12,
          5,
          6,
          7.5,
          7
         ],
         "yaxis": "y"
        },
        {
         "alignmentgroup": "True",
         "bingroup": "x",
         "histfunc": "sum",
         "hovertemplate": "Type=Grass<br>Generation=%{x}<br>sum of Count (normalized as percent)=%{y}<extra></extra>",
         "legendgroup": "Grass",
         "marker": {
          "color": "#3fa22a",
          "pattern": {
           "shape": ""
          }
         },
         "name": "Grass",
         "offsetgroup": "Grass",
         "orientation": "v",
         "showlegend": true,
         "type": "histogram",
         "x": [
          1,
          2,
          3,
          4,
          5,
          6,
          7,
          8,
          9
         ],
         "xaxis": "x",
         "y": [
          7.5,
          8,
          11.5,
          13,
          17,
          6.5,
          9.5,
          10.5,
          13.5
         ],
         "yaxis": "y"
        },
        {
         "alignmentgroup": "True",
         "bingroup": "x",
         "histfunc": "sum",
         "hovertemplate": "Type=Electric<br>Generation=%{x}<br>sum of Count (normalized as percent)=%{y}<extra></extra>",
         "legendgroup": "Electric",
         "marker": {
          "color": "#fac000",
          "pattern": {
           "shape": ""
          }
         },
         "name": "Electric",
         "offsetgroup": "Electric",
         "orientation": "v",
         "showlegend": true,
         "type": "histogram",
         "x": [
          1,
          2,
          3,
          4,
          5,
          6,
          7,
          8,
          9
         ],
         "xaxis": "x",
         "y": [
          7.5,
          7,
          4,
          8.5,
          8.5,
          1.5,
          6.5,
          8.5,
          7.5
         ],
         "yaxis": "y"
        },
        {
         "alignmentgroup": "True",
         "bingroup": "x",
         "histfunc": "sum",
         "hovertemplate": "Type=Rock<br>Generation=%{x}<br>sum of Count (normalized as percent)=%{y}<extra></extra>",
         "legendgroup": "Rock",
         "marker": {
          "color": "#a9af82",
          "pattern": {
           "shape": ""
          }
         },
         "name": "Rock",
         "offsetgroup": "Rock",
         "orientation": "v",
         "showlegend": true,
         "type": "histogram",
         "x": [
          1,
          2,
          3,
          4,
          5,
          6,
          7,
          8,
          9
         ],
         "xaxis": "x",
         "y": [
          5.5,
          4,
          7,
          5,
          6.5,
          4,
          7.5,
          5.5,
          6.5
         ],
         "yaxis": "y"
        },
        {
         "alignmentgroup": "True",
         "bingroup": "x",
         "histfunc": "sum",
         "hovertemplate": "Type=Ground<br>Generation=%{x}<br>sum of Count (normalized as percent)=%{y}<extra></extra>",
         "legendgroup": "Ground",
         "marker": {
          "color": "#925122",
          "pattern": {
           "shape": ""
          }
         },
         "name": "Ground",
         "offsetgroup": "Ground",
         "orientation": "v",
         "showlegend": true,
         "type": "histogram",
         "x": [
          1,
          2,
          3,
          4,
          5,
          7,
          8,
          9,
          6
         ],
         "xaxis": "x",
         "y": [
          10,
          6,
          7.5,
          7,
          6.5,
          4,
          4.5,
          4,
          2
         ],
         "yaxis": "y"
        },
        {
         "alignmentgroup": "True",
         "bingroup": "x",
         "histfunc": "sum",
         "hovertemplate": "Type=Psychic<br>Generation=%{x}<br>sum of Count (normalized as percent)=%{y}<extra></extra>",
         "legendgroup": "Psychic",
         "marker": {
          "color": "#f0417a",
          "pattern": {
           "shape": ""
          }
         },
         "name": "Psychic",
         "offsetgroup": "Psychic",
         "orientation": "v",
         "showlegend": true,
         "type": "histogram",
         "x": [
          1,
          2,
          3,
          4,
          5,
          6,
          7,
          8,
          9
         ],
         "xaxis": "x",
         "y": [
          10.5,
          6.5,
          15.5,
          7,
          13,
          5.5,
          8,
          12,
          6.5
         ],
         "yaxis": "y"
        },
        {
         "alignmentgroup": "True",
         "bingroup": "x",
         "histfunc": "sum",
         "hovertemplate": "Type=Fighting<br>Generation=%{x}<br>sum of Count (normalized as percent)=%{y}<extra></extra>",
         "legendgroup": "Fighting",
         "marker": {
          "color": "#ff8101",
          "pattern": {
           "shape": ""
          }
         },
         "name": "Fighting",
         "offsetgroup": "Fighting",
         "orientation": "v",
         "showlegend": true,
         "type": "histogram",
         "x": [
          1,
          2,
          3,
          4,
          5,
          6,
          7,
          8,
          9
         ],
         "xaxis": "x",
         "y": [
          7.5,
          2.5,
          4.5,
          4,
          12,
          2.5,
          6,
          11,
          5.5
         ],
         "yaxis": "y"
        },
        {
         "alignmentgroup": "True",
         "bingroup": "x",
         "histfunc": "sum",
         "hovertemplate": "Type=Dragon<br>Generation=%{x}<br>sum of Count (normalized as percent)=%{y}<extra></extra>",
         "legendgroup": "Dragon",
         "marker": {
          "color": "#5060e2",
          "pattern": {
           "shape": ""
          }
         },
         "name": "Dragon",
         "offsetgroup": "Dragon",
         "orientation": "v",
         "showlegend": true,
         "type": "histogram",
         "x": [
          1,
          3,
          4,
          5,
          6,
          7,
          8,
          9,
          2
         ],
         "xaxis": "x",
         "y": [
          2.5,
          5.5,
          4.5,
          8,
          7,
          4.5,
          7,
          8,
          0.5
         ],
         "yaxis": "y"
        },
        {
         "alignmentgroup": "True",
         "bingroup": "x",
         "histfunc": "sum",
         "hovertemplate": "Type=Ghost<br>Generation=%{x}<br>sum of Count (normalized as percent)=%{y}<extra></extra>",
         "legendgroup": "Ghost",
         "marker": {
          "color": "#714171",
          "pattern": {
           "shape": ""
          }
         },
         "name": "Ghost",
         "offsetgroup": "Ghost",
         "orientation": "v",
         "showlegend": true,
         "type": "histogram",
         "x": [
          1,
          2,
          3,
          4,
          5,
          6,
          7,
          8,
          9
         ],
         "xaxis": "x",
         "y": [
          1.5,
          1,
          5,
          5.5,
          5.5,
          4.5,
          5.5,
          10,
          9
         ],
         "yaxis": "y"
        },
        {
         "alignmentgroup": "True",
         "bingroup": "x",
         "histfunc": "sum",
         "hovertemplate": "Type=Fairy<br>Generation=%{x}<br>sum of Count (normalized as percent)=%{y}<extra></extra>",
         "legendgroup": "Fairy",
         "marker": {
          "color": "#ef71ef",
          "pattern": {
           "shape": ""
          }
         },
         "name": "Fairy",
         "offsetgroup": "Fairy",
         "orientation": "v",
         "showlegend": true,
         "type": "histogram",
         "x": [
          1,
          2,
          4,
          6,
          7,
          8,
          9,
          3,
          5
         ],
         "xaxis": "x",
         "y": [
          3.5,
          6,
          1,
          24,
          7.5,
          7.5,
          5.5,
          2.5,
          1
         ],
         "yaxis": "y"
        },
        {
         "alignmentgroup": "True",
         "bingroup": "x",
         "histfunc": "sum",
         "hovertemplate": "Type=Ice<br>Generation=%{x}<br>sum of Count (normalized as percent)=%{y}<extra></extra>",
         "legendgroup": "Ice",
         "marker": {
          "color": "#3fcdf3",
          "pattern": {
           "shape": ""
          }
         },
         "name": "Ice",
         "offsetgroup": "Ice",
         "orientation": "v",
         "showlegend": true,
         "type": "histogram",
         "x": [
          1,
          2,
          3,
          4,
          5,
          6,
          7,
          8,
          9
         ],
         "xaxis": "x",
         "y": [
          2.5,
          2.5,
          5.5,
          4,
          7.5,
          3,
          3,
          7.5,
          4.5
         ],
         "yaxis": "y"
        },
        {
         "alignmentgroup": "True",
         "bingroup": "x",
         "histfunc": "sum",
         "hovertemplate": "Type=Dark<br>Generation=%{x}<br>sum of Count (normalized as percent)=%{y}<extra></extra>",
         "legendgroup": "Dark",
         "marker": {
          "color": "#624d4f",
          "pattern": {
           "shape": ""
          }
         },
         "name": "Dark",
         "offsetgroup": "Dark",
         "orientation": "v",
         "showlegend": true,
         "type": "histogram",
         "x": [
          2,
          3,
          4,
          5,
          6,
          7,
          8,
          9,
          1
         ],
         "xaxis": "x",
         "y": [
          3.5,
          6.5,
          4,
          10,
          3,
          5,
          9,
          7.5,
          0
         ],
         "yaxis": "y"
        },
        {
         "alignmentgroup": "True",
         "bingroup": "x",
         "histfunc": "sum",
         "hovertemplate": "Type=Steel<br>Generation=%{x}<br>sum of Count (normalized as percent)=%{y}<extra></extra>",
         "legendgroup": "Steel",
         "marker": {
          "color": "#61a1b9",
          "pattern": {
           "shape": ""
          }
         },
         "name": "Steel",
         "offsetgroup": "Steel",
         "orientation": "v",
         "showlegend": true,
         "type": "histogram",
         "x": [
          2,
          3,
          4,
          5,
          6,
          7,
          8,
          9,
          1
         ],
         "xaxis": "x",
         "y": [
          2,
          5,
          6,
          9.5,
          2.5,
          7,
          7.5,
          6,
          1
         ],
         "yaxis": "y"
        },
        {
         "alignmentgroup": "True",
         "bingroup": "x",
         "histfunc": "sum",
         "hovertemplate": "Type=Flying<br>Generation=%{x}<br>sum of Count (normalized as percent)=%{y}<extra></extra>",
         "legendgroup": "Flying",
         "marker": {
          "color": "#81b9ef",
          "pattern": {
           "shape": ""
          }
         },
         "name": "Flying",
         "offsetgroup": "Flying",
         "orientation": "v",
         "showlegend": true,
         "type": "histogram",
         "x": [
          5,
          6,
          8,
          9,
          1,
          2,
          3,
          4,
          7
         ],
         "xaxis": "x",
         "y": [
          11.5,
          4,
          7,
          4.5,
          9.5,
          9.5,
          6,
          8,
          6
         ],
         "yaxis": "y"
        }
       ],
       "layout": {
        "bargap": 0,
        "barmode": "relative",
        "barnorm": "percent",
        "legend": {
         "title": {
          "text": "Type"
         },
         "tracegroupgap": 0
        },
        "template": {
         "data": {
          "bar": [
           {
            "error_x": {
             "color": "#2a3f5f"
            },
            "error_y": {
             "color": "#2a3f5f"
            },
            "marker": {
             "line": {
              "color": "#E5ECF6",
              "width": 0.5
             },
             "pattern": {
              "fillmode": "overlay",
              "size": 10,
              "solidity": 0.2
             }
            },
            "type": "bar"
           }
          ],
          "barpolar": [
           {
            "marker": {
             "line": {
              "color": "#E5ECF6",
              "width": 0.5
             },
             "pattern": {
              "fillmode": "overlay",
              "size": 10,
              "solidity": 0.2
             }
            },
            "type": "barpolar"
           }
          ],
          "carpet": [
           {
            "aaxis": {
             "endlinecolor": "#2a3f5f",
             "gridcolor": "white",
             "linecolor": "white",
             "minorgridcolor": "white",
             "startlinecolor": "#2a3f5f"
            },
            "baxis": {
             "endlinecolor": "#2a3f5f",
             "gridcolor": "white",
             "linecolor": "white",
             "minorgridcolor": "white",
             "startlinecolor": "#2a3f5f"
            },
            "type": "carpet"
           }
          ],
          "choropleth": [
           {
            "colorbar": {
             "outlinewidth": 0,
             "ticks": ""
            },
            "type": "choropleth"
           }
          ],
          "contour": [
           {
            "colorbar": {
             "outlinewidth": 0,
             "ticks": ""
            },
            "colorscale": [
             [
              0,
              "#0d0887"
             ],
             [
              0.1111111111111111,
              "#46039f"
             ],
             [
              0.2222222222222222,
              "#7201a8"
             ],
             [
              0.3333333333333333,
              "#9c179e"
             ],
             [
              0.4444444444444444,
              "#bd3786"
             ],
             [
              0.5555555555555556,
              "#d8576b"
             ],
             [
              0.6666666666666666,
              "#ed7953"
             ],
             [
              0.7777777777777778,
              "#fb9f3a"
             ],
             [
              0.8888888888888888,
              "#fdca26"
             ],
             [
              1,
              "#f0f921"
             ]
            ],
            "type": "contour"
           }
          ],
          "contourcarpet": [
           {
            "colorbar": {
             "outlinewidth": 0,
             "ticks": ""
            },
            "type": "contourcarpet"
           }
          ],
          "heatmap": [
           {
            "colorbar": {
             "outlinewidth": 0,
             "ticks": ""
            },
            "colorscale": [
             [
              0,
              "#0d0887"
             ],
             [
              0.1111111111111111,
              "#46039f"
             ],
             [
              0.2222222222222222,
              "#7201a8"
             ],
             [
              0.3333333333333333,
              "#9c179e"
             ],
             [
              0.4444444444444444,
              "#bd3786"
             ],
             [
              0.5555555555555556,
              "#d8576b"
             ],
             [
              0.6666666666666666,
              "#ed7953"
             ],
             [
              0.7777777777777778,
              "#fb9f3a"
             ],
             [
              0.8888888888888888,
              "#fdca26"
             ],
             [
              1,
              "#f0f921"
             ]
            ],
            "type": "heatmap"
           }
          ],
          "heatmapgl": [
           {
            "colorbar": {
             "outlinewidth": 0,
             "ticks": ""
            },
            "colorscale": [
             [
              0,
              "#0d0887"
             ],
             [
              0.1111111111111111,
              "#46039f"
             ],
             [
              0.2222222222222222,
              "#7201a8"
             ],
             [
              0.3333333333333333,
              "#9c179e"
             ],
             [
              0.4444444444444444,
              "#bd3786"
             ],
             [
              0.5555555555555556,
              "#d8576b"
             ],
             [
              0.6666666666666666,
              "#ed7953"
             ],
             [
              0.7777777777777778,
              "#fb9f3a"
             ],
             [
              0.8888888888888888,
              "#fdca26"
             ],
             [
              1,
              "#f0f921"
             ]
            ],
            "type": "heatmapgl"
           }
          ],
          "histogram": [
           {
            "marker": {
             "pattern": {
              "fillmode": "overlay",
              "size": 10,
              "solidity": 0.2
             }
            },
            "type": "histogram"
           }
          ],
          "histogram2d": [
           {
            "colorbar": {
             "outlinewidth": 0,
             "ticks": ""
            },
            "colorscale": [
             [
              0,
              "#0d0887"
             ],
             [
              0.1111111111111111,
              "#46039f"
             ],
             [
              0.2222222222222222,
              "#7201a8"
             ],
             [
              0.3333333333333333,
              "#9c179e"
             ],
             [
              0.4444444444444444,
              "#bd3786"
             ],
             [
              0.5555555555555556,
              "#d8576b"
             ],
             [
              0.6666666666666666,
              "#ed7953"
             ],
             [
              0.7777777777777778,
              "#fb9f3a"
             ],
             [
              0.8888888888888888,
              "#fdca26"
             ],
             [
              1,
              "#f0f921"
             ]
            ],
            "type": "histogram2d"
           }
          ],
          "histogram2dcontour": [
           {
            "colorbar": {
             "outlinewidth": 0,
             "ticks": ""
            },
            "colorscale": [
             [
              0,
              "#0d0887"
             ],
             [
              0.1111111111111111,
              "#46039f"
             ],
             [
              0.2222222222222222,
              "#7201a8"
             ],
             [
              0.3333333333333333,
              "#9c179e"
             ],
             [
              0.4444444444444444,
              "#bd3786"
             ],
             [
              0.5555555555555556,
              "#d8576b"
             ],
             [
              0.6666666666666666,
              "#ed7953"
             ],
             [
              0.7777777777777778,
              "#fb9f3a"
             ],
             [
              0.8888888888888888,
              "#fdca26"
             ],
             [
              1,
              "#f0f921"
             ]
            ],
            "type": "histogram2dcontour"
           }
          ],
          "mesh3d": [
           {
            "colorbar": {
             "outlinewidth": 0,
             "ticks": ""
            },
            "type": "mesh3d"
           }
          ],
          "parcoords": [
           {
            "line": {
             "colorbar": {
              "outlinewidth": 0,
              "ticks": ""
             }
            },
            "type": "parcoords"
           }
          ],
          "pie": [
           {
            "automargin": true,
            "type": "pie"
           }
          ],
          "scatter": [
           {
            "marker": {
             "colorbar": {
              "outlinewidth": 0,
              "ticks": ""
             }
            },
            "type": "scatter"
           }
          ],
          "scatter3d": [
           {
            "line": {
             "colorbar": {
              "outlinewidth": 0,
              "ticks": ""
             }
            },
            "marker": {
             "colorbar": {
              "outlinewidth": 0,
              "ticks": ""
             }
            },
            "type": "scatter3d"
           }
          ],
          "scattercarpet": [
           {
            "marker": {
             "colorbar": {
              "outlinewidth": 0,
              "ticks": ""
             }
            },
            "type": "scattercarpet"
           }
          ],
          "scattergeo": [
           {
            "marker": {
             "colorbar": {
              "outlinewidth": 0,
              "ticks": ""
             }
            },
            "type": "scattergeo"
           }
          ],
          "scattergl": [
           {
            "marker": {
             "colorbar": {
              "outlinewidth": 0,
              "ticks": ""
             }
            },
            "type": "scattergl"
           }
          ],
          "scattermapbox": [
           {
            "marker": {
             "colorbar": {
              "outlinewidth": 0,
              "ticks": ""
             }
            },
            "type": "scattermapbox"
           }
          ],
          "scatterpolar": [
           {
            "marker": {
             "colorbar": {
              "outlinewidth": 0,
              "ticks": ""
             }
            },
            "type": "scatterpolar"
           }
          ],
          "scatterpolargl": [
           {
            "marker": {
             "colorbar": {
              "outlinewidth": 0,
              "ticks": ""
             }
            },
            "type": "scatterpolargl"
           }
          ],
          "scatterternary": [
           {
            "marker": {
             "colorbar": {
              "outlinewidth": 0,
              "ticks": ""
             }
            },
            "type": "scatterternary"
           }
          ],
          "surface": [
           {
            "colorbar": {
             "outlinewidth": 0,
             "ticks": ""
            },
            "colorscale": [
             [
              0,
              "#0d0887"
             ],
             [
              0.1111111111111111,
              "#46039f"
             ],
             [
              0.2222222222222222,
              "#7201a8"
             ],
             [
              0.3333333333333333,
              "#9c179e"
             ],
             [
              0.4444444444444444,
              "#bd3786"
             ],
             [
              0.5555555555555556,
              "#d8576b"
             ],
             [
              0.6666666666666666,
              "#ed7953"
             ],
             [
              0.7777777777777778,
              "#fb9f3a"
             ],
             [
              0.8888888888888888,
              "#fdca26"
             ],
             [
              1,
              "#f0f921"
             ]
            ],
            "type": "surface"
           }
          ],
          "table": [
           {
            "cells": {
             "fill": {
              "color": "#EBF0F8"
             },
             "line": {
              "color": "white"
             }
            },
            "header": {
             "fill": {
              "color": "#C8D4E3"
             },
             "line": {
              "color": "white"
             }
            },
            "type": "table"
           }
          ]
         },
         "layout": {
          "annotationdefaults": {
           "arrowcolor": "#2a3f5f",
           "arrowhead": 0,
           "arrowwidth": 1
          },
          "autotypenumbers": "strict",
          "coloraxis": {
           "colorbar": {
            "outlinewidth": 0,
            "ticks": ""
           }
          },
          "colorscale": {
           "diverging": [
            [
             0,
             "#8e0152"
            ],
            [
             0.1,
             "#c51b7d"
            ],
            [
             0.2,
             "#de77ae"
            ],
            [
             0.3,
             "#f1b6da"
            ],
            [
             0.4,
             "#fde0ef"
            ],
            [
             0.5,
             "#f7f7f7"
            ],
            [
             0.6,
             "#e6f5d0"
            ],
            [
             0.7,
             "#b8e186"
            ],
            [
             0.8,
             "#7fbc41"
            ],
            [
             0.9,
             "#4d9221"
            ],
            [
             1,
             "#276419"
            ]
           ],
           "sequential": [
            [
             0,
             "#0d0887"
            ],
            [
             0.1111111111111111,
             "#46039f"
            ],
            [
             0.2222222222222222,
             "#7201a8"
            ],
            [
             0.3333333333333333,
             "#9c179e"
            ],
            [
             0.4444444444444444,
             "#bd3786"
            ],
            [
             0.5555555555555556,
             "#d8576b"
            ],
            [
             0.6666666666666666,
             "#ed7953"
            ],
            [
             0.7777777777777778,
             "#fb9f3a"
            ],
            [
             0.8888888888888888,
             "#fdca26"
            ],
            [
             1,
             "#f0f921"
            ]
           ],
           "sequentialminus": [
            [
             0,
             "#0d0887"
            ],
            [
             0.1111111111111111,
             "#46039f"
            ],
            [
             0.2222222222222222,
             "#7201a8"
            ],
            [
             0.3333333333333333,
             "#9c179e"
            ],
            [
             0.4444444444444444,
             "#bd3786"
            ],
            [
             0.5555555555555556,
             "#d8576b"
            ],
            [
             0.6666666666666666,
             "#ed7953"
            ],
            [
             0.7777777777777778,
             "#fb9f3a"
            ],
            [
             0.8888888888888888,
             "#fdca26"
            ],
            [
             1,
             "#f0f921"
            ]
           ]
          },
          "colorway": [
           "#636efa",
           "#EF553B",
           "#00cc96",
           "#ab63fa",
           "#FFA15A",
           "#19d3f3",
           "#FF6692",
           "#B6E880",
           "#FF97FF",
           "#FECB52"
          ],
          "font": {
           "color": "#2a3f5f"
          },
          "geo": {
           "bgcolor": "white",
           "lakecolor": "white",
           "landcolor": "#E5ECF6",
           "showlakes": true,
           "showland": true,
           "subunitcolor": "white"
          },
          "hoverlabel": {
           "align": "left"
          },
          "hovermode": "closest",
          "mapbox": {
           "style": "light"
          },
          "paper_bgcolor": "white",
          "plot_bgcolor": "#E5ECF6",
          "polar": {
           "angularaxis": {
            "gridcolor": "white",
            "linecolor": "white",
            "ticks": ""
           },
           "bgcolor": "#E5ECF6",
           "radialaxis": {
            "gridcolor": "white",
            "linecolor": "white",
            "ticks": ""
           }
          },
          "scene": {
           "xaxis": {
            "backgroundcolor": "#E5ECF6",
            "gridcolor": "white",
            "gridwidth": 2,
            "linecolor": "white",
            "showbackground": true,
            "ticks": "",
            "zerolinecolor": "white"
           },
           "yaxis": {
            "backgroundcolor": "#E5ECF6",
            "gridcolor": "white",
            "gridwidth": 2,
            "linecolor": "white",
            "showbackground": true,
            "ticks": "",
            "zerolinecolor": "white"
           },
           "zaxis": {
            "backgroundcolor": "#E5ECF6",
            "gridcolor": "white",
            "gridwidth": 2,
            "linecolor": "white",
            "showbackground": true,
            "ticks": "",
            "zerolinecolor": "white"
           }
          },
          "shapedefaults": {
           "line": {
            "color": "#2a3f5f"
           }
          },
          "ternary": {
           "aaxis": {
            "gridcolor": "white",
            "linecolor": "white",
            "ticks": ""
           },
           "baxis": {
            "gridcolor": "white",
            "linecolor": "white",
            "ticks": ""
           },
           "bgcolor": "#E5ECF6",
           "caxis": {
            "gridcolor": "white",
            "linecolor": "white",
            "ticks": ""
           }
          },
          "title": {
           "x": 0.05
          },
          "xaxis": {
           "automargin": true,
           "gridcolor": "white",
           "linecolor": "white",
           "ticks": "",
           "title": {
            "standoff": 15
           },
           "zerolinecolor": "white",
           "zerolinewidth": 2
          },
          "yaxis": {
           "automargin": true,
           "gridcolor": "white",
           "linecolor": "white",
           "ticks": "",
           "title": {
            "standoff": 15
           },
           "zerolinecolor": "white",
           "zerolinewidth": 2
          }
         }
        },
        "title": {
         "text": "Wide-Form Input"
        },
        "xaxis": {
         "anchor": "y",
         "domain": [
          0,
          1
         ],
         "title": {
          "text": "Generation"
         }
        },
        "yaxis": {
         "anchor": "x",
         "domain": [
          0,
          1
         ],
         "title": {
          "text": "sum of Count (normalized as percent)"
         }
        }
       }
      }
     },
     "metadata": {},
     "output_type": "display_data"
    }
   ],
   "source": [
    "wide_df = px.data.medals_wide()\n",
    "\n",
    "fig = fig=go.Figure(px.histogram(sum_d, x=\"Generation\", y=\"Count\", color=\"Type\", title=\"Wide-Form Input\", color_discrete_map=COLOR_TYPES))\n",
    "fig.update_layout(bargap=0)\n",
    "\n",
    "fig.show()\n",
    "\n",
    "\n",
    "fig = fig=go.Figure(px.histogram(sum_d, x=\"Generation\", y=\"Count\", color=\"Type\", title=\"Wide-Form Input\", color_discrete_map=COLOR_TYPES, barnorm='percent'))\n",
    "fig.update_layout(bargap=0)\n",
    "\n",
    "fig.show()\n",
    "\n"
   ]
  },
  {
   "cell_type": "markdown",
   "metadata": {},
   "source": [
    "### Feature DexNumber"
   ]
  },
  {
   "cell_type": "code",
   "execution_count": 63,
   "metadata": {},
   "outputs": [
    {
     "ename": "NameError",
     "evalue": "name 'describe_feature' is not defined",
     "output_type": "error",
     "traceback": [
      "\u001b[0;31m---------------------------------------------------------------------------\u001b[0m",
      "\u001b[0;31mNameError\u001b[0m                                 Traceback (most recent call last)",
      "Input \u001b[0;32mIn [63]\u001b[0m, in \u001b[0;36m<cell line: 1>\u001b[0;34m()\u001b[0m\n\u001b[0;32m----> 1\u001b[0m \u001b[43mdescribe_feature\u001b[49m(data, \u001b[38;5;124m'\u001b[39m\u001b[38;5;124mDexNumber\u001b[39m\u001b[38;5;124m'\u001b[39m)\n",
      "\u001b[0;31mNameError\u001b[0m: name 'describe_feature' is not defined"
     ]
    }
   ],
   "source": [
    "describe_feature(data, 'DexNumber')"
   ]
  },
  {
   "cell_type": "markdown",
   "metadata": {},
   "source": [
    "Let us see the amount of Pokémon that have each amount of forms."
   ]
  },
  {
   "cell_type": "code",
   "execution_count": 222,
   "metadata": {},
   "outputs": [
    {
     "name": "stdout",
     "output_type": "stream",
     "text": [
      "Number of forms / Number of Pokémon with that amount of forms\n",
      "1    914\n",
      "2     87\n",
      "3     11\n",
      "4      8\n",
      "5      4\n",
      "6      1\n",
      "Name: DexNumber, dtype: int64\n"
     ]
    }
   ],
   "source": [
    "print(\"Number of forms / Number of Pokémon with that amount of forms\")\n",
    "print(data['DexNumber'].value_counts().value_counts())"
   ]
  },
  {
   "cell_type": "markdown",
   "metadata": {},
   "source": [
    "Let us see which Pokémons does have more than 2 forms (DexNumber + Name)"
   ]
  },
  {
   "cell_type": "code",
   "execution_count": 223,
   "metadata": {},
   "outputs": [
    {
     "name": "stdout",
     "output_type": "stream",
     "text": [
      "19 ['Rattata' 'Alolan Rattata']\n",
      "20 ['Raticate' 'Alolan Raticate']\n",
      "26 ['Raichu' 'Alolan Raichu']\n",
      "27 ['Sandshrew' 'Alolan Sandshrew']\n",
      "28 ['Sandslash' 'Alolan Sandslash']\n",
      "37 ['Vulpix' 'Alolan Vulpix']\n",
      "38 ['Ninetales' 'Alolan Ninetales']\n",
      "50 ['Diglett' 'Alolan Diglett']\n",
      "51 ['Dugtrio' 'Alolan Dugtrio']\n",
      "52 ['Meowth' 'Alolan Meowth' 'Galarian Meowth']\n",
      "53 ['Persian' 'Alolan Persian']\n",
      "58 ['Growlithe' 'Hisuian Growlithe']\n",
      "59 ['Arcanine' 'Hisuian Arcanine']\n",
      "74 ['Geodude' 'Alolan Geodude']\n",
      "75 ['Graveler' 'Alolan Graveler']\n",
      "76 ['Golem' 'Alolan Golem']\n",
      "77 ['Ponyta' 'Galarian Ponyta']\n",
      "78 ['Rapidash' 'Galarian Rapidash']\n",
      "79 ['Slowpoke' 'Galarian Slowpoke']\n",
      "80 ['Slowbro' 'Galarian Slowbro']\n",
      "83 [\"Farfetch'd\" \"Galarian Farfetch'd\"]\n",
      "88 ['Grimer' 'Alolan Grimer']\n",
      "89 ['Muk' 'Alolan Muk']\n",
      "100 ['Voltorb' 'Hisuian Voltorb']\n",
      "101 ['Electrode' 'Hisuian Electrode']\n",
      "103 ['Exeggutor' 'Alolan Exeggutor']\n",
      "105 ['Marowak' 'Alolan Marowak']\n",
      "110 ['Weezing' 'Galarian Weezing']\n",
      "122 ['Mr. Mime' 'Galarian Mr. Mime']\n",
      "128 ['Tauros' 'Paldean Tauros']\n",
      "144 ['Articuno' 'Galarian Articuno']\n",
      "145 ['Zapdos' 'Galarian Zapdos']\n",
      "146 ['Moltres' 'Galarian Moltres']\n",
      "157 ['Typhlosion' 'Hisuian Typhlosion']\n",
      "194 ['Wooper' 'Paldean Wooper']\n",
      "199 ['Slowking' 'Galarian Slowking']\n",
      "211 ['Qwilfish' 'Hisuian Qwilfish']\n",
      "215 ['Sneasel' 'Hisuian Sneasel']\n",
      "222 ['Corsola' 'Galarian Corsola']\n",
      "263 ['Zigzagoon' 'Galarian Zigzagoon']\n",
      "264 ['Linoone' 'Galarian Linoone']\n",
      "351 ['Castform Normal' 'Castform Sunny Form' 'Castform Rainy Form'\n",
      " 'Castform Snowy Form']\n",
      "386 ['Deoxys Normal Forme' 'Deoxys Attack Forme' 'Deoxys Defense Forme'\n",
      " 'Deoxys Speed Forme']\n",
      "412 ['Burmy Plant Cloak' 'Burmy Sandy Cloak' 'Burmy Trash Cloak']\n",
      "413 ['Wormadam Plant Cloak' 'Wormadam Sandy Cloak' 'Wormadam Trash Cloak']\n",
      "421 ['Cherrim Overcast Form' 'Cherrim Sunshine Form']\n",
      "422 ['Shellos West Sea' 'Shellos East Sea']\n",
      "423 ['Gastrodon West Sea' 'Gastrodon East Sea']\n",
      "479 ['Rotom Rotom' 'Rotom Heat Rotom' 'Rotom Wash Rotom' 'Rotom Frost Rotom'\n",
      " 'Rotom Fan Rotom' 'Rotom Mow Rotom']\n",
      "483 ['Dialga' 'Dialga Origin Forme']\n",
      "484 ['Palkia' 'Palkia Origin Forme']\n",
      "487 ['Giratina Altered Forme' 'Giratina Origin Forme']\n",
      "492 ['Shaymin Land Forme' 'Shaymin Sky Forme']\n",
      "503 ['Samurott' 'Hisuian Samurott']\n",
      "549 ['Lilligant' 'Hisuian Lilligant']\n",
      "550 ['Basculin Red-Striped Form' 'Basculin Blue-Striped Form'\n",
      " 'Basculin White-Striped Form']\n",
      "554 ['Darumaka' 'Galarian Darumaka']\n",
      "555 ['Darmanitan Standard Mode' 'Darmanitan Zen Mode' 'Galarian Darmanitan'\n",
      " 'Darmanitan Zen Mode(Galarian Form)']\n",
      "562 ['Yamask' 'Galarian Yamask']\n",
      "570 ['Zorua' 'Hisuian Zorua']\n",
      "571 ['Zoroark' 'Hisuian Zoroark']\n",
      "585 ['Deerling Spring Form' 'Deerling Summer Form' 'Deerling Autumn Form'\n",
      " 'Deerling Winter Form']\n",
      "586 ['Sawsbuck Spring Form' 'Sawsbuck Summer Form' 'Sawsbuck Autumn Form'\n",
      " 'Sawsbuck Winter Form']\n",
      "618 ['Stunfisk' 'Galarian Stunfisk']\n",
      "628 ['Braviary' 'Hisuian Braviary']\n",
      "641 ['Tornadus Incarnate Forme' 'Tornadus Therian Forme']\n",
      "642 ['Thundurus Incarnate Forme' 'Thundurus Therian Forme']\n",
      "645 ['Landorus Incarnate Forme' 'Landorus Therian Forme']\n",
      "646 ['Kyurem Kyurem' 'Kyurem White Kyurem' 'Kyurem Black Kyurem']\n",
      "647 ['Keldeo Ordinary Form' 'Keldeo Resolute Form']\n",
      "648 ['Meloetta Aria Forme' 'Meloetta Pirouette Forme']\n",
      "649 ['Genesect Genesect(no drive)' 'Genesect Genesect(Douse Drive)'\n",
      " 'Genesect Genesect(Shock Drive)' 'Genesect Genesect(Burn Drive)'\n",
      " 'Genesect Genesect(Chill Drive)']\n",
      "669 ['Flabébé Red Flower' 'Flabébé Yellow Flower' 'Flabébé Orange Flower'\n",
      " 'Flabébé Blue Flower' 'Flabébé White Flower']\n",
      "670 ['Floette Red Flower' 'Floette Yellow Flower' 'Floette Orange Flower'\n",
      " 'Floette Blue Flower' 'Floette White Flower']\n",
      "671 ['Florges Red Flower' 'Florges Yellow Flower' 'Florges Orange Flower'\n",
      " 'Florges Blue Flower' 'Florges White Flower']\n",
      "678 ['Meowstic Male' 'Meowstic Female']\n",
      "681 ['Aegislash Shield Forme' 'Aegislash Blade Forme']\n",
      "705 ['Sliggoo' 'Hisuian Sliggoo']\n",
      "706 ['Goodra' 'Hisuian Goodra']\n",
      "713 ['Avalugg' 'Hisuian Avalugg']\n",
      "716 ['Xerneas Neutral Mode' 'Xerneas Active Mode']\n",
      "718 ['Zygarde 50% Forme' 'Zygarde 10% Forme' 'Zygarde Complete Forme']\n",
      "720 ['Hoopa Hoopa Confined' 'Hoopa Hoopa Unbound']\n",
      "724 ['Decidueye' 'Hisuian Decidueye']\n",
      "741 ['Oricorio Baile Style' 'Oricorio Pom-Pom Style' 'Oricorio Pa’u Style'\n",
      " 'Oricorio Sensu Style']\n",
      "745 ['Lycanroc Midday Form' 'Lycanroc Midnight Form' 'Lycanroc Dusk Form']\n",
      "746 ['Wishiwashi Solo Form' 'Wishiwashi School Form']\n",
      "774 ['Minior Meteor Form' 'Minior Red Core']\n",
      "778 ['Mimikyu Disguised Form' 'Mimikyu Busted Form']\n",
      "800 ['Necrozma' 'Necrozma Dusk Mane' 'Necrozma Dawn Wings']\n",
      "845 ['Cramorant' 'Cramorant Gulping Form' 'Cramorant Gorging Form']\n",
      "849 ['Toxtricity Amped Form' 'Toxtricity Low Key Form']\n",
      "875 ['Eiscue Ice Face' 'Eiscue Noice Face']\n",
      "876 ['Indeedee Male' 'Indeedee Female']\n",
      "877 ['Morpeko Full Belly Mode' 'Morpeko Hangry Mode']\n",
      "888 ['Zacian Hero of Many Battles' 'Zacian Crowned Sword']\n",
      "889 ['Zamazenta Hero of Many Battles' 'Zamazenta Crowned Shield']\n",
      "892 ['Urshifu Single Strike Style' 'Urshifu Rapid Strike Style']\n",
      "898 ['Calyrex' 'Calyrex Ice Rider' 'Calyrex Shadow Rider']\n",
      "901 ['Ursaluna' 'Ursaluna Bloodmoon']\n",
      "902 ['Basculegion Male' 'Basculegion Female']\n",
      "905 ['Enamorus Incarnate Forme' 'Enamorus Therian Forme']\n",
      "916 ['Oinkologne Male' 'Oinkologne Female']\n",
      "925 ['Maushold Family of Three' 'Maushold Family of Four']\n",
      "931 ['Squawkabilly Green Plumage' 'Squawkabilly Blue Plumage'\n",
      " 'Squawkabilly Yellow Plumage' 'Squawkabilly White Plumage']\n",
      "964 ['Palafin Zero Form' 'Palafin Hero Form']\n",
      "978 ['Tatsugiri Curly Form' 'Tatsugiri Droopy Form' 'Tatsugiri Stretchy Form']\n",
      "982 ['Dudunsparce Two-Segment Form' 'Dudunsparce Three-Segment Form']\n",
      "999 ['Gimmighoul Chest Form' 'Gimmighoul Roaming Form']\n",
      "1017 ['Ogerpon Teal Mask' 'Ogerpon Wellspring Mask' 'Ogerpon Hearthflame Mask'\n",
      " 'Ogerpon Cornerstone Mask']\n",
      "1024 ['Terapagos Normal Form' 'Terapagos Terastal Form']\n"
     ]
    }
   ],
   "source": [
    "names = data.groupby(['DexNumber'])['Name'].unique()\n",
    "for i, e in zip(names.index, names):\n",
    "    if len(e) > 1:\n",
    "        print(i, e)"
   ]
  },
  {
   "cell_type": "markdown",
   "metadata": {},
   "source": [
    "### Feature Name"
   ]
  },
  {
   "cell_type": "code",
   "execution_count": 224,
   "metadata": {},
   "outputs": [
    {
     "name": "stdout",
     "output_type": "stream",
     "text": [
      "- Type: object\n",
      "- First rows:\n",
      "0       Victini\n",
      "1     Bulbasaur\n",
      "2       Ivysaur\n",
      "3      Venusaur\n",
      "4    Charmander\n",
      "Name: Name, dtype: object\n",
      "- Last rows:\n",
      "1174               Iron Boulder\n",
      "1175                 Iron Crown\n",
      "1176      Terapagos Normal Form\n",
      "1177    Terapagos Terastal Form\n",
      "1178                  Pecharunt\n",
      "Name: Name, dtype: object\n",
      "- Number of missing values: 0\n",
      "object\n",
      "- Number of distinct values: 1179\n",
      "- Unique value counts:\n",
      "Victini                               1\n",
      "Florges Orange Flower                 1\n",
      "Aromatisse                            1\n",
      "Spritzee                              1\n",
      "Aegislash Blade Forme                 1\n",
      "Aegislash Shield Forme                1\n",
      "Doublade                              1\n",
      "Honedge                               1\n",
      "Meowstic Female                       1\n",
      "Meowstic Male                         1\n",
      "Espurr                                1\n",
      "Furfrou Natural Form                  1\n",
      "Pangoro                               1\n",
      "Pancham                               1\n",
      "Gogoat                                1\n",
      "Skiddo                                1\n",
      "Florges White Flower                  1\n",
      "Swirlix                               1\n",
      "Slurpuff                              1\n",
      "Inkay                                 1\n",
      "Heliolisk                             1\n",
      "Hawlucha                              1\n",
      "Sylveon                               1\n",
      "Aurorus                               1\n",
      "Amaura                                1\n",
      "Tyrantrum                             1\n",
      "Tyrunt                                1\n",
      "Helioptile                            1\n",
      "Malamar                               1\n",
      "Clawitzer                             1\n",
      "Clauncher                             1\n",
      "Dragalge                              1\n",
      "Skrelp                                1\n",
      "Barbaracle                            1\n",
      "Binacle                               1\n",
      "Florges Blue Flower                   1\n",
      "Florges Yellow Flower                 1\n",
      "Carbink                               1\n",
      "Florges Red Flower                    1\n",
      "Diggersby                             1\n",
      "Bunnelby                              1\n",
      "Greninja                              1\n",
      "Frogadier                             1\n",
      "Froakie                               1\n",
      "Delphox                               1\n",
      "Braixen                               1\n",
      "Fennekin                              1\n",
      "Chesnaught                            1\n",
      "Quilladin                             1\n",
      "Chespin                               1\n",
      "Genesect Genesect(Chill Drive)        1\n",
      "Genesect Genesect(Burn Drive)         1\n",
      "Genesect Genesect(Shock Drive)        1\n",
      "Genesect Genesect(Douse Drive)        1\n",
      "Fletchling                            1\n",
      "Fletchinder                           1\n",
      "Talonflame                            1\n",
      "Flabébé Blue Flower                   1\n",
      "Floette White Flower                  1\n",
      "Floette Blue Flower                   1\n",
      "Floette Orange Flower                 1\n",
      "Floette Yellow Flower                 1\n",
      "Floette Red Flower                    1\n",
      "Flabébé White Flower                  1\n",
      "Flabébé Orange Flower                 1\n",
      "Scatterbug                            1\n",
      "Flabébé Yellow Flower                 1\n",
      "Flabébé Red Flower                    1\n",
      "Pyroar                                1\n",
      "Litleo                                1\n",
      "Vivillon Meadow Pattern               1\n",
      "Spewpa                                1\n",
      "Dedenne                               1\n",
      "Goomy                                 1\n",
      "Tsareena                              1\n",
      "Toucannon                             1\n",
      "Lycanroc Midnight Form                1\n",
      "Lycanroc Midday Form                  1\n",
      "Rockruff                              1\n",
      "Ribombee                              1\n",
      "Cutiefly                              1\n",
      "Oricorio Sensu Style                  1\n",
      "Oricorio Pa’u Style                   1\n",
      "Oricorio Pom-Pom Style                1\n",
      "Oricorio Baile Style                  1\n",
      "Crabominable                          1\n",
      "Crabrawler                            1\n",
      "Vikavolt                              1\n",
      "Charjabug                             1\n",
      "Grubbin                               1\n",
      "Gumshoos                              1\n",
      "Lycanroc Dusk Form                    1\n",
      "Wishiwashi Solo Form                  1\n",
      "Wishiwashi School Form                1\n",
      "Morelull                              1\n",
      "Bounsweet                             1\n",
      "Bewear                                1\n",
      "Stufful                               1\n",
      "Salazzle                              1\n",
      "Salandit                              1\n",
      "Shiinotic                             1\n",
      "Lurantis                              1\n",
      "Mareanie                              1\n",
      "Fomantis                              1\n",
      "Araquanid                             1\n",
      "Dewpider                              1\n",
      "Mudsdale                              1\n",
      "Mudbray                               1\n",
      "Toxapex                               1\n",
      "Yungoos                               1\n",
      "Trumbeak                              1\n",
      "Sliggoo                               1\n",
      "Pikipek                               1\n",
      "Xerneas Active Mode                   1\n",
      "Xerneas Neutral Mode                  1\n",
      "Noivern                               1\n",
      "Noibat                                1\n",
      "Hisuian Avalugg                       1\n",
      "Avalugg                               1\n",
      "Bergmite                              1\n",
      "Gourgeist                             1\n",
      "Pumpkaboo                             1\n",
      "Trevenant                             1\n",
      "Phantump                              1\n",
      "Klefki                                1\n",
      "Hisuian Goodra                        1\n",
      "Goodra                                1\n",
      "Hisuian Sliggoo                       1\n",
      "Yveltal                               1\n",
      "Zygarde 50% Forme                     1\n",
      "Zygarde 10% Forme                     1\n",
      "Hisuian Decidueye                     1\n",
      "Primarina                             1\n",
      "Brionne                               1\n",
      "Popplio                               1\n",
      "Incineroar                            1\n",
      "Torracat                              1\n",
      "Litten                                1\n",
      "Decidueye                             1\n",
      "Zygarde Complete Forme                1\n",
      "Dartrix                               1\n",
      "Rowlet                                1\n",
      "Volcanion                             1\n",
      "Hoopa Hoopa Unbound                   1\n",
      "Hoopa Hoopa Confined                  1\n",
      "Diancie                               1\n",
      "Genesect Genesect(no drive)           1\n",
      "Meloetta Pirouette Forme              1\n",
      "Meloetta Aria Forme                   1\n",
      "Maractus                              1\n",
      "Hisuian Zorua                         1\n",
      "Zorua                                 1\n",
      "Garbodor                              1\n",
      "Trubbish                              1\n",
      "Archeops                              1\n",
      "Archen                                1\n",
      "Carracosta                            1\n",
      "Tirtouga                              1\n",
      "Cofagrigus                            1\n",
      "Galarian Yamask                       1\n",
      "Yamask                                1\n",
      "Sigilyph                              1\n",
      "Scrafty                               1\n",
      "Scraggy                               1\n",
      "Crustle                               1\n",
      "Zoroark                               1\n",
      "Hisuian Zoroark                       1\n",
      "Minccino                              1\n",
      "Swanna                                1\n",
      "Deerling Autumn Form                  1\n",
      "Deerling Summer Form                  1\n",
      "Deerling Spring Form                  1\n",
      "Vanilluxe                             1\n",
      "Vanillish                             1\n",
      "Vanillite                             1\n",
      "Ducklett                              1\n",
      "Cinccino                              1\n",
      "Reuniclus                             1\n",
      "Duosion                               1\n",
      "Solosis                               1\n",
      "Gothitelle                            1\n",
      "Gothorita                             1\n",
      "Gothita                               1\n",
      "Dwebble                               1\n",
      "Darmanitan Zen Mode(Galarian Form)    1\n",
      "Keldeo Resolute Form                  1\n",
      "Galarian Darmanitan                   1\n",
      "Leavanny                              1\n",
      "Swadloon                              1\n",
      "Sewaddle                              1\n",
      "Sawk                                  1\n",
      "Throh                                 1\n",
      "Seismitoad                            1\n",
      "Palpitoad                             1\n",
      "Tympole                               1\n",
      "Conkeldurr                            1\n",
      "Gurdurr                               1\n",
      "Timburr                               1\n",
      "Audino                                1\n",
      "Excadrill                             1\n",
      "Drilbur                               1\n",
      "Swoobat                               1\n",
      "Venipede                              1\n",
      "Whirlipede                            1\n",
      "Scolipede                             1\n",
      "Sandile                               1\n",
      "Darmanitan Zen Mode                   1\n",
      "Darmanitan Standard Mode              1\n",
      "Galarian Darumaka                     1\n",
      "Darumaka                              1\n",
      "Krookodile                            1\n",
      "Krokorok                              1\n",
      "Basculin White-Striped Form           1\n",
      "Cottonee                              1\n",
      "Basculin Blue-Striped Form            1\n",
      "Basculin Red-Striped Form             1\n",
      "Hisuian Lilligant                     1\n",
      "Lilligant                             1\n",
      "Petilil                               1\n",
      "Whimsicott                            1\n",
      "Deerling Winter Form                  1\n",
      "Sawsbuck Spring Form                  1\n",
      "Sawsbuck Summer Form                  1\n",
      "Sawsbuck Autumn Form                  1\n",
      "Zweilous                              1\n",
      "Deino                                 1\n",
      "Durant                                1\n",
      "Heatmor                               1\n",
      "Mandibuzz                             1\n",
      "Vullaby                               1\n",
      "Hisuian Braviary                      1\n",
      "Braviary                              1\n",
      "Rufflet                               1\n",
      "Bouffalant                            1\n",
      "Bisharp                               1\n",
      "Pawniard                              1\n",
      "Golurk                                1\n",
      "Golett                                1\n",
      "Druddigon                             1\n",
      "Hydreigon                             1\n",
      "Larvesta                              1\n",
      "Volcarona                             1\n",
      "Zekrom                                1\n",
      "Keldeo Ordinary Form                  1\n",
      "Kyurem Black Kyurem                   1\n",
      "Kyurem White Kyurem                   1\n",
      "Kyurem Kyurem                         1\n",
      "Landorus Therian Forme                1\n",
      "Landorus Incarnate Forme              1\n",
      "Reshiram                              1\n",
      "Cobalion                              1\n",
      "Thundurus Therian Forme               1\n",
      "Thundurus Incarnate Forme             1\n",
      "Tornadus Therian Forme                1\n",
      "Tornadus Incarnate Forme              1\n",
      "Virizion                              1\n",
      "Terrakion                             1\n",
      "Mienshao                              1\n",
      "Mienfoo                               1\n",
      "Galarian Stunfisk                     1\n",
      "Jellicent                             1\n",
      "Klink                                 1\n",
      "Ferrothorn                            1\n",
      "Ferroseed                             1\n",
      "Galvantula                            1\n",
      "Joltik                                1\n",
      "Alomomola                             1\n",
      "Frillish                              1\n",
      "Klinklang                             1\n",
      "Amoonguss                             1\n",
      "Foongus                               1\n",
      "Escavalier                            1\n",
      "Karrablast                            1\n",
      "Emolga                                1\n",
      "Sawsbuck Winter Form                  1\n",
      "Klang                                 1\n",
      "Tynamo                                1\n",
      "Stunfisk                              1\n",
      "Fraxure                               1\n",
      "Accelgor                              1\n",
      "Shelmet                               1\n",
      "Cryogonal                             1\n",
      "Beartic                               1\n",
      "Cubchoo                               1\n",
      "Haxorus                               1\n",
      "Axew                                  1\n",
      "Eelektrik                             1\n",
      "Chandelure                            1\n",
      "Lampent                               1\n",
      "Litwick                               1\n",
      "Beheeyem                              1\n",
      "Elgyem                                1\n",
      "Eelektross                            1\n",
      "Steenee                               1\n",
      "Comfey                                1\n",
      "Gigalith                              1\n",
      "Smoliv                                1\n",
      "Kilowattrel                           1\n",
      "Wattrel                               1\n",
      "Bellibolt                             1\n",
      "Tadbulb                               1\n",
      "Ceruledge                             1\n",
      "Armarouge                             1\n",
      "Charcadet                             1\n",
      "Garganacl                             1\n",
      "Naclstack                             1\n",
      "Nacli                                 1\n",
      "Squawkabilly White Plumage            1\n",
      "Squawkabilly Yellow Plumage           1\n",
      "Squawkabilly Blue Plumage             1\n",
      "Squawkabilly Green Plumage            1\n",
      "Arboliva                              1\n",
      "Maschiff                              1\n",
      "Mabosstiff                            1\n",
      "Shroodle                              1\n",
      "Rellor                                1\n",
      "Tinkaton                              1\n",
      "Tinkatuff                             1\n",
      "Tinkatink                             1\n",
      "Espathra                              1\n",
      "Flittle                               1\n",
      "Rabsca                                1\n",
      "Scovillain                            1\n",
      "Grafaiai                              1\n",
      "Capsakid                              1\n",
      "Klawf                                 1\n",
      "Toedscruel                            1\n",
      "Toedscool                             1\n",
      "Brambleghast                          1\n",
      "Bramblin                              1\n",
      "Dolliv                                1\n",
      "Dachsbun                              1\n",
      "Wugtrio                               1\n",
      "Fidough                               1\n",
      "Fuecoco                               1\n",
      "Meowscarada                           1\n",
      "Floragato                             1\n",
      "Sprigatito                            1\n",
      "Enamorus Therian Forme                1\n",
      "Enamorus Incarnate Forme              1\n",
      "Overqwil                              1\n",
      "Sneasler                              1\n",
      "Basculegion Female                    1\n",
      "Basculegion Male                      1\n",
      "Ursaluna Bloodmoon                    1\n",
      "Ursaluna                              1\n",
      "Kleavor                               1\n",
      "Wyrdeer                               1\n",
      "Calyrex Shadow Rider                  1\n",
      "Crocalor                              1\n",
      "Skeledirge                            1\n",
      "Quaxly                                1\n",
      "Lokix                                 1\n",
      "Maushold Family of Four               1\n",
      "Maushold Family of Three              1\n",
      "Tandemaus                             1\n",
      "Pawmot                                1\n",
      "Pawmo                                 1\n",
      "Pawmi                                 1\n",
      "Nymble                                1\n",
      "Quaxwell                              1\n",
      "Spidops                               1\n",
      "Tarountula                            1\n",
      "Oinkologne Female                     1\n",
      "Oinkologne Male                       1\n",
      "Lechonk                               1\n",
      "Quaquaval                             1\n",
      "Wiglett                               1\n",
      "Bombirdier                            1\n",
      "Oranguru                              1\n",
      "Iron Thorns                           1\n",
      "Iron Leaves                           1\n",
      "Walking Wake                          1\n",
      "Miraidon Ultimate Mode                1\n",
      "Koraidon Apex Build                   1\n",
      "Iron Valiant                          1\n",
      "Roaring Moon                          1\n",
      "Chi-Yu                                1\n",
      "Ting-Lu                               1\n",
      "Chien-Pao                             1\n",
      "Wo-Chien                              1\n",
      "Gholdengo                             1\n",
      "Gimmighoul Roaming Form               1\n",
      "Gimmighoul Chest Form                 1\n",
      "Baxcalibur                            1\n",
      "Arctibax                              1\n",
      "Dipplin                               1\n",
      "Poltchageist                          1\n",
      "Sinistcha                             1\n",
      "Hydrapple                             1\n",
      "Terapagos Terastal Form               1\n",
      "Terapagos Normal Form                 1\n",
      "Iron Crown                            1\n",
      "Iron Boulder                          1\n",
      "Raging Bolt                           1\n",
      "Gouging Fire                          1\n",
      "Archaludon                            1\n",
      "Okidogi                               1\n",
      "Ogerpon Cornerstone Mask              1\n",
      "Ogerpon Hearthflame Mask              1\n",
      "Ogerpon Wellspring Mask               1\n",
      "Ogerpon Teal Mask                     1\n",
      "Fezandipiti                           1\n",
      "Munkidori                             1\n",
      "Frigibax                              1\n",
      "Iron Moth                             1\n",
      "Finizen                               1\n",
      "Iron Jugulis                          1\n",
      "Dondozo                               1\n",
      "Veluza                                1\n",
      "Cetitan                               1\n",
      "Cetoddle                              1\n",
      "Flamigo                               1\n",
      "Houndstone                            1\n",
      "Greavard                              1\n",
      "Glimmora                              1\n",
      "Glimmet                               1\n",
      "Orthworm                              1\n",
      "Cyclizar                              1\n",
      "Revavroom                             1\n",
      "Varoom                                1\n",
      "Palafin Hero Form                     1\n",
      "Palafin Zero Form                     1\n",
      "Tatsugiri Curly Form                  1\n",
      "Tatsugiri Droopy Form                 1\n",
      "Tatsugiri Stretchy Form               1\n",
      "Brute Bonnet                          1\n",
      "Iron Hands                            1\n",
      "Iron Bundle                           1\n",
      "Iron Treads                           1\n",
      "Sandy Shocks                          1\n",
      "Slither Wing                          1\n",
      "Flutter Mane                          1\n",
      "Scream Tail                           1\n",
      "Annihilape                            1\n",
      "Great Tusk                            1\n",
      "Kingambit                             1\n",
      "Dudunsparce Three-Segment Form        1\n",
      "Dudunsparce Two-Segment Form          1\n",
      "Farigiraf                             1\n",
      "Clodsire                              1\n",
      "Calyrex Ice Rider                     1\n",
      "Calyrex                               1\n",
      "Spectrier                             1\n",
      "Guzzlord                              1\n",
      "Scorbunny                             1\n",
      "Rillaboom                             1\n",
      "Thwackey                              1\n",
      "Grookey                               1\n",
      "Melmetal                              1\n",
      "Meltan                                1\n",
      "Zeraora                               1\n",
      "Blacephalon                           1\n",
      "Stakataka                             1\n",
      "Naganadel                             1\n",
      "Poipole                               1\n",
      "Marshadow                             1\n",
      "Magearna                              1\n",
      "Necrozma Dawn Wings                   1\n",
      "Necrozma Dusk Mane                    1\n",
      "Raboot                                1\n",
      "Cinderace                             1\n",
      "Sobble                                1\n",
      "Dottler                               1\n",
      "Wooloo                                1\n",
      "Eldegoss                              1\n",
      "Gossifleur                            1\n",
      "Thievul                               1\n",
      "Nickit                                1\n",
      "Orbeetle                              1\n",
      "Blipbug                               1\n",
      "Drizzile                              1\n",
      "Corviknight                           1\n",
      "Corvisquire                           1\n",
      "Rookidee                              1\n",
      "Greedent                              1\n",
      "Skwovet                               1\n",
      "Inteleon                              1\n",
      "Necrozma                              1\n",
      "Kartana                               1\n",
      "Glastrier                             1\n",
      "Celesteela                            1\n",
      "Mimikyu Busted Form                   1\n",
      "Mimikyu Disguised Form                1\n",
      "Togedemaru                            1\n",
      "Turtonator                            1\n",
      "Komala                                1\n",
      "Minior Red Core                       1\n",
      "Minior Meteor Form                    1\n",
      "Silvally Type: Normal                 1\n",
      "Type: Null                            1\n",
      "Pyukumuku                             1\n",
      "Palossand                             1\n",
      "Sandygast                             1\n",
      "Golisopod                             1\n",
      "Wimpod                                1\n",
      "Passimian                             1\n",
      "Bruxish                               1\n",
      "Drampa                                1\n",
      "Dhelmise                              1\n",
      "Cosmoem                               1\n",
      "Xurkitree                             1\n",
      "Pheromosa                             1\n",
      "Buzzwole                              1\n",
      "Nihilego                              1\n",
      "Lunala                                1\n",
      "Solgaleo                              1\n",
      "Cosmog                                1\n",
      "Jangmo-o                              1\n",
      "Tapu Fini                             1\n",
      "Tapu Bulu                             1\n",
      "Tapu Lele                             1\n",
      "Tapu Koko                             1\n",
      "Kommo-o                               1\n",
      "Hakamo-o                              1\n",
      "Dubwool                               1\n",
      "Chewtle                               1\n",
      "Drednaw                               1\n",
      "Yamper                                1\n",
      "Dracozolt                             1\n",
      "Copperajah                            1\n",
      "Cufant                                1\n",
      "Morpeko Hangry Mode                   1\n",
      "Morpeko Full Belly Mode               1\n",
      "Indeedee Female                       1\n",
      "Indeedee Male                         1\n",
      "Eiscue Noice Face                     1\n",
      "Eiscue Ice Face                       1\n",
      "Stonjourner                           1\n",
      "Frosmoth                              1\n",
      "Snom                                  1\n",
      "Pincurchin                            1\n",
      "Falinks                               1\n",
      "Alcremie Vanilla Cream                1\n",
      "Arctozolt                             1\n",
      "Dracovish                             1\n",
      "Arctovish                             1\n",
      "Eternatus                             1\n",
      "Regidrago                             1\n",
      "Regieleki                             1\n",
      "Zarude                                1\n",
      "Urshifu Rapid Strike Style            1\n",
      "Urshifu Single Strike Style           1\n",
      "Kubfu                                 1\n",
      "Zamazenta Crowned Shield              1\n",
      "Duraludon                             1\n",
      "Zamazenta Hero of Many Battles        1\n",
      "Zacian Crowned Sword                  1\n",
      "Zacian Hero of Many Battles           1\n",
      "Dragapult                             1\n",
      "Drakloak                              1\n",
      "Dreepy                                1\n",
      "Milcery                               1\n",
      "Runerigus                             1\n",
      "Mr. Rime                              1\n",
      "Silicobra                             1\n",
      "Barraskewda                           1\n",
      "Arrokuda                              1\n",
      "Cramorant Gorging Form                1\n",
      "Cramorant Gulping Form                1\n",
      "Cramorant                             1\n",
      "Sandaconda                            1\n",
      "Appletun                              1\n",
      "Toxtricity Amped Form                 1\n",
      "Flapple                               1\n",
      "Applin                                1\n",
      "Coalossal                             1\n",
      "Carkol                                1\n",
      "Rolycoly                              1\n",
      "Boltund                               1\n",
      "Toxel                                 1\n",
      "Toxtricity Low Key Form               1\n",
      "Sirfetch'd                            1\n",
      "Hatterene                             1\n",
      "Cursola                               1\n",
      "Perrserker                            1\n",
      "Obstagoon                             1\n",
      "Grimmsnarl                            1\n",
      "Morgrem                               1\n",
      "Impidimp                              1\n",
      "Hattrem                               1\n",
      "Sizzlipede                            1\n",
      "Hatenna                               1\n",
      "Polteageist                           1\n",
      "Sinistea                              1\n",
      "Grapploct                             1\n",
      "Clobbopus                             1\n",
      "Centiskorch                           1\n",
      "Woobat                                1\n",
      "Boldore                               1\n",
      "Bulbasaur                             1\n",
      "Mewtwo                                1\n",
      "Ledyba                                1\n",
      "Noctowl                               1\n",
      "Hoothoot                              1\n",
      "Furret                                1\n",
      "Sentret                               1\n",
      "Feraligatr                            1\n",
      "Croconaw                              1\n",
      "Totodile                              1\n",
      "Hisuian Typhlosion                    1\n",
      "Typhlosion                            1\n",
      "Quilava                               1\n",
      "Cyndaquil                             1\n",
      "Meganium                              1\n",
      "Bayleef                               1\n",
      "Chikorita                             1\n",
      "Ledian                                1\n",
      "Spinarak                              1\n",
      "Ariados                               1\n",
      "Natu                                  1\n",
      "Marill                                1\n",
      "Bellossom                             1\n",
      "Ampharos                              1\n",
      "Flaaffy                               1\n",
      "Mareep                                1\n",
      "Xatu                                  1\n",
      "Togetic                               1\n",
      "Crobat                                1\n",
      "Togepi                                1\n",
      "Igglybuff                             1\n",
      "Cleffa                                1\n",
      "Pichu                                 1\n",
      "Lanturn                               1\n",
      "Chinchou                              1\n",
      "Mew                                   1\n",
      "Dragonite                             1\n",
      "Sudowoodo                             1\n",
      "Dragonair                             1\n",
      "Ditto                                 1\n",
      "Lapras                                1\n",
      "Gyarados                              1\n",
      "Magikarp                              1\n",
      "Paldean Tauros                        1\n",
      "Tauros                                1\n",
      "Pinsir                                1\n",
      "Magmar                                1\n",
      "Electabuzz                            1\n",
      "Jynx                                  1\n",
      "Scyther                               1\n",
      "Galarian Mr. Mime                     1\n",
      "Mr. Mime                              1\n",
      "Starmie                               1\n",
      "Staryu                                1\n",
      "Eevee                                 1\n",
      "Vaporeon                              1\n",
      "Jolteon                               1\n",
      "Articuno                              1\n",
      "Dratini                               1\n",
      "Galarian Moltres                      1\n",
      "Moltres                               1\n",
      "Galarian Zapdos                       1\n",
      "Zapdos                                1\n",
      "Galarian Articuno                     1\n",
      "Snorlax                               1\n",
      "Flareon                               1\n",
      "Aerodactyl                            1\n",
      "Kabutops                              1\n",
      "Kabuto                                1\n",
      "Omastar                               1\n",
      "Omanyte                               1\n",
      "Porygon                               1\n",
      "Azumarill                             1\n",
      "Politoed                              1\n",
      "Sceptile                              1\n",
      "Magcargo                              1\n",
      "Stantler                              1\n",
      "Porygon2                              1\n",
      "Donphan                               1\n",
      "Phanpy                                1\n",
      "Kingdra                               1\n",
      "Houndoom                              1\n",
      "Houndour                              1\n",
      "Skarmory                              1\n",
      "Mantine                               1\n",
      "Delibird                              1\n",
      "Octillery                             1\n",
      "Remoraid                              1\n",
      "Galarian Corsola                      1\n",
      "Corsola                               1\n",
      "Piloswine                             1\n",
      "Smeargle                              1\n",
      "Tyrogue                               1\n",
      "Hitmontop                             1\n",
      "Larvitar                              1\n",
      "Treecko                               1\n",
      "Celebi                                1\n",
      "Ho-Oh                                 1\n",
      "Lugia                                 1\n",
      "Tyranitar                             1\n",
      "Pupitar                               1\n",
      "Suicune                               1\n",
      "Smoochum                              1\n",
      "Entei                                 1\n",
      "Raikou                                1\n",
      "Blissey                               1\n",
      "Miltank                               1\n",
      "Magby                                 1\n",
      "Elekid                                1\n",
      "Swinub                                1\n",
      "Slugma                                1\n",
      "Hoppip                                1\n",
      "Ursaring                              1\n",
      "Misdreavus                            1\n",
      "Galarian Slowking                     1\n",
      "Slowking                              1\n",
      "Murkrow                               1\n",
      "Umbreon                               1\n",
      "Espeon                                1\n",
      "Quagsire                              1\n",
      "Paldean Wooper                        1\n",
      "Wooper                                1\n",
      "Yanma                                 1\n",
      "Sunflora                              1\n",
      "Sunkern                               1\n",
      "Aipom                                 1\n",
      "Jumpluff                              1\n",
      "Skiploom                              1\n",
      "Unown One form                        1\n",
      "Wobbuffet                             1\n",
      "Girafarig                             1\n",
      "Hisuian Qwilfish                      1\n",
      "Teddiursa                             1\n",
      "Hisuian Sneasel                       1\n",
      "Sneasel                               1\n",
      "Heracross                             1\n",
      "Shuckle                               1\n",
      "Scizor                                1\n",
      "Qwilfish                              1\n",
      "Pineco                                1\n",
      "Granbull                              1\n",
      "Snubbull                              1\n",
      "Steelix                               1\n",
      "Gligar                                1\n",
      "Dunsparce                             1\n",
      "Forretress                            1\n",
      "Seaking                               1\n",
      "Goldeen                               1\n",
      "Seadra                                1\n",
      "Nidoran♂                              1\n",
      "Paras                                 1\n",
      "Vileplume                             1\n",
      "Gloom                                 1\n",
      "Oddish                                1\n",
      "Golbat                                1\n",
      "Zubat                                 1\n",
      "Wigglytuff                            1\n",
      "Jigglypuff                            1\n",
      "Alolan Ninetales                      1\n",
      "Ninetales                             1\n",
      "Alolan Vulpix                         1\n",
      "Vulpix                                1\n",
      "Clefable                              1\n",
      "Clefairy                              1\n",
      "Nidoking                              1\n",
      "Parasect                              1\n",
      "Venonat                               1\n",
      "Venomoth                              1\n",
      "Alolan Persian                        1\n",
      "Hisuian Growlithe                     1\n",
      "Growlithe                             1\n",
      "Primeape                              1\n",
      "Mankey                                1\n",
      "Golduck                               1\n",
      "Psyduck                               1\n",
      "Persian                               1\n",
      "Diglett                               1\n",
      "Galarian Meowth                       1\n",
      "Alolan Meowth                         1\n",
      "Meowth                                1\n",
      "Alolan Dugtrio                        1\n",
      "Dugtrio                               1\n",
      "Alolan Diglett                        1\n",
      "Nidorino                              1\n",
      "Nidoqueen                             1\n",
      "Horsea                                1\n",
      "Nidorina                              1\n",
      "Pidgey                                1\n",
      "Beedrill                              1\n",
      "Kakuna                                1\n",
      "Weedle                                1\n",
      "Butterfree                            1\n",
      "Metapod                               1\n",
      "Caterpie                              1\n",
      "Blastoise                             1\n",
      "Wartortle                             1\n",
      "Squirtle                              1\n",
      "Charizard                             1\n",
      "Charmeleon                            1\n",
      "Charmander                            1\n",
      "Venusaur                              1\n",
      "Ivysaur                               1\n",
      "Pidgeotto                             1\n",
      "Pidgeot                               1\n",
      "Rattata                               1\n",
      "Raichu                                1\n",
      "Nidoran♀                              1\n",
      "Alolan Sandslash                      1\n",
      "Sandslash                             1\n",
      "Alolan Sandshrew                      1\n",
      "Sandshrew                             1\n",
      "Alolan Raichu                         1\n",
      "Pikachu                               1\n",
      "Alolan Rattata                        1\n",
      "Arbok                                 1\n",
      "Ekans                                 1\n",
      "Fearow                                1\n",
      "Spearow                               1\n",
      "Alolan Raticate                       1\n",
      "Raticate                              1\n",
      "Arcanine                              1\n",
      "Hisuian Arcanine                      1\n",
      "Poliwag                               1\n",
      "Poliwhirl                             1\n",
      "Electrode                             1\n",
      "Hisuian Voltorb                       1\n",
      "Voltorb                               1\n",
      "Kingler                               1\n",
      "Krabby                                1\n",
      "Hypno                                 1\n",
      "Drowzee                               1\n",
      "Onix                                  1\n",
      "Gengar                                1\n",
      "Haunter                               1\n",
      "Gastly                                1\n",
      "Cloyster                              1\n",
      "Shellder                              1\n",
      "Alolan Muk                            1\n",
      "Muk                                   1\n",
      "Hisuian Electrode                     1\n",
      "Exeggcute                             1\n",
      "Exeggutor                             1\n",
      "Weezing                               1\n",
      "Kangaskhan                            1\n",
      "Tangela                               1\n",
      "Chansey                               1\n",
      "Rhydon                                1\n",
      "Rhyhorn                               1\n",
      "Galarian Weezing                      1\n",
      "Koffing                               1\n",
      "Alolan Exeggutor                      1\n",
      "Lickitung                             1\n",
      "Hitmonchan                            1\n",
      "Hitmonlee                             1\n",
      "Alolan Marowak                        1\n",
      "Marowak                               1\n",
      "Cubone                                1\n",
      "Alolan Grimer                         1\n",
      "Grimer                                1\n",
      "Dewgong                               1\n",
      "Bellsprout                            1\n",
      "Alolan Geodude                        1\n",
      "Geodude                               1\n",
      "Tentacruel                            1\n",
      "Tentacool                             1\n",
      "Victreebel                            1\n",
      "Weepinbell                            1\n",
      "Machamp                               1\n",
      "Alolan Graveler                       1\n",
      "Machoke                               1\n",
      "Machop                                1\n",
      "Alakazam                              1\n",
      "Kadabra                               1\n",
      "Abra                                  1\n",
      "Poliwrath                             1\n",
      "Graveler                              1\n",
      "Golem                                 1\n",
      "Seel                                  1\n",
      "Galarian Slowbro                      1\n",
      "Dodrio                                1\n",
      "Doduo                                 1\n",
      "Galarian Farfetch'd                   1\n",
      "Farfetch'd                            1\n",
      "Magneton                              1\n",
      "Magnemite                             1\n",
      "Slowbro                               1\n",
      "Alolan Golem                          1\n",
      "Galarian Slowpoke                     1\n",
      "Slowpoke                              1\n",
      "Galarian Rapidash                     1\n",
      "Rapidash                              1\n",
      "Galarian Ponyta                       1\n",
      "Ponyta                                1\n",
      "Grovyle                               1\n",
      "Torchic                               1\n",
      "Roggenrola                            1\n",
      "Ambipom                               1\n",
      "Happiny                               1\n",
      "Mime Jr.                              1\n",
      "Bonsly                                1\n",
      "Bronzong                              1\n",
      "Bronzor                               1\n",
      "Skuntank                              1\n",
      "Stunky                                1\n",
      "Chingling                             1\n",
      "Purugly                               1\n",
      "Glameow                               1\n",
      "Honchkrow                             1\n",
      "Mismagius                             1\n",
      "Lopunny                               1\n",
      "Buneary                               1\n",
      "Drifblim                              1\n",
      "Chatot                                1\n",
      "Spiritomb                             1\n",
      "Gible                                 1\n",
      "Drapion                               1\n",
      "Mantyke                               1\n",
      "Lumineon                              1\n",
      "Finneon                               1\n",
      "Carnivine                             1\n",
      "Toxicroak                             1\n",
      "Croagunk                              1\n",
      "Skorupi                               1\n",
      "Gabite                                1\n",
      "Hippowdon                             1\n",
      "Hippopotas                            1\n",
      "Lucario                               1\n",
      "Riolu                                 1\n",
      "Munchlax                              1\n",
      "Garchomp                              1\n",
      "Drifloon                              1\n",
      "Gastrodon East Sea                    1\n",
      "Abomasnow                             1\n",
      "Gastrodon West Sea                    1\n",
      "Shieldon                              1\n",
      "Rampardos                             1\n",
      "Cranidos                              1\n",
      "Roserade                              1\n",
      "Budew                                 1\n",
      "Luxray                                1\n",
      "Luxio                                 1\n",
      "Shinx                                 1\n",
      "Kricketune                            1\n",
      "Kricketot                             1\n",
      "Bibarel                               1\n",
      "Bidoof                                1\n",
      "Staraptor                             1\n",
      "Staravia                              1\n",
      "Starly                                1\n",
      "Bastiodon                             1\n",
      "Burmy Plant Cloak                     1\n",
      "Burmy Sandy Cloak                     1\n",
      "Buizel                                1\n",
      "Shellos East Sea                      1\n",
      "Shellos West Sea                      1\n",
      "Cherrim Sunshine Form                 1\n",
      "Cherrim Overcast Form                 1\n",
      "Cherubi                               1\n",
      "Floatzel                              1\n",
      "Pachirisu                             1\n",
      "Burmy Trash Cloak                     1\n",
      "Vespiquen                             1\n",
      "Combee                                1\n",
      "Mothim                                1\n",
      "Wormadam Trash Cloak                  1\n",
      "Wormadam Sandy Cloak                  1\n",
      "Wormadam Plant Cloak                  1\n",
      "Snover                                1\n",
      "Weavile                               1\n",
      "Combusken                             1\n",
      "Manaphy                               1\n",
      "Watchog                               1\n",
      "Patrat                                1\n",
      "Hisuian Samurott                      1\n",
      "Samurott                              1\n",
      "Dewott                                1\n",
      "Oshawott                              1\n",
      "Emboar                                1\n",
      "Pignite                               1\n",
      "Tepig                                 1\n",
      "Serperior                             1\n",
      "Servine                               1\n",
      "Snivy                                 1\n",
      "Arceus Arceus                         1\n",
      "Shaymin Sky Forme                     1\n",
      "Shaymin Land Forme                    1\n",
      "Lillipup                              1\n",
      "Herdier                               1\n",
      "Stoutland                             1\n",
      "Munna                                 1\n",
      "Zebstrika                             1\n",
      "Blitzle                               1\n",
      "Unfezant                              1\n",
      "Tranquill                             1\n",
      "Pidove                                1\n",
      "Musharna                              1\n",
      "Simipour                              1\n",
      "Purrloin                              1\n",
      "Panpour                               1\n",
      "Simisear                              1\n",
      "Pansear                               1\n",
      "Simisage                              1\n",
      "Pansage                               1\n",
      "Liepard                               1\n",
      "Darkrai                               1\n",
      "Phione                                1\n",
      "Magnezone                             1\n",
      "Cresselia                             1\n",
      "Dusknoir                              1\n",
      "Probopass                             1\n",
      "Gallade                               1\n",
      "Porygon-Z                             1\n",
      "Mamoswine                             1\n",
      "Gliscor                               1\n",
      "Glaceon                               1\n",
      "Leafeon                               1\n",
      "Yanmega                               1\n",
      "Togekiss                              1\n",
      "Magmortar                             1\n",
      "Electivire                            1\n",
      "Tangrowth                             1\n",
      "Rhyperior                             1\n",
      "Lickilicky                            1\n",
      "Froslass                              1\n",
      "Rotom Rotom                           1\n",
      "Rotom Heat Rotom                      1\n",
      "Dialga Origin Forme                   1\n",
      "Giratina Origin Forme                 1\n",
      "Giratina Altered Forme                1\n",
      "Regigigas                             1\n",
      "Heatran                               1\n",
      "Palkia Origin Forme                   1\n",
      "Palkia                                1\n",
      "Dialga                                1\n",
      "Rotom Wash Rotom                      1\n",
      "Azelf                                 1\n",
      "Mesprit                               1\n",
      "Uxie                                  1\n",
      "Rotom Mow Rotom                       1\n",
      "Rotom Fan Rotom                       1\n",
      "Rotom Frost Rotom                     1\n",
      "Empoleon                              1\n",
      "Prinplup                              1\n",
      "Piplup                                1\n",
      "Nincada                               1\n",
      "Aggron                                1\n",
      "Lairon                                1\n",
      "Aron                                  1\n",
      "Mawile                                1\n",
      "Sableye                               1\n",
      "Delcatty                              1\n",
      "Skitty                                1\n",
      "Nosepass                              1\n",
      "Azurill                               1\n",
      "Hariyama                              1\n",
      "Makuhita                              1\n",
      "Exploud                               1\n",
      "Loudred                               1\n",
      "Whismur                               1\n",
      "Shedinja                              1\n",
      "Meditite                              1\n",
      "Medicham                              1\n",
      "Electrike                             1\n",
      "Carvanha                              1\n",
      "Torkoal                               1\n",
      "Camerupt                              1\n",
      "Numel                                 1\n",
      "Wailord                               1\n",
      "Wailmer                               1\n",
      "Sharpedo                              1\n",
      "Swalot                                1\n",
      "Manectric                             1\n",
      "Gulpin                                1\n",
      "Roselia                               1\n",
      "Illumise                              1\n",
      "Volbeat                               1\n",
      "Minun                                 1\n",
      "Plusle                                1\n",
      "Ninjask                               1\n",
      "Slaking                               1\n",
      "Infernape                             1\n",
      "Vigoroth                              1\n",
      "Dustox                                1\n",
      "Cascoon                               1\n",
      "Beautifly                             1\n",
      "Silcoon                               1\n",
      "Wurmple                               1\n",
      "Galarian Linoone                      1\n",
      "Linoone                               1\n",
      "Galarian Zigzagoon                    1\n",
      "Zigzagoon                             1\n",
      "Mightyena                             1\n",
      "Poochyena                             1\n",
      "Swampert                              1\n",
      "Marshtomp                             1\n",
      "Mudkip                                1\n",
      "Blaziken                              1\n",
      "Lotad                                 1\n",
      "Lombre                                1\n",
      "Ludicolo                              1\n",
      "Kirlia                                1\n",
      "Slakoth                               1\n",
      "Breloom                               1\n",
      "Shroomish                             1\n",
      "Masquerain                            1\n",
      "Surskit                               1\n",
      "Gardevoir                             1\n",
      "Ralts                                 1\n",
      "Seedot                                1\n",
      "Pelipper                              1\n",
      "Wingull                               1\n",
      "Swellow                               1\n",
      "Taillow                               1\n",
      "Shiftry                               1\n",
      "Nuzleaf                               1\n",
      "Spoink                                1\n",
      "Grumpig                               1\n",
      "Spinda                                1\n",
      "Trapinch                              1\n",
      "Metagross                             1\n",
      "Metang                                1\n",
      "Beldum                                1\n",
      "Salamence                             1\n",
      "Shelgon                               1\n",
      "Bagon                                 1\n",
      "Luvdisc                               1\n",
      "Relicanth                             1\n",
      "Gorebyss                              1\n",
      "Huntail                               1\n",
      "Clamperl                              1\n",
      "Walrein                               1\n",
      "Sealeo                                1\n",
      "Spheal                                1\n",
      "Glalie                                1\n",
      "Regirock                              1\n",
      "Regice                                1\n",
      "Registeel                             1\n",
      "Deoxys Defense Forme                  1\n",
      "Monferno                              1\n",
      "Chimchar                              1\n",
      "Torterra                              1\n",
      "Grotle                                1\n",
      "Turtwig                               1\n",
      "Deoxys Speed Forme                    1\n",
      "Deoxys Attack Forme                   1\n",
      "Latias                                1\n",
      "Deoxys Normal Forme                   1\n",
      "Jirachi                               1\n",
      "Rayquaza                              1\n",
      "Groudon Groudon                       1\n",
      "Kyogre Kyogre                         1\n",
      "Latios                                1\n",
      "Snorunt                               1\n",
      "Wynaut                                1\n",
      "Absol                                 1\n",
      "Seviper                               1\n",
      "Crawdaunt                             1\n",
      "Corphish                              1\n",
      "Whiscash                              1\n",
      "Barboach                              1\n",
      "Solrock                               1\n",
      "Lunatone                              1\n",
      "Zangoose                              1\n",
      "Claydol                               1\n",
      "Altaria                               1\n",
      "Swablu                                1\n",
      "Cacturne                              1\n",
      "Cacnea                                1\n",
      "Flygon                                1\n",
      "Vibrava                               1\n",
      "Baltoy                                1\n",
      "Lileep                                1\n",
      "Chimecho                              1\n",
      "Castform Snowy Form                   1\n",
      "Tropius                               1\n",
      "Dusclops                              1\n",
      "Duskull                               1\n",
      "Banette                               1\n",
      "Shuppet                               1\n",
      "Kecleon                               1\n",
      "Castform Rainy Form                   1\n",
      "Cradily                               1\n",
      "Castform Sunny Form                   1\n",
      "Castform Normal                       1\n",
      "Milotic                               1\n",
      "Feebas                                1\n",
      "Armaldo                               1\n",
      "Anorith                               1\n",
      "Pecharunt                             1\n",
      "Name: Name, dtype: int64\n",
      "- Unique values: ['Victini' 'Bulbasaur' 'Ivysaur' ... 'Terapagos Normal Form'\n",
      " 'Terapagos Terastal Form' 'Pecharunt']\n"
     ]
    }
   ],
   "source": [
    "describe_feature(data, 'Name')"
   ]
  },
  {
   "cell_type": "markdown",
   "metadata": {},
   "source": [
    "Every Pokémon and form have a different name. So this is more suitable to be the primary key rather than the DexNumber. That's funny"
   ]
  },
  {
   "cell_type": "markdown",
   "metadata": {},
   "source": [
    "### Feature Type"
   ]
  },
  {
   "cell_type": "code",
   "execution_count": 225,
   "metadata": {},
   "outputs": [
    {
     "name": "stdout",
     "output_type": "stream",
     "text": [
      "- Type: object\n",
      "- First rows:\n",
      "0    ['Psychic', 'Fire']\n",
      "1    ['Grass', 'Poison']\n",
      "2    ['Grass', 'Poison']\n",
      "3    ['Grass', 'Poison']\n",
      "4               ['Fire']\n",
      "Name: Type, dtype: object\n",
      "- Last rows:\n",
      "1174     ['Rock', 'Psychic']\n",
      "1175    ['Steel', 'Psychic']\n",
      "1176              ['Normal']\n",
      "1177              ['Normal']\n",
      "1178     ['Poison', 'Ghost']\n",
      "Name: Type, dtype: object\n",
      "- Number of missing values: 0\n",
      "object\n",
      "- Number of distinct values: 215\n",
      "- Unique value counts:\n",
      "['Water']                   80\n",
      "['Normal']                  80\n",
      "['Grass']                   48\n",
      "['Psychic']                 47\n",
      "['Fire']                    39\n",
      "['Electric']                35\n",
      "['Fairy']                   34\n",
      "['Normal', 'Flying']        30\n",
      "['Fighting']                29\n",
      "['Bug']                     25\n",
      "['Ice']                     20\n",
      "['Rock']                    19\n",
      "['Ghost']                   18\n",
      "['Ground']                  17\n",
      "['Poison']                  16\n",
      "['Dark']                    15\n",
      "['Grass', 'Poison']         14\n",
      "['Bug', 'Flying']           13\n",
      "['Dragon']                  13\n",
      "['Bug', 'Poison']           11\n",
      "['Steel']                   11\n",
      "['Water', 'Ground']         10\n",
      "['Bug', 'Steel']            10\n",
      "['Electric', 'Flying']       8\n",
      "['Psychic', 'Flying']        8\n",
      "['Psychic', 'Fairy']         8\n",
      "['Normal', 'Grass']          8\n",
      "['Fire', 'Flying']           7\n",
      "['Water', 'Flying']          7\n",
      "['Dark', 'Flying']           7\n",
      "['Steel', 'Psychic']         7\n",
      "['Grass', 'Flying']          7\n",
      "['Rock', 'Water']            6\n",
      "['Dragon', 'Ice']            6\n",
      "['Dragon', 'Ground']         6\n",
      "['Rock', 'Ground']           6\n",
      "['Bug', 'Grass']             6\n",
      "['Water', 'Psychic']         6\n",
      "['Fire', 'Fighting']         6\n",
      "['Steel', 'Dragon']          6\n",
      "['Grass', 'Dragon']          6\n",
      "['Grass', 'Fairy']           5\n",
      "['Steel', 'Ghost']           5\n",
      "['Grass', 'Ghost']           5\n",
      "['Normal', 'Psychic']        5\n",
      "['Rock', 'Flying']           5\n",
      "['Ghost', 'Grass']           5\n",
      "['Grass', 'Dark']            5\n",
      "['Water', 'Rock']            5\n",
      "['Dark', 'Normal']           5\n",
      "['Water', 'Dragon']          5\n",
      "['Ground', 'Steel']          5\n",
      "['Water', 'Dark']            5\n",
      "['Grass', 'Fighting']        5\n",
      "['Fire', 'Ghost']            5\n",
      "['Poison', 'Dark']           5\n",
      "['Ice', 'Psychic']           4\n",
      "['Ground', 'Flying']         4\n",
      "['Bug', 'Electric']          4\n",
      "['Rock', 'Electric']         4\n",
      "['Water', 'Ghost']           4\n",
      "['Rock', 'Steel']            4\n",
      "['Electric', 'Steel']        4\n",
      "['Bug', 'Fighting']          4\n",
      "['Bug', 'Rock']              4\n",
      "['Flying']                   4\n",
      "['Water', 'Ice']             4\n",
      "['Psychic', 'Grass']         4\n",
      "['Fairy', 'Steel']           4\n",
      "['Dark', 'Dragon']           4\n",
      "['Ice', 'Water']             4\n",
      "['Poison', 'Ground']         4\n",
      "['Water', 'Fairy']           4\n",
      "['Fairy', 'Flying']          4\n",
      "['Ground', 'Ghost']          4\n",
      "['Dragon', 'Flying']         4\n",
      "['Water', 'Fighting']        4\n",
      "['Normal', 'Fairy']          4\n",
      "['Rock', 'Psychic']          3\n",
      "['Dark', 'Fairy']            3\n",
      "['Ghost', 'Flying']          3\n",
      "['Poison', 'Fighting']       3\n",
      "['Dragon', 'Water']          3\n",
      "['Poison', 'Dragon']         3\n",
      "['Poison', 'Water']          3\n",
      "['Ground', 'Dark']           3\n",
      "['Fire', 'Psychic']          3\n",
      "['Normal', 'Fighting']       3\n",
      "['Grass', 'Steel']           3\n",
      "['Ghost', 'Fire']            3\n",
      "['Dark', 'Steel']            3\n",
      "['Dragon', 'Ghost']          3\n",
      "['Grass', 'Normal']          3\n",
      "['Ghost', 'Fairy']           3\n",
      "['Water', 'Grass']           3\n",
      "['Ground', 'Rock']           3\n",
      "['Rock', 'Poison']           3\n",
      "['Dark', 'Ice']              3\n",
      "['Grass', 'Psychic']         3\n",
      "['Electric', 'Grass']        3\n",
      "['Ice', 'Ground']            3\n",
      "['Ghost', 'Poison']          3\n",
      "['Poison', 'Psychic']        3\n",
      "['Electric', 'Dragon']       3\n",
      "['Dark', 'Fire']             3\n",
      "['Bug', 'Psychic']           3\n",
      "['Bug', 'Water']             3\n",
      "['Water', 'Poison']          3\n",
      "['Fire', 'Rock']             3\n",
      "['Poison', 'Flying']         3\n",
      "['Flying', 'Water']          3\n",
      "['Electric', 'Poison']       3\n",
      "['Steel', 'Fairy']           3\n",
      "['Steel', 'Rock']            3\n",
      "['Fighting', 'Dark']         2\n",
      "['Fire', 'Bug']              2\n",
      "['Fire', 'Normal']           2\n",
      "['Rock', 'Fire']             2\n",
      "['Electric', 'Fighting']     2\n",
      "['Bug', 'Fairy']             2\n",
      "['Electric', 'Normal']       2\n",
      "['Psychic', 'Normal']        2\n",
      "['Ground', 'Normal']         2\n",
      "['Poison', 'Fire']           2\n",
      "['Dark', 'Grass']            2\n",
      "['Ghost', 'Ground']          2\n",
      "['Fire', 'Dragon']           2\n",
      "['Psychic', 'Ghost']         2\n",
      "['Flying', 'Dragon']         2\n",
      "['Rock', 'Fairy']            2\n",
      "['Fighting', 'Ghost']        2\n",
      "['Electric', 'Fairy']        2\n",
      "['Rock', 'Ice']              2\n",
      "['Rock', 'Dragon']           2\n",
      "['Dragon', 'Fighting']       2\n",
      "['Water', 'Bug']             2\n",
      "['Dark', 'Psychic']          2\n",
      "['Electric', 'Dark']         2\n",
      "['Fighting', 'Psychic']      2\n",
      "['Poison', 'Normal']         2\n",
      "['Fighting', 'Steel']        2\n",
      "['Steel', 'Flying']          2\n",
      "['Fighting', 'Poison']       2\n",
      "['Ice', 'Bug']               2\n",
      "['Fire', 'Ground']           2\n",
      "['Ground', 'Dragon']         2\n",
      "['Ground', 'Psychic']        2\n",
      "['Rock', 'Grass']            2\n",
      "['Ground', 'Grass']          2\n",
      "['Rock', 'Bug']              2\n",
      "['Dragon', 'Psychic']        2\n",
      "['Dark', 'Poison']           2\n",
      "['Water', 'Electric']        2\n",
      "['Fighting', 'Flying']       2\n",
      "['Grass', 'Ice']             2\n",
      "['Ice', 'Flying']            2\n",
      "['Poison', 'Fairy']          2\n",
      "['Steel', 'Poison']          2\n",
      "['Electric', 'Ice']          2\n",
      "['Ice', 'Steel']             2\n",
      "['Ghost', 'Dragon']          2\n",
      "['Dark', 'Fighting']         2\n",
      "['Normal', 'Ghost']          2\n",
      "['Grass', 'Fire']            2\n",
      "['Bug', 'Fire']              2\n",
      "['Bug', 'Ground']            2\n",
      "['Fairy', 'Fighting']        1\n",
      "['Fighting', 'Dragon']       1\n",
      "['Grass', 'Water']           1\n",
      "['Grass', 'Rock']            1\n",
      "['Fighting', 'Water']        1\n",
      "['Dragon', 'Dark']           1\n",
      "['Dark', 'Ground']           1\n",
      "['Fire', 'Poison']           1\n",
      "['Fighting', 'Electric']     1\n",
      "['Electric', 'Ground']       1\n",
      "['Fairy', 'Psychic']         1\n",
      "['Ground', 'Fighting']       1\n",
      "['Flying', 'Fighting']       1\n",
      "['Dragon', 'Normal']         1\n",
      "['Flying', 'Dark']           1\n",
      "['Bug', 'Dark']              1\n",
      "['Psychic', 'Fire']          1\n",
      "['Ghost', 'Dark']            1\n",
      "['Flying', 'Steel']          1\n",
      "['Electric', 'Fire']         1\n",
      "['Electric', 'Psychic']      1\n",
      "['Ice', 'Fairy']             1\n",
      "['Steel', 'Ground']          1\n",
      "['Rock', 'Dark']             1\n",
      "['Bug', 'Ghost']             1\n",
      "['Dark', 'Ghost']            1\n",
      "['Grass', 'Ground']          1\n",
      "['Water', 'Steel']           1\n",
      "['Normal', 'Water']          1\n",
      "['Poison', 'Bug']            1\n",
      "['Psychic', 'Fighting']      1\n",
      "['Ice', 'Ghost']             1\n",
      "['Electric', 'Ghost']        1\n",
      "['Electric', 'Water']        1\n",
      "['Psychic', 'Steel']         1\n",
      "['Fire', 'Steel']            1\n",
      "['Ground', 'Electric']       1\n",
      "['Steel', 'Fighting']        1\n",
      "['Rock', 'Fighting']         1\n",
      "['Dragon', 'Fire']           1\n",
      "['Dragon', 'Electric']       1\n",
      "['Normal', 'Ground']         1\n",
      "['Ice', 'Rock']              1\n",
      "['Psychic', 'Dark']          1\n",
      "['Fire', 'Water']            1\n",
      "['Fire', 'Dark']             1\n",
      "['Fighting', 'Ice']          1\n",
      "['Normal', 'Dragon']         1\n",
      "['Poison', 'Ghost']          1\n",
      "Name: Type, dtype: int64\n",
      "- Unique values: [\"['Psychic', 'Fire']\" \"['Grass', 'Poison']\" \"['Fire']\"\n",
      " \"['Fire', 'Flying']\" \"['Water']\" \"['Bug']\" \"['Bug', 'Flying']\"\n",
      " \"['Bug', 'Poison']\" \"['Normal', 'Flying']\" \"['Normal']\"\n",
      " \"['Dark', 'Normal']\" \"['Poison']\" \"['Electric']\"\n",
      " \"['Electric', 'Psychic']\" \"['Ground']\" \"['Ice', 'Steel']\"\n",
      " \"['Poison', 'Ground']\" \"['Fairy']\" \"['Ice']\" \"['Ice', 'Fairy']\"\n",
      " \"['Normal', 'Fairy']\" \"['Poison', 'Flying']\" \"['Bug', 'Grass']\"\n",
      " \"['Ground', 'Steel']\" \"['Dark']\" \"['Steel']\" \"['Fighting']\"\n",
      " \"['Fire', 'Rock']\" \"['Water', 'Fighting']\" \"['Psychic']\"\n",
      " \"['Water', 'Poison']\" \"['Rock', 'Ground']\" \"['Rock', 'Electric']\"\n",
      " \"['Psychic', 'Fairy']\" \"['Water', 'Psychic']\" \"['Poison', 'Psychic']\"\n",
      " \"['Electric', 'Steel']\" \"['Water', 'Ice']\" \"['Poison', 'Dark']\"\n",
      " \"['Ghost', 'Poison']\" \"['Electric', 'Grass']\" \"['Grass', 'Psychic']\"\n",
      " \"['Grass', 'Dragon']\" \"['Fire', 'Ghost']\" \"['Poison', 'Fairy']\"\n",
      " \"['Ground', 'Rock']\" \"['Grass']\" \"['Ice', 'Psychic']\"\n",
      " \"['Water', 'Flying']\" \"['Rock', 'Water']\" \"['Rock', 'Flying']\"\n",
      " \"['Ice', 'Flying']\" \"['Psychic', 'Flying']\" \"['Electric', 'Flying']\"\n",
      " \"['Fighting', 'Flying']\" \"['Dark', 'Flying']\" \"['Dragon']\"\n",
      " \"['Dragon', 'Flying']\" \"['Water', 'Electric']\" \"['Fairy', 'Flying']\"\n",
      " \"['Water', 'Fairy']\" \"['Rock']\" \"['Grass', 'Flying']\"\n",
      " \"['Water', 'Ground']\" \"['Ghost']\" \"['Normal', 'Psychic']\"\n",
      " \"['Bug', 'Steel']\" \"['Ground', 'Flying']\" \"['Steel', 'Ground']\"\n",
      " \"['Dark', 'Poison']\" \"['Bug', 'Rock']\" \"['Bug', 'Fighting']\"\n",
      " \"['Dark', 'Ice']\" \"['Fighting', 'Poison']\" \"['Ice', 'Ground']\"\n",
      " \"['Water', 'Rock']\" \"['Steel', 'Flying']\" \"['Dark', 'Fire']\"\n",
      " \"['Water', 'Dragon']\" \"['Rock', 'Dark']\" \"['Psychic', 'Grass']\"\n",
      " \"['Fire', 'Fighting']\" \"['Water', 'Grass']\" \"['Grass', 'Dark']\"\n",
      " \"['Bug', 'Water']\" \"['Grass', 'Fighting']\" \"['Bug', 'Ground']\"\n",
      " \"['Bug', 'Ghost']\" \"['Dark', 'Ghost']\" \"['Steel', 'Fairy']\"\n",
      " \"['Steel', 'Rock']\" \"['Fighting', 'Psychic']\" \"['Water', 'Dark']\"\n",
      " \"['Fire', 'Ground']\" \"['Ground', 'Dragon']\" \"['Rock', 'Psychic']\"\n",
      " \"['Ground', 'Psychic']\" \"['Rock', 'Grass']\" \"['Rock', 'Bug']\"\n",
      " \"['Ice', 'Water']\" \"['Steel', 'Psychic']\" \"['Dragon', 'Psychic']\"\n",
      " \"['Grass', 'Ground']\" \"['Water', 'Steel']\" \"['Normal', 'Water']\"\n",
      " \"['Rock', 'Steel']\" \"['Ghost', 'Flying']\" \"['Ghost', 'Dark']\"\n",
      " \"['Dragon', 'Ground']\" \"['Fighting', 'Steel']\" \"['Poison', 'Bug']\"\n",
      " \"['Poison', 'Fighting']\" \"['Grass', 'Ice']\" \"['Psychic', 'Fighting']\"\n",
      " \"['Ice', 'Ghost']\" \"['Electric', 'Ghost']\" \"['Electric', 'Fire']\"\n",
      " \"['Electric', 'Water']\" \"['Electric', 'Ice']\" \"['Steel', 'Dragon']\"\n",
      " \"['Fire', 'Steel']\" \"['Ghost', 'Dragon']\" \"['Grass', 'Fairy']\"\n",
      " \"['Ground', 'Dark']\" \"['Fire', 'Psychic']\" \"['Dark', 'Fighting']\"\n",
      " \"['Ground', 'Ghost']\" \"['Normal', 'Ghost']\" \"['Normal', 'Grass']\"\n",
      " \"['Water', 'Ghost']\" \"['Bug', 'Electric']\" \"['Grass', 'Steel']\"\n",
      " \"['Ghost', 'Fire']\" \"['Ground', 'Electric']\" \"['Dark', 'Steel']\"\n",
      " \"['Dark', 'Dragon']\" \"['Bug', 'Fire']\" \"['Steel', 'Fighting']\"\n",
      " \"['Rock', 'Fighting']\" \"['Flying']\" \"['Dragon', 'Fire']\"\n",
      " \"['Dragon', 'Electric']\" \"['Dragon', 'Ice']\" \"['Normal', 'Fighting']\"\n",
      " \"['Normal', 'Ground']\" \"['Fire', 'Normal']\" \"['Fighting', 'Dark']\"\n",
      " \"['Steel', 'Ghost']\" \"['Dark', 'Psychic']\" \"['Poison', 'Water']\"\n",
      " \"['Poison', 'Dragon']\" \"['Electric', 'Normal']\" \"['Rock', 'Dragon']\"\n",
      " \"['Rock', 'Ice']\" \"['Electric', 'Fairy']\" \"['Rock', 'Fairy']\"\n",
      " \"['Ghost', 'Grass']\" \"['Ice', 'Rock']\" \"['Flying', 'Dragon']\"\n",
      " \"['Psychic', 'Ghost']\" \"['Psychic', 'Dark']\" \"['Fire', 'Water']\"\n",
      " \"['Grass', 'Ghost']\" \"['Fire', 'Dark']\" \"['Fighting', 'Ice']\"\n",
      " \"['Bug', 'Fairy']\" \"['Water', 'Bug']\" \"['Poison', 'Fire']\"\n",
      " \"['Ghost', 'Ground']\" \"['Fire', 'Dragon']\" \"['Ghost', 'Fairy']\"\n",
      " \"['Normal', 'Dragon']\" \"['Dragon', 'Fighting']\" \"['Psychic', 'Steel']\"\n",
      " \"['Rock', 'Poison']\" \"['Fighting', 'Ghost']\" \"['Flying', 'Steel']\"\n",
      " \"['Bug', 'Psychic']\" \"['Rock', 'Fire']\" \"['Flying', 'Water']\"\n",
      " \"['Electric', 'Poison']\" \"['Fire', 'Bug']\" \"['Dark', 'Fairy']\"\n",
      " \"['Ice', 'Bug']\" \"['Psychic', 'Normal']\" \"['Electric', 'Dark']\"\n",
      " \"['Electric', 'Dragon']\" \"['Dragon', 'Ghost']\" \"['Fairy', 'Steel']\"\n",
      " \"['Fighting', 'Water']\" \"['Dark', 'Grass']\" \"['Ground', 'Normal']\"\n",
      " \"['Bug', 'Dark']\" \"['Electric', 'Fighting']\" \"['Grass', 'Normal']\"\n",
      " \"['Poison', 'Normal']\" \"['Ground', 'Grass']\" \"['Grass', 'Fire']\"\n",
      " \"['Flying', 'Dark']\" \"['Steel', 'Poison']\" \"['Dragon', 'Normal']\"\n",
      " \"['Flying', 'Fighting']\" \"['Dragon', 'Water']\" \"['Ground', 'Fighting']\"\n",
      " \"['Fairy', 'Psychic']\" \"['Electric', 'Ground']\"\n",
      " \"['Fighting', 'Electric']\" \"['Fire', 'Poison']\" \"['Dark', 'Ground']\"\n",
      " \"['Dragon', 'Dark']\" \"['Fairy', 'Fighting']\" \"['Fighting', 'Dragon']\"\n",
      " \"['Grass', 'Water']\" \"['Grass', 'Rock']\" \"['Poison', 'Ghost']\"]\n"
     ]
    }
   ],
   "source": [
    "describe_feature(data, 'Type')"
   ]
  },
  {
   "cell_type": "markdown",
   "metadata": {},
   "source": [
    "Before doing anything else, we are going to divide this feature into 2: Type1 and Type 2. If the Pokémon has only 1 type, Type2 will have a placeholder value representing \"None\" typing, but it will be necessary in order to not have NANs."
   ]
  },
  {
   "cell_type": "code",
   "execution_count": 226,
   "metadata": {},
   "outputs": [
    {
     "name": "stdout",
     "output_type": "stream",
     "text": [
      "- Type: object\n",
      "- First rows:\n",
      "0    Psychic\n",
      "1      Grass\n",
      "2      Grass\n",
      "3      Grass\n",
      "4       Fire\n",
      "Name: Type1, dtype: object\n",
      "- Last rows:\n",
      "1174      Rock\n",
      "1175     Steel\n",
      "1176    Normal\n",
      "1177    Normal\n",
      "1178    Poison\n",
      "Name: Type1, dtype: object\n",
      "- Number of missing values: 0\n",
      "object\n",
      "- Number of distinct values: 18\n",
      "- Unique value counts:\n",
      "Water       145\n",
      "Normal      135\n",
      "Grass       111\n",
      "Bug          91\n",
      "Psychic      75\n",
      "Fire         75\n",
      "Electric     71\n",
      "Rock         64\n",
      "Dark         53\n",
      "Poison       48\n",
      "Ground       46\n",
      "Fighting     45\n",
      "Fairy        44\n",
      "Dragon       43\n",
      "Steel        41\n",
      "Ice          40\n",
      "Ghost        40\n",
      "Flying       12\n",
      "Name: Type1, dtype: int64\n",
      "- Unique values: ['Psychic' 'Grass' 'Fire' 'Water' 'Bug' 'Normal' 'Dark' 'Poison'\n",
      " 'Electric' 'Ground' 'Ice' 'Fairy' 'Steel' 'Fighting' 'Rock' 'Ghost'\n",
      " 'Dragon' 'Flying']\n",
      "- Type: object\n",
      "- First rows:\n",
      "0      Fire\n",
      "1    Poison\n",
      "2    Poison\n",
      "3    Poison\n",
      "4      None\n",
      "Name: Type2, dtype: object\n",
      "- Last rows:\n",
      "1174    Psychic\n",
      "1175    Psychic\n",
      "1176       None\n",
      "1177       None\n",
      "1178      Ghost\n",
      "Name: Type2, dtype: object\n",
      "- Number of missing values: 0\n",
      "object\n",
      "- Number of distinct values: 19\n",
      "- Unique value counts:\n",
      "None        550\n",
      "Flying      116\n",
      "Psychic      47\n",
      "Poison       44\n",
      "Steel        41\n",
      "Ground       40\n",
      "Fairy        39\n",
      "Dragon       39\n",
      "Ghost        37\n",
      "Fighting     37\n",
      "Grass        35\n",
      "Dark         29\n",
      "Water        27\n",
      "Rock         20\n",
      "Ice          20\n",
      "Normal       19\n",
      "Fire         17\n",
      "Electric     13\n",
      "Bug           9\n",
      "Name: Type2, dtype: int64\n",
      "- Unique values: ['Fire' 'Poison' 'None' 'Flying' 'Normal' 'Psychic' 'Steel' 'Ground'\n",
      " 'Fairy' 'Grass' 'Rock' 'Fighting' 'Electric' 'Ice' 'Dark' 'Dragon'\n",
      " 'Ghost' 'Water' 'Bug']\n"
     ]
    }
   ],
   "source": [
    "data['Type'] = remove_first_last_letter(data['Type'], ',')\n",
    "data['Type1'] = get_first_element(data['Type'])\n",
    "data['Type2'] = get_second_element(data['Type'])\n",
    "describe_feature(data, 'Type1')\n",
    "describe_feature(data, 'Type2')\n",
    "data = data.drop('Type', axis=1)"
   ]
  },
  {
   "cell_type": "markdown",
   "metadata": {},
   "source": [
    "Types are ordered, and it is important to consider it in any further analysis (although there are no in-game differences between being Normal,Ghost or Ghost,Normal types, the order does not matter (is much more like a set rather than a list))"
   ]
  },
  {
   "cell_type": "markdown",
   "metadata": {},
   "source": [
    "### Feature Abilities"
   ]
  },
  {
   "cell_type": "code",
   "execution_count": 227,
   "metadata": {},
   "outputs": [],
   "source": [
    "data['Abilities'] = remove_first_last_letter(data['Abilities'], ',')\n",
    "data['Ability1'] = get_first_element(data['Abilities'])\n",
    "data['Ability2'] = get_second_element(data['Abilities'])\n",
    "data['HiddenAbility'] = get_third_element(data['Abilities'])\n",
    "data = data.drop('Abilities', axis=1)"
   ]
  },
  {
   "cell_type": "code",
   "execution_count": 228,
   "metadata": {},
   "outputs": [
    {
     "name": "stdout",
     "output_type": "stream",
     "text": [
      "- Type: object\n",
      "- First rows:\n",
      "0    Victory Star\n",
      "1        Overgrow\n",
      "2        Overgrow\n",
      "3        Overgrow\n",
      "4           Blaze\n",
      "Name: Ability1, dtype: object\n",
      "- Last rows:\n",
      "1174         Quark Drive\n",
      "1175         Quark Drive\n",
      "1176          Tera Shift\n",
      "1177          Tera Shell\n",
      "1178    Poison Puppeteer\n",
      "Name: Ability1, dtype: object\n",
      "- Number of missing values: 0\n",
      "object\n",
      "- Number of distinct values: 244\n",
      "- Unique value counts:\n",
      "Levitate                 38\n",
      "Swift Swim               32\n",
      "Keen Eye                 28\n",
      "Chlorophyll              28\n",
      "Intimidate               27\n",
      "Overgrow                 26\n",
      "Blaze                    26\n",
      "Torrent                  25\n",
      "Pressure                 25\n",
      "Swarm                    22\n",
      "Sturdy                   20\n",
      "Run Away                 19\n",
      "Thick Fat                19\n",
      "Poison Point             16\n",
      "Shed Skin                14\n",
      "Clear Body               13\n",
      "Cute Charm               13\n",
      "Flash Fire               13\n",
      "Inner Focus              13\n",
      "Oblivious                12\n",
      "Insomnia                 12\n",
      "Serene Grace             12\n",
      "Synchronize              12\n",
      "Natural Cure             12\n",
      "Symbiosis                12\n",
      "Sand Veil                12\n",
      "Beast Boost              11\n",
      "Defiant                  11\n",
      "Gluttony                 11\n",
      "Static                   11\n",
      "Rock Head                11\n",
      "Water Absorb             11\n",
      "Guts                     11\n",
      "Own Tempo                10\n",
      "Pickup                   10\n",
      "Quark Drive              10\n",
      "Protosynthesis           10\n",
      "Hyper Cutter             10\n",
      "Overcoat                  9\n",
      "Shield Dust               9\n",
      "Hustle                    9\n",
      "Limber                    9\n",
      "Flame Body                8\n",
      "Volt Absorb               8\n",
      "Rivalry                   8\n",
      "Snow Cloak                8\n",
      "Lightning Rod             8\n",
      "Leaf Guard                8\n",
      "Battle Armor              7\n",
      "Big Pecks                 7\n",
      "Prankster                 7\n",
      "Sap Sipper                7\n",
      "Vital Spirit              7\n",
      "Magnet Pull               7\n",
      "Soundproof                7\n",
      "Justified                 7\n",
      "Effect Spore              6\n",
      "Healer                    6\n",
      "Telepathy                 6\n",
      "Mold Breaker              6\n",
      "Steadfast                 6\n",
      "Frisk                     6\n",
      "Illuminate                6\n",
      "Sheer Force               5\n",
      "Anticipation              5\n",
      "Compound Eyes             5\n",
      "Rattled                   5\n",
      "Aftermath                 5\n",
      "Early Bird                5\n",
      "Strong Jaw                5\n",
      "Hydration                 5\n",
      "Iron Fist                 5\n",
      "Shell Armor               5\n",
      "Download                  5\n",
      "Stench                    5\n",
      "Forecast                  4\n",
      "Damp                      4\n",
      "Flower Veil               4\n",
      "Unaware                   4\n",
      "Plus                      4\n",
      "Unnerve                   4\n",
      "Cursed Body               4\n",
      "Fluffy                    4\n",
      "Sticky Hold               4\n",
      "Illusion                  4\n",
      "Dancer                    4\n",
      "Technician                3\n",
      "Sand Force                3\n",
      "Honey Gather              3\n",
      "Aura Break                3\n",
      "Sand Rush                 3\n",
      "Zen Mode                  3\n",
      "Cheek Pouch               3\n",
      "Ice Body                  3\n",
      "Iron Barbs                3\n",
      "Tough Claws               3\n",
      "Contrary                  3\n",
      "Sweet Veil                3\n",
      "Reckless                  3\n",
      "Speed Boost               3\n",
      "Prism Armor               3\n",
      "Magma Armor               3\n",
      "Bulletproof               3\n",
      "Purifying Salt            3\n",
      "Rough Skin                3\n",
      "Water Veil                3\n",
      "Suction Cups              3\n",
      "Psychic Surge             3\n",
      "Gulp Missile              3\n",
      "Thermal Exchange          3\n",
      "Toxic Chain               3\n",
      "Stance Change             2\n",
      "Unseen Fist               2\n",
      "Mega Launcher             2\n",
      "Hunger Switch             2\n",
      "Dauntless Shield          2\n",
      "Steam Engine              2\n",
      "Dry Skin                  2\n",
      "Ice Face                  2\n",
      "Grassy Surge              2\n",
      "Refrigerate               2\n",
      "Merciless                 2\n",
      "Disguise                  2\n",
      "Schooling                 2\n",
      "Shields Down              2\n",
      "Water Compaction          2\n",
      "Fairy Aura                2\n",
      "Wind Power                2\n",
      "Magician                  2\n",
      "Stakeout                  2\n",
      "Unburden                  2\n",
      "Mycelium Might            2\n",
      "Wind Rider                2\n",
      "Punk Rock                 2\n",
      "Corrosion                 2\n",
      "Intrepid Sword            2\n",
      "Water Bubble              2\n",
      "Cotton Down               2\n",
      "Mummy                     2\n",
      "No Guard                  2\n",
      "Pickpocket                2\n",
      "Liquid Ooze               2\n",
      "Gooey                     2\n",
      "Truant                    2\n",
      "Quick Feet                2\n",
      "Supersweet Syrup          2\n",
      "Weak Armor                2\n",
      "Shadow Tag                2\n",
      "Flower Gift               2\n",
      "Heatproof                 2\n",
      "Berserk                   2\n",
      "Trace                     2\n",
      "Cud Chew                  2\n",
      "Poison Touch              2\n",
      "Fur Coat                  2\n",
      "Simple                    2\n",
      "Pure Power                2\n",
      "Aroma Veil                2\n",
      "Turboblaze                2\n",
      "Toxic Debris              2\n",
      "Forewarn                  2\n",
      "Wandering Spirit          2\n",
      "Solid Rock                2\n",
      "Defeatist                 2\n",
      "Zero to Hero              2\n",
      "Storm Drain               2\n",
      "Teravolt                  2\n",
      "Snow Warning              2\n",
      "Stalwart                  1\n",
      "Chilling Neigh            1\n",
      "Heavy Metal               1\n",
      "Stamina                   1\n",
      "Transistor                1\n",
      "Dragon's Maw              1\n",
      "Earth Eater               1\n",
      "Tera Shift                1\n",
      "Tera Shell                1\n",
      "Power Spot                1\n",
      "Grim Neigh                1\n",
      "Electromorphosis          1\n",
      "Good as Gold              1\n",
      "Tablets of Ruin           1\n",
      "Sword of Ruin             1\n",
      "Vessel of Ruin            1\n",
      "Beads of Ruin             1\n",
      "Commander                 1\n",
      "Orichalcum Pulse          1\n",
      "Scrappy                   1\n",
      "Seed Sower                1\n",
      "Hadron Engine             1\n",
      "Well-Baked Body           1\n",
      "Friend Guard              1\n",
      "Anger Shell               1\n",
      "Unnerve', \"Mind's Eye     1\n",
      "Opportunist               1\n",
      "Victory Star              1\n",
      "Tangled Feet              1\n",
      "Magic Bounce              1\n",
      "Wonder Skin               1\n",
      "Multitype                 1\n",
      "Bad Dreams                1\n",
      "Slow Start                1\n",
      "Adaptability              1\n",
      "Motor Drive               1\n",
      "Air Lock                  1\n",
      "Drought                   1\n",
      "Drizzle                   1\n",
      "Color Change              1\n",
      "Marvel Scale              1\n",
      "Immunity                  1\n",
      "White Smoke               1\n",
      "Minus                     1\n",
      "Wonder Guard              1\n",
      "Sand Stream               1\n",
      "Curious Medicine          1\n",
      "Competitive               1\n",
      "Quick Draw                1\n",
      "Surge Surfer              1\n",
      "Tinted Lens               1\n",
      "Mimicry                   1\n",
      "Protean                   1\n",
      "Dark Aura                 1\n",
      "Misty Surge               1\n",
      "Sand Spit                 1\n",
      "Ripen                     1\n",
      "Ball Fetch                1\n",
      "Mirror Armor              1\n",
      "Sniper                    1\n",
      "Libero                    1\n",
      "Soul-Heart                1\n",
      "Shadow Shield             1\n",
      "Full Metal Body           1\n",
      "Electric Surge            1\n",
      "Long Reach                1\n",
      "Steelworker               1\n",
      "Dazzling                  1\n",
      "Comatose                  1\n",
      "RKS System                1\n",
      "Innards Out               1\n",
      "Emergency Exit            1\n",
      "Wimp Out                  1\n",
      "Receiver                  1\n",
      "Battery                   1\n",
      "Poison Puppeteer          1\n",
      "Name: Ability1, dtype: int64\n",
      "- Unique values: ['Victory Star' 'Overgrow' 'Blaze' 'Torrent' 'Shield Dust' 'Shed Skin'\n",
      " 'Tinted Lens' 'Swarm' 'Keen Eye' 'Run Away' 'Gluttony' 'Intimidate'\n",
      " 'Lightning Rod' 'Static' 'Surge Surfer' 'Sand Veil' 'Snow Cloak'\n",
      " 'Poison Point' 'Cute Charm' 'Flash Fire' 'Inner Focus' 'Chlorophyll'\n",
      " 'Effect Spore' 'Compound Eyes' 'Pickup' 'Rattled' 'Limber' 'Fur Coat'\n",
      " 'Damp' 'Vital Spirit' 'Justified' 'Water Absorb' 'Synchronize' 'Guts'\n",
      " 'Steadfast' 'Clear Body' 'Rock Head' 'Magnet Pull' 'Oblivious'\n",
      " 'Quick Draw' 'Thick Fat' 'Stench' 'Poison Touch' 'Shell Armor' 'Levitate'\n",
      " 'Cursed Body' 'Insomnia' 'Hyper Cutter' 'Sheer Force' 'Aftermath'\n",
      " 'Soundproof' 'Frisk' 'Own Tempo' 'Natural Cure' 'Early Bird' 'Swift Swim'\n",
      " 'Illuminate' 'Flame Body' 'Cud Chew' 'Hydration' 'Anticipation'\n",
      " 'Volt Absorb' 'Trace' 'Pressure' 'Competitive' 'Defiant' 'Berserk'\n",
      " 'Hustle' 'Sturdy' 'Speed Boost' 'Curious Medicine' 'Shadow Tag'\n",
      " 'Serene Grace' 'Pickpocket' 'Magma Armor' 'Weak Armor' 'Suction Cups'\n",
      " 'Sand Stream' 'Quick Feet' 'Truant' 'Wonder Guard' 'Pure Power' 'Plus'\n",
      " 'Minus' 'Liquid Ooze' 'Rough Skin' 'Water Veil' 'White Smoke' 'Immunity'\n",
      " 'Battle Armor' 'Marvel Scale' 'Forecast' 'Color Change' 'Drizzle'\n",
      " 'Drought' 'Air Lock' 'Simple' 'Rivalry' 'Mold Breaker' 'Overcoat'\n",
      " 'Honey Gather' 'Flower Gift' 'Sticky Hold' 'Technician' 'Sand Force'\n",
      " 'Snow Warning' 'Motor Drive' 'Leaf Guard' 'Adaptability' 'Telepathy'\n",
      " 'Slow Start' 'Bad Dreams' 'Multitype' 'Forewarn' 'Big Pecks' 'Unaware'\n",
      " 'Sand Rush' 'Healer' 'Prankster' 'Reckless' 'Zen Mode' 'Wonder Skin'\n",
      " 'Mummy' 'Wandering Spirit' 'Solid Rock' 'Defeatist' 'Illusion' 'Ice Body'\n",
      " 'Iron Barbs' 'Mimicry' 'Iron Fist' 'Turboblaze' 'Teravolt' 'Download'\n",
      " 'Protean' 'Symbiosis' 'Flower Veil' 'Sap Sipper' 'No Guard'\n",
      " 'Stance Change' 'Sweet Veil' 'Contrary' 'Tough Claws' 'Mega Launcher'\n",
      " 'Dry Skin' 'Strong Jaw' 'Refrigerate' 'Cheek Pouch' 'Fairy Aura'\n",
      " 'Dark Aura' 'Aura Break' 'Magician' 'Long Reach' 'Stakeout' 'Battery'\n",
      " 'Dancer' 'Schooling' 'Merciless' 'Water Bubble' 'Corrosion' 'Fluffy'\n",
      " 'Receiver' 'Wimp Out' 'Emergency Exit' 'Water Compaction' 'Innards Out'\n",
      " 'RKS System' 'Shields Down' 'Comatose' 'Disguise' 'Dazzling'\n",
      " 'Steelworker' 'Bulletproof' 'Electric Surge' 'Psychic Surge'\n",
      " 'Grassy Surge' 'Misty Surge' 'Full Metal Body' 'Shadow Shield'\n",
      " 'Beast Boost' 'Prism Armor' 'Soul-Heart' 'Libero' 'Sniper' 'Mirror Armor'\n",
      " 'Cotton Down' 'Ball Fetch' 'Steam Engine' 'Ripen' 'Sand Spit'\n",
      " 'Gulp Missile' 'Punk Rock' 'Magic Bounce' 'Tangled Feet' 'Aroma Veil'\n",
      " 'Power Spot' 'Ice Face' 'Hunger Switch' 'Heavy Metal' 'Stalwart'\n",
      " 'Intrepid Sword' 'Dauntless Shield' 'Unseen Fist' 'Transistor'\n",
      " \"Dragon's Maw\" 'Chilling Neigh' 'Grim Neigh' 'Unnerve'\n",
      " 'Unnerve\\', \"Mind\\'s Eye' 'Friend Guard' 'Well-Baked Body' 'Seed Sower'\n",
      " 'Purifying Salt' 'Electromorphosis' 'Wind Power' 'Unburden' 'Wind Rider'\n",
      " 'Mycelium Might' 'Anger Shell' 'Opportunist' 'Gooey' 'Zero to Hero'\n",
      " 'Earth Eater' 'Toxic Debris' 'Scrappy' 'Storm Drain' 'Commander'\n",
      " 'Protosynthesis' 'Quark Drive' 'Thermal Exchange' 'Good as Gold'\n",
      " 'Tablets of Ruin' 'Sword of Ruin' 'Vessel of Ruin' 'Beads of Ruin'\n",
      " 'Orichalcum Pulse' 'Hadron Engine' 'Supersweet Syrup' 'Heatproof'\n",
      " 'Toxic Chain' 'Stamina' 'Tera Shift' 'Tera Shell' 'Poison Puppeteer']\n"
     ]
    }
   ],
   "source": [
    "describe_feature(data, 'Ability1')"
   ]
  },
  {
   "cell_type": "code",
   "execution_count": 229,
   "metadata": {},
   "outputs": [
    {
     "name": "stdout",
     "output_type": "stream",
     "text": [
      "- Type: object\n",
      "- First rows:\n",
      "0           None\n",
      "1    Chlorophyll\n",
      "2    Chlorophyll\n",
      "3    Chlorophyll\n",
      "4    Solar Power\n",
      "Name: Ability2, dtype: object\n",
      "- Last rows:\n",
      "1174    None\n",
      "1175    None\n",
      "1176    None\n",
      "1177    None\n",
      "1178    None\n",
      "Name: Ability2, dtype: object\n",
      "- Number of missing values: 0\n",
      "object\n",
      "- Number of distinct values: 172\n",
      "- Unique value counts:\n",
      "None                   340\n",
      "Sturdy                  21\n",
      "Shell Armor             18\n",
      "Infiltrator             18\n",
      "Own Tempo               15\n",
      "Ice Body                14\n",
      "Sheer Force             14\n",
      "Sniper                  14\n",
      "Gluttony                13\n",
      "Inner Focus             13\n",
      "Unburden                13\n",
      "Telepathy               13\n",
      "Technician              12\n",
      "Frisk                   12\n",
      "Hydration               12\n",
      "Run Away                11\n",
      "Water Absorb            10\n",
      "Sand Veil               10\n",
      "Oblivious               10\n",
      "Regenerator             10\n",
      "Unnerve                 10\n",
      "Moxie                   10\n",
      "Flash Fire               9\n",
      "Klutz                    9\n",
      "Rock Head                9\n",
      "Storm Drain              9\n",
      "Flame Body               9\n",
      "Early Bird               9\n",
      "Scrappy                  9\n",
      "Leaf Guard               8\n",
      "Vital Spirit             8\n",
      "Hustle                   8\n",
      "Competitive              8\n",
      "Keen Eye                 8\n",
      "Chlorophyll              8\n",
      "Snow Cloak               7\n",
      "Soundproof               7\n",
      "Intimidate               7\n",
      "Overcoat                 7\n",
      "Magic Guard              7\n",
      "Rain Dish                7\n",
      "Rivalry                  7\n",
      "Lightning Rod            7\n",
      "Tinted Lens              7\n",
      "Guts                     7\n",
      "Damp                     7\n",
      "Compound Eyes            6\n",
      "Pickup                   6\n",
      "Swarm                    6\n",
      "Sticky Hold              6\n",
      "Quick Feet               6\n",
      "Super Luck               6\n",
      "Rattled                  6\n",
      "Mold Breaker             6\n",
      "Unaware                  6\n",
      "Tangled Feet             6\n",
      "Natural Cure             6\n",
      "Solar Power              6\n",
      "Serene Grace             6\n",
      "Contrary                 6\n",
      "Iron Fist                6\n",
      "Static                   6\n",
      "Harvest                  6\n",
      "Protean                  5\n",
      "Skill Link               5\n",
      "Slush Rush               5\n",
      "Sand Rush                5\n",
      "Snow Warning             5\n",
      "Speed Boost              5\n",
      "Shed Skin                5\n",
      "Water Veil               5\n",
      "Adaptability             5\n",
      "Magician                 4\n",
      "Defiant                  4\n",
      "Anticipation             4\n",
      "Sap Sipper               4\n",
      "Cursed Body              4\n",
      "Swift Swim               4\n",
      "Minus                    4\n",
      "Poison Touch             4\n",
      "Synchronize              4\n",
      "Light Metal              4\n",
      "Aroma Veil               4\n",
      "Weak Armor               4\n",
      "Strong Jaw               4\n",
      "Plus                     4\n",
      "Forewarn                 4\n",
      "Cloud Nine               4\n",
      "Insomnia                 4\n",
      "Dry Skin                 4\n",
      "Reckless                 4\n",
      "Bulletproof              3\n",
      "Thick Fat                3\n",
      "Filter                   3\n",
      "Sharpness                3\n",
      "Download                 3\n",
      "Limber                   3\n",
      "Drought                  3\n",
      "Poison Point             3\n",
      "Arena Trap               3\n",
      "Rough Skin               3\n",
      "Heatproof                3\n",
      "Cheek Pouch              3\n",
      "Trace                    3\n",
      "Gale Wings               3\n",
      "Symbiosis                3\n",
      "Effect Spore             3\n",
      "Liquid Voice             3\n",
      "Motor Drive              3\n",
      "Huge Power               3\n",
      "Big Pecks                2\n",
      "Corrosion                2\n",
      "Fluffy                   2\n",
      "Guard Dog                2\n",
      "Sand Force               2\n",
      "Grassy Surge             2\n",
      "Volt Absorb              2\n",
      "Stakeout                 2\n",
      "Ice Scales               2\n",
      "Propeller Tail           2\n",
      "Libero                   2\n",
      "Stamina                  2\n",
      "Shield Dust              2\n",
      "Grass Pelt               2\n",
      "Long Reach               2\n",
      "Suction Cups             2\n",
      "Pastel Veil              2\n",
      "Solid Rock               2\n",
      "Multiscale               2\n",
      "Magnet Pull              2\n",
      "Tangling Hair            2\n",
      "Marvel Scale             2\n",
      "Torrent                  2\n",
      "Illuminate               2\n",
      "Screen Cleaner           2\n",
      "Steadfast                2\n",
      "Anger Point              2\n",
      "Poison Heal              2\n",
      "Battle Armor             2\n",
      "Normalize                2\n",
      "Overgrow                 2\n",
      "Blaze                    2\n",
      "No Guard                 2\n",
      "Liquid Ooze              2\n",
      "Aftermath                2\n",
      "Pickpocket               2\n",
      "White Smoke              1\n",
      "Tough Claws              1\n",
      "Armor Tail               1\n",
      "Electric Surge           1\n",
      "Perish Body              1\n",
      "Slow Start               1\n",
      "Heavy Metal              1\n",
      "Imposter                 1\n",
      "Neutralizing\\xa0Gas      1\n",
      "Neutralizing Gas         1\n",
      "Sand Stream              1\n",
      "Triage                   1\n",
      "Queenly Majesty          1\n",
      "Pressure                 1\n",
      "Stench                   1\n",
      "Pixilate                 1\n",
      "Healer                   1\n",
      "Magic Bounce             1\n",
      "Wind Rider               1\n",
      "Friend Guard             1\n",
      "Drizzle                  1\n",
      "Stall                    1\n",
      "Simple                   1\n",
      "Toxic Boost              1\n",
      "Zen Mode                 1\n",
      "Supreme Overlord         1\n",
      "Name: Ability2, dtype: int64\n",
      "- Unique values: ['None' 'Chlorophyll' 'Solar Power' 'Rain Dish' 'Run Away' 'Sniper'\n",
      " 'Tangled Feet' 'Guts' 'Hustle' 'Shed Skin' 'Lightning Rod' 'Sand Rush'\n",
      " 'Slush Rush' 'Rivalry' 'Magic Guard' 'Drought' 'Snow Warning'\n",
      " 'Competitive' 'Infiltrator' 'Stench' 'Effect Spore' 'Dry Skin'\n",
      " 'Tinted Lens' 'Arena Trap' 'Tangling Hair' 'Technician' 'Cloud Nine'\n",
      " 'Anger Point' 'Flash Fire' 'Damp' 'Inner Focus' 'No Guard' 'Gluttony'\n",
      " 'Liquid Ooze' 'Sturdy' 'Pastel Veil' 'Own Tempo' 'Scrappy' 'Early Bird'\n",
      " 'Hydration' 'Sticky Hold' 'Skill Link' 'Forewarn' 'Shell Armor' 'Static'\n",
      " 'Harvest' 'Reckless' 'Iron Fist' 'Oblivious' 'Neutralizing\\\\xa0Gas'\n",
      " 'Neutralizing Gas' 'Rock Head' 'Serene Grace' 'Leaf Guard' 'Water Veil'\n",
      " 'Natural Cure' 'Filter' 'Screen Cleaner' 'Vital Spirit' 'Mold Breaker'\n",
      " 'Rattled' 'Moxie' 'Imposter' 'Quick Feet' 'Download' 'Battle Armor'\n",
      " 'Pressure' 'Snow Cloak' 'Flame Body' 'Marvel Scale' 'Multiscale'\n",
      " 'Unnerve' 'Frisk' 'Sheer Force' 'Keen Eye' 'Insomnia' 'Illuminate' 'Plus'\n",
      " 'Healer' 'Huge Power' 'Pickup' 'Compound Eyes' 'Water Absorb'\n",
      " 'Magic Bounce' 'Super Luck' 'Telepathy' 'Overcoat' 'Sand Veil'\n",
      " 'Swift Swim' 'Cursed Body' 'Steadfast' 'Regenerator' 'Unburden'\n",
      " 'Speed Boost' 'Wind Rider' 'Drizzle' 'Trace' 'Poison Heal' 'Magnet Pull'\n",
      " 'Normalize' 'Stall' 'Intimidate' 'Swarm' 'Poison Point' 'Simple'\n",
      " 'Solid Rock' 'Toxic Boost' 'Anticipation' 'Storm Drain' 'Ice Body'\n",
      " 'Light Metal' 'Unaware' 'Soundproof' 'Klutz' 'Aftermath' 'Heatproof'\n",
      " 'Rough Skin' 'Thick Fat' 'Pickpocket' 'Sharpness' 'Contrary' 'Overgrow'\n",
      " 'Blaze' 'Torrent' 'Synchronize' 'Motor Drive' 'Weak Armor' 'Sand Stream'\n",
      " 'Sand Force' 'Poison Touch' 'Adaptability' 'Zen Mode' 'Big Pecks'\n",
      " 'Sap Sipper' 'Minus' 'Limber' 'Defiant' 'Bulletproof' 'Magician'\n",
      " 'Protean' 'Cheek Pouch' 'Gale Wings' 'Friend Guard' 'Symbiosis'\n",
      " 'Grass Pelt' 'Aroma Veil' 'Suction Cups' 'Pixilate' 'Long Reach'\n",
      " 'Liquid Voice' 'Strong Jaw' 'Shield Dust' 'Stamina' 'Queenly Majesty'\n",
      " 'Triage' 'Grassy Surge' 'Libero' 'Propeller Tail' 'White Smoke'\n",
      " 'Tough Claws' 'Perish Body' 'Electric Surge' 'Ice Scales' 'Heavy Metal'\n",
      " 'Stakeout' 'Volt Absorb' 'Guard Dog' 'Slow Start' 'Corrosion' 'Fluffy'\n",
      " 'Armor Tail' 'Supreme Overlord']\n"
     ]
    }
   ],
   "source": [
    "describe_feature(data, 'Ability2')"
   ]
  },
  {
   "cell_type": "code",
   "execution_count": 230,
   "metadata": {},
   "outputs": [
    {
     "name": "stdout",
     "output_type": "stream",
     "text": [
      "- Type: object\n",
      "- First rows:\n",
      "0    None\n",
      "1    None\n",
      "2    None\n",
      "3    None\n",
      "4    None\n",
      "Name: HiddenAbility, dtype: object\n",
      "- Last rows:\n",
      "1174    None\n",
      "1175    None\n",
      "1176    None\n",
      "1177    None\n",
      "1178    None\n",
      "Name: HiddenAbility, dtype: object\n",
      "- Number of missing values: 0\n",
      "object\n",
      "- Number of distinct values: 128\n",
      "- Unique value counts:\n",
      "None                648\n",
      "Regenerator          17\n",
      "Weak Armor           15\n",
      "Sand Force           13\n",
      "Analytic             12\n",
      "Unnerve              11\n",
      "Sheer Force          11\n",
      "Pickpocket           11\n",
      "Overcoat             11\n",
      "Mold Breaker         11\n",
      "Rattled              10\n",
      "Sap Sipper           10\n",
      "Swift Swim            9\n",
      "Telepathy             9\n",
      "Damp                  9\n",
      "Prankster             9\n",
      "Moody                 8\n",
      "Sand Veil             7\n",
      "Technician            7\n",
      "Adaptability          7\n",
      "Iron Fist             7\n",
      "Hustle                7\n",
      "Friend Guard          7\n",
      "Clear Body            6\n",
      "Defiant               6\n",
      "Moxie                 6\n",
      "Thick Fat             6\n",
      "Big Pecks             6\n",
      "Own Tempo             6\n",
      "Rain Dish             6\n",
      "Inner Focus           6\n",
      "Anger Point           6\n",
      "Steadfast             6\n",
      "Keen Eye              5\n",
      "Heavy Metal           5\n",
      "Leaf Guard            5\n",
      "Hydration             5\n",
      "Gluttony              5\n",
      "Gooey                 5\n",
      "Sweet Veil            5\n",
      "Intimidate            5\n",
      "Pressure              5\n",
      "Sturdy                5\n",
      "Infiltrator           5\n",
      "Water Absorb          5\n",
      "Cursed Body           5\n",
      "Water Veil            5\n",
      "Frisk                 5\n",
      "Poison Touch          5\n",
      "Reckless              5\n",
      "Unaware               5\n",
      "Ice Body              4\n",
      "Magic Bounce          4\n",
      "Tinted Lens           4\n",
      "Scrappy               4\n",
      "No Guard              4\n",
      "Skill Link            4\n",
      "Wonder Skin           4\n",
      "Stakeout              4\n",
      "Harvest               3\n",
      "Shadow Tag            3\n",
      "Flame Body            3\n",
      "Galvanize             3\n",
      "Aftermath             3\n",
      "Oblivious             3\n",
      "Magic Guard           3\n",
      "Guts                  3\n",
      "Klutz                 3\n",
      "Super Luck            3\n",
      "Rock Head             3\n",
      "Justified             3\n",
      "Rivalry               3\n",
      "Quick Feet            3\n",
      "Cloud Nine            3\n",
      "Bulletproof           3\n",
      "Swarm                 2\n",
      "Flash Fire            2\n",
      "Simple                2\n",
      "Sticky Hold           2\n",
      "Speed Boost           2\n",
      "Competitive           2\n",
      "Slush Rush            2\n",
      "Sand Rush             2\n",
      "Effect Spore          2\n",
      "Run Away              2\n",
      "Pickup                2\n",
      "Chlorophyll           2\n",
      "Solar Power           2\n",
      "Serene Grace          2\n",
      "Huge Power            2\n",
      "Sniper                2\n",
      "Limber                2\n",
      "Lightning Rod         2\n",
      "Flare Boost           2\n",
      "Volt Absorb           2\n",
      "Cute Charm            2\n",
      "Healer                2\n",
      "Anticipation          2\n",
      "Tangled Feet          2\n",
      "Minus                 2\n",
      "Power of Alchemy      2\n",
      "Contrary              2\n",
      "Early Bird            2\n",
      "Battle Armor          2\n",
      "Unburden              2\n",
      "Levitate              1\n",
      "Steely Spirit         1\n",
      "Immunity              1\n",
      "Rocky Payload         1\n",
      "Sharpness             1\n",
      "Dry Skin              1\n",
      "Costar                1\n",
      "Drizzle               1\n",
      "Light Metal           1\n",
      "Insomnia              1\n",
      "Honey Gather          1\n",
      "Symbiosis             1\n",
      "Natural Cure          1\n",
      "Misty Surge           1\n",
      "Poison Heal           1\n",
      "Vital Spirit          1\n",
      "Plus                  1\n",
      "Truant                1\n",
      "White Smoke           1\n",
      "Soundproof            1\n",
      "Shell Armor           1\n",
      "Storm Drain           1\n",
      "Stalwart              1\n",
      "Name: HiddenAbility, dtype: int64\n",
      "- Unique values: ['None' 'Big Pecks' 'Hustle' 'Thick Fat' 'Unnerve' 'Sheer Force'\n",
      " 'Friend Guard' 'Unaware' 'Frisk' 'Damp' 'Run Away' 'Wonder Skin'\n",
      " 'Sand Force' 'Rattled' 'Swift Swim' 'Defiant' 'Rock Head' 'Magic Guard'\n",
      " 'Steadfast' 'Rain Dish' 'Sand Veil' 'Galvanize' 'Flame Body'\n",
      " 'Anticipation' 'Regenerator' 'Analytic' 'Tangled Feet' 'Ice Body'\n",
      " 'Poison Touch' 'Power of Alchemy' 'Overcoat' 'Weak Armor' 'Inner Focus'\n",
      " 'Aftermath' 'Battle Armor' 'Unburden' 'Cloud Nine' 'Misty Surge'\n",
      " 'Reckless' 'Healer' 'Lightning Rod' 'Technician' 'Dry Skin' 'Moxie'\n",
      " 'Tinted Lens' 'Iron Fist' 'Sniper' 'Water Absorb' 'Super Luck'\n",
      " 'Magic Bounce' 'Sap Sipper' 'Drizzle' 'Infiltrator' 'Skill Link'\n",
      " 'Early Bird' 'Prankster' 'Immunity' 'Intimidate' 'Light Metal' 'Contrary'\n",
      " 'Pickpocket' 'Honey Gather' 'Moody' 'Insomnia' 'Water Veil'\n",
      " 'Vital Spirit' 'Hydration' 'Quick Feet' 'Own Tempo' 'Telepathy'\n",
      " 'Heavy Metal' 'Minus' 'Leaf Guard' 'Gluttony' 'Pressure' 'Anger Point'\n",
      " 'Shell Armor' 'Adaptability' 'Cute Charm' 'Cursed Body' 'Harvest'\n",
      " 'Justified' 'Oblivious' 'Sturdy' 'Guts' 'Volt Absorb' 'Flare Boost'\n",
      " 'Limber' 'Keen Eye' 'Poison Heal' 'Levitate' 'Scrappy' 'Rivalry' 'Simple'\n",
      " 'Mold Breaker' 'Klutz' 'Chlorophyll' 'Storm Drain' 'Shadow Tag'\n",
      " 'Serene Grace' 'No Guard' 'Swarm' 'Clear Body' 'Soundproof' 'White Smoke'\n",
      " 'Truant' 'Huge Power' 'Solar Power' 'Plus' 'Gooey' 'Pickup' 'Sweet Veil'\n",
      " 'Natural Cure' 'Symbiosis' 'Stakeout' 'Effect Spore' 'Bulletproof'\n",
      " 'Flash Fire' 'Steely Spirit' 'Sand Rush' 'Slush Rush' 'Sharpness'\n",
      " 'Competitive' 'Speed Boost' 'Rocky Payload' 'Costar' 'Sticky Hold'\n",
      " 'Stalwart']\n"
     ]
    }
   ],
   "source": [
    "describe_feature(data, 'HiddenAbility')"
   ]
  },
  {
   "cell_type": "markdown",
   "metadata": {},
   "source": [
    "### Feature Generation"
   ]
  },
  {
   "cell_type": "code",
   "execution_count": 231,
   "metadata": {},
   "outputs": [
    {
     "name": "stdout",
     "output_type": "stream",
     "text": [
      "- Type: object\n",
      "- First rows:\n",
      "0    V\n",
      "1    I\n",
      "2    I\n",
      "3    I\n",
      "4    I\n",
      "Name: Generation, dtype: object\n",
      "- Last rows:\n",
      "1174    IX\n",
      "1175    IX\n",
      "1176    IX\n",
      "1177    IX\n",
      "1178    IX\n",
      "Name: Generation, dtype: object\n",
      "- Number of missing values: 0\n",
      "object\n",
      "- Number of distinct values: 9\n",
      "- Unique value counts:\n",
      "V       186\n",
      "I       185\n",
      "III     143\n",
      "IX      134\n",
      "IV      123\n",
      "VIII    110\n",
      "II      106\n",
      "VII      99\n",
      "VI       93\n",
      "Name: Generation, dtype: int64\n",
      "- Unique values: ['V' 'I' 'II' 'III' 'IV' 'VI' 'VII' 'VIII' 'IX']\n"
     ]
    }
   ],
   "source": [
    "describe_feature(data, 'Generation')"
   ]
  },
  {
   "cell_type": "markdown",
   "metadata": {},
   "source": [
    "We can here do a really basic preprocessing in order to obtain the integer number from the roman numeral:"
   ]
  },
  {
   "cell_type": "code",
   "execution_count": 232,
   "metadata": {},
   "outputs": [
    {
     "name": "stdout",
     "output_type": "stream",
     "text": [
      "- Type: int64\n",
      "- First rows:\n",
      "0    5\n",
      "1    1\n",
      "2    1\n",
      "3    1\n",
      "4    1\n",
      "Name: Generation, dtype: int64\n",
      "- Last rows:\n",
      "1174    9\n",
      "1175    9\n",
      "1176    9\n",
      "1177    9\n",
      "1178    9\n",
      "Name: Generation, dtype: int64\n",
      "- Number of missing values: 0\n",
      "int64\n",
      "- Number of distinct values: 9\n",
      "- Unique value counts:\n",
      "5    186\n",
      "1    185\n",
      "3    143\n",
      "9    134\n",
      "4    123\n",
      "8    110\n",
      "2    106\n",
      "7     99\n",
      "6     93\n",
      "Name: Generation, dtype: int64\n",
      "- Min: 1\n",
      "- Mean: 4.737065309584394\n",
      "- Median: 5.0\n",
      "- Max: 9\n",
      "- Std: 2.6303844035296553\n"
     ]
    }
   ],
   "source": [
    "data['Generation'] = data['Generation'].replace(['I', 'II', 'III', 'IV', 'V', 'VI', 'VII', 'VIII', 'IX'], [1, 2, 3, 4, 5, 6, 7, 8, 9])\n",
    "describe_feature(data, 'Generation')"
   ]
  },
  {
   "cell_type": "markdown",
   "metadata": {},
   "source": [
    "FALTA: Corregir el tema de la generación, las formas regionales no las hace bien, por tanto cambiar los \"Galarian\", \"Alolian\", etc. cada uno por su generación respectiva."
   ]
  },
  {
   "cell_type": "markdown",
   "metadata": {},
   "source": [
    "### Feature Hp"
   ]
  },
  {
   "cell_type": "code",
   "execution_count": 233,
   "metadata": {},
   "outputs": [
    {
     "name": "stdout",
     "output_type": "stream",
     "text": [
      "- Type: int64\n",
      "- First rows:\n",
      "0    100\n",
      "1     45\n",
      "2     60\n",
      "3     80\n",
      "4     39\n",
      "Name: Hp, dtype: int64\n",
      "- Last rows:\n",
      "1174    90\n",
      "1175    90\n",
      "1176    90\n",
      "1177    95\n",
      "1178    88\n",
      "Name: Hp, dtype: int64\n",
      "- Number of missing values: 0\n",
      "int64\n",
      "- Number of distinct values: 109\n",
      "- Unique value counts:\n",
      "60     90\n",
      "70     85\n",
      "50     77\n",
      "80     61\n",
      "40     58\n",
      "75     57\n",
      "65     57\n",
      "45     50\n",
      "90     48\n",
      "100    48\n",
      "55     46\n",
      "95     30\n",
      "85     29\n",
      "35     19\n",
      "30     17\n",
      "78     16\n",
      "74     15\n",
      "105    14\n",
      "68     14\n",
      "110    13\n",
      "38     11\n",
      "71     11\n",
      "58     10\n",
      "72     10\n",
      "44     10\n",
      "88      9\n",
      "59      8\n",
      "120     8\n",
      "115     8\n",
      "62      8\n",
      "61      8\n",
      "67      7\n",
      "82      7\n",
      "125     7\n",
      "91      7\n",
      "76      7\n",
      "48      7\n",
      "73      7\n",
      "57      6\n",
      "20      6\n",
      "41      6\n",
      "97      6\n",
      "79      6\n",
      "52      6\n",
      "43      5\n",
      "64      5\n",
      "92      5\n",
      "150     5\n",
      "130     5\n",
      "109     4\n",
      "77      4\n",
      "108     4\n",
      "42      4\n",
      "25      4\n",
      "63      4\n",
      "83      4\n",
      "106     4\n",
      "86      4\n",
      "54      4\n",
      "103     3\n",
      "46      3\n",
      "111     3\n",
      "10      3\n",
      "53      3\n",
      "89      3\n",
      "66      3\n",
      "126     3\n",
      "69      3\n",
      "51      2\n",
      "140     2\n",
      "56      2\n",
      "123     2\n",
      "39      2\n",
      "81      2\n",
      "137     2\n",
      "135     2\n",
      "170     2\n",
      "47      2\n",
      "84      2\n",
      "104     2\n",
      "28      2\n",
      "99      2\n",
      "37      2\n",
      "49      2\n",
      "98      1\n",
      "223     1\n",
      "94      1\n",
      "200     1\n",
      "154     1\n",
      "33      1\n",
      "93      1\n",
      "107     1\n",
      "87      1\n",
      "122     1\n",
      "113     1\n",
      "144     1\n",
      "216     1\n",
      "101     1\n",
      "165     1\n",
      "114     1\n",
      "36      1\n",
      "116     1\n",
      "1       1\n",
      "31      1\n",
      "255     1\n",
      "190     1\n",
      "160     1\n",
      "250     1\n",
      "155     1\n",
      "Name: Hp, dtype: int64\n",
      "- Min: 1\n",
      "- Mean: 70.82357930449534\n",
      "- Median: 70.0\n",
      "- Max: 255\n",
      "- Std: 26.485177077655152\n"
     ]
    }
   ],
   "source": [
    "describe_feature(data, 'Hp')"
   ]
  },
  {
   "cell_type": "markdown",
   "metadata": {},
   "source": [
    "This feature is quite simple, just as it is, it represents the HP base state of that Pokémon. A higher value will mean higher HP stats."
   ]
  },
  {
   "cell_type": "markdown",
   "metadata": {},
   "source": [
    "### Feature Attack"
   ]
  },
  {
   "cell_type": "code",
   "execution_count": 234,
   "metadata": {},
   "outputs": [
    {
     "name": "stdout",
     "output_type": "stream",
     "text": [
      "- Type: int64\n",
      "- First rows:\n",
      "0    100\n",
      "1     49\n",
      "2     62\n",
      "3     82\n",
      "4     52\n",
      "Name: Attack, dtype: int64\n",
      "- Last rows:\n",
      "1174    120\n",
      "1175     72\n",
      "1176     65\n",
      "1177     95\n",
      "1178     88\n",
      "Name: Attack, dtype: int64\n",
      "- Number of missing values: 0\n",
      "int64\n",
      "- Number of distinct values: 120\n",
      "- Unique value counts:\n",
      "100    63\n",
      "65     63\n",
      "80     53\n",
      "85     51\n",
      "60     50\n",
      "75     48\n",
      "70     47\n",
      "55     46\n",
      "50     46\n",
      "90     44\n",
      "95     41\n",
      "120    41\n",
      "45     38\n",
      "40     32\n",
      "30     26\n",
      "115    25\n",
      "105    24\n",
      "110    22\n",
      "35     20\n",
      "130    20\n",
      "125    20\n",
      "92     11\n",
      "135    10\n",
      "48     10\n",
      "20     10\n",
      "25      8\n",
      "38      8\n",
      "140     8\n",
      "73      8\n",
      "82      8\n",
      "52      8\n",
      "64      8\n",
      "63      8\n",
      "53      8\n",
      "72      8\n",
      "160     7\n",
      "83      7\n",
      "69      6\n",
      "98      6\n",
      "62      6\n",
      "131     6\n",
      "84      6\n",
      "78      6\n",
      "112     5\n",
      "29      5\n",
      "68      5\n",
      "150     5\n",
      "81      5\n",
      "58      5\n",
      "47      4\n",
      "117     4\n",
      "61      4\n",
      "96      4\n",
      "101     4\n",
      "123     4\n",
      "89      4\n",
      "67      4\n",
      "76      4\n",
      "41      4\n",
      "56      4\n",
      "66      4\n",
      "77      4\n",
      "107     4\n",
      "103     3\n",
      "87      3\n",
      "108     3\n",
      "59      3\n",
      "71      3\n",
      "127     3\n",
      "86      3\n",
      "57      3\n",
      "49      3\n",
      "102     3\n",
      "10      3\n",
      "134     3\n",
      "145     3\n",
      "139     2\n",
      "167     2\n",
      "124     2\n",
      "113     2\n",
      "44      2\n",
      "54      2\n",
      "74      2\n",
      "128     2\n",
      "137     2\n",
      "79      2\n",
      "88      2\n",
      "109     2\n",
      "5       2\n",
      "93      2\n",
      "104     2\n",
      "94      2\n",
      "91      2\n",
      "51      2\n",
      "46      2\n",
      "43      1\n",
      "33      1\n",
      "143     1\n",
      "181     1\n",
      "15      1\n",
      "116     1\n",
      "28      1\n",
      "118     1\n",
      "31      1\n",
      "132     1\n",
      "121     1\n",
      "23      1\n",
      "27      1\n",
      "22      1\n",
      "36      1\n",
      "180     1\n",
      "170     1\n",
      "165     1\n",
      "129     1\n",
      "97      1\n",
      "42      1\n",
      "147     1\n",
      "24      1\n",
      "106     1\n",
      "119     1\n",
      "Name: Attack, dtype: int64\n",
      "- Min: 5\n",
      "- Mean: 79.00678541136557\n",
      "- Median: 76.0\n",
      "- Max: 181\n",
      "- Std: 30.33304027833209\n"
     ]
    }
   ],
   "source": [
    "describe_feature(data, 'Attack')"
   ]
  },
  {
   "cell_type": "markdown",
   "metadata": {},
   "source": [
    "This feature is quite simple, just as it is, it represents the Attack base state of that Pokémon. A higher value will mean higher Attack stats."
   ]
  },
  {
   "cell_type": "markdown",
   "metadata": {},
   "source": [
    "### Feature Defense"
   ]
  },
  {
   "cell_type": "code",
   "execution_count": 235,
   "metadata": {},
   "outputs": [
    {
     "name": "stdout",
     "output_type": "stream",
     "text": [
      "- Type: int64\n",
      "- First rows:\n",
      "0    100\n",
      "1     49\n",
      "2     63\n",
      "3     83\n",
      "4     43\n",
      "Name: Defense, dtype: int64\n",
      "- Last rows:\n",
      "1174     80\n",
      "1175    100\n",
      "1176     85\n",
      "1177    110\n",
      "1178    160\n",
      "Name: Defense, dtype: int64\n",
      "- Number of missing values: 0\n",
      "int64\n",
      "- Number of distinct values: 108\n",
      "- Unique value counts:\n",
      "70     81\n",
      "60     72\n",
      "50     68\n",
      "80     61\n",
      "65     58\n",
      "90     54\n",
      "40     51\n",
      "45     50\n",
      "100    49\n",
      "55     47\n",
      "95     43\n",
      "75     39\n",
      "85     36\n",
      "35     32\n",
      "115    22\n",
      "30     20\n",
      "110    19\n",
      "105    17\n",
      "120    16\n",
      "130    15\n",
      "67     13\n",
      "48     13\n",
      "63     10\n",
      "58      9\n",
      "68      8\n",
      "77      8\n",
      "125     8\n",
      "72      8\n",
      "140     8\n",
      "62      8\n",
      "78      8\n",
      "20      7\n",
      "53      7\n",
      "84      6\n",
      "107     6\n",
      "39      6\n",
      "43      6\n",
      "52      6\n",
      "97      5\n",
      "79      5\n",
      "71      5\n",
      "51      5\n",
      "86      5\n",
      "57      5\n",
      "66      5\n",
      "91      5\n",
      "37      4\n",
      "135     4\n",
      "88      4\n",
      "99      4\n",
      "41      4\n",
      "44      4\n",
      "145     4\n",
      "69      4\n",
      "131     4\n",
      "83      4\n",
      "42      4\n",
      "64      4\n",
      "73      4\n",
      "25      4\n",
      "15      4\n",
      "76      4\n",
      "160     3\n",
      "150     3\n",
      "49      3\n",
      "38      3\n",
      "34      3\n",
      "121     3\n",
      "54      3\n",
      "92      3\n",
      "89      2\n",
      "103     2\n",
      "82      2\n",
      "59      2\n",
      "74      2\n",
      "106     2\n",
      "122     2\n",
      "28      2\n",
      "108     2\n",
      "32      2\n",
      "180     2\n",
      "5       2\n",
      "200     2\n",
      "61      2\n",
      "184     2\n",
      "101     2\n",
      "118     2\n",
      "47      2\n",
      "98      1\n",
      "211     1\n",
      "139     1\n",
      "119     1\n",
      "31      1\n",
      "143     1\n",
      "152     1\n",
      "10      1\n",
      "33      1\n",
      "129     1\n",
      "112     1\n",
      "133     1\n",
      "56      1\n",
      "116     1\n",
      "102     1\n",
      "168     1\n",
      "23      1\n",
      "230     1\n",
      "87      1\n",
      "114     1\n",
      "Name: Defense, dtype: int64\n",
      "- Min: 5\n",
      "- Mean: 73.0958439355386\n",
      "- Median: 70.0\n",
      "- Max: 230\n",
      "- Std: 28.848473779712265\n"
     ]
    }
   ],
   "source": [
    "describe_feature(data, 'Defense')"
   ]
  },
  {
   "cell_type": "markdown",
   "metadata": {},
   "source": [
    "This feature is quite simple, just as it is, it represents the Defense base state of that Pokémon. A higher value will mean higher Defense stats."
   ]
  },
  {
   "cell_type": "markdown",
   "metadata": {},
   "source": [
    "### Feature SpecialAttack"
   ]
  },
  {
   "cell_type": "code",
   "execution_count": 236,
   "metadata": {},
   "outputs": [
    {
     "name": "stdout",
     "output_type": "stream",
     "text": [
      "- Type: int64\n",
      "- First rows:\n",
      "0    100\n",
      "1     65\n",
      "2     80\n",
      "3    100\n",
      "4     60\n",
      "Name: SpecialAttack, dtype: int64\n",
      "- Last rows:\n",
      "1174     68\n",
      "1175    122\n",
      "1176     65\n",
      "1177    105\n",
      "1178     88\n",
      "Name: SpecialAttack, dtype: int64\n",
      "- Number of missing values: 0\n",
      "int64\n",
      "- Number of distinct values: 120\n",
      "- Unique value counts:\n",
      "40     75\n",
      "60     71\n",
      "50     64\n",
      "65     61\n",
      "55     54\n",
      "45     51\n",
      "80     45\n",
      "70     45\n",
      "95     41\n",
      "100    40\n",
      "35     40\n",
      "85     39\n",
      "30     39\n",
      "90     31\n",
      "75     27\n",
      "125    27\n",
      "105    23\n",
      "120    21\n",
      "110    20\n",
      "25     16\n",
      "130    12\n",
      "53     11\n",
      "135    11\n",
      "61     11\n",
      "20     10\n",
      "115     9\n",
      "83      9\n",
      "150     9\n",
      "81      8\n",
      "63      8\n",
      "112     7\n",
      "62      7\n",
      "74      7\n",
      "98      7\n",
      "58      7\n",
      "59      7\n",
      "145     6\n",
      "29      6\n",
      "54      5\n",
      "92      5\n",
      "91      5\n",
      "44      5\n",
      "73      5\n",
      "97      5\n",
      "68      4\n",
      "48      4\n",
      "10      4\n",
      "109     4\n",
      "87      4\n",
      "57      4\n",
      "43      4\n",
      "114     4\n",
      "15      4\n",
      "69      4\n",
      "86      4\n",
      "79      4\n",
      "72      4\n",
      "140     4\n",
      "56      4\n",
      "131     3\n",
      "77      3\n",
      "37      3\n",
      "103     3\n",
      "47      3\n",
      "42      3\n",
      "137     3\n",
      "71      3\n",
      "127     3\n",
      "78      3\n",
      "94      2\n",
      "111     2\n",
      "167     2\n",
      "31      2\n",
      "99      2\n",
      "27      2\n",
      "32      2\n",
      "129     2\n",
      "170     2\n",
      "66      2\n",
      "122     2\n",
      "49      2\n",
      "36      2\n",
      "76      2\n",
      "106     2\n",
      "121     2\n",
      "108     2\n",
      "52      2\n",
      "165     2\n",
      "24      2\n",
      "38      2\n",
      "46      2\n",
      "33      2\n",
      "88      2\n",
      "67      2\n",
      "107     2\n",
      "136     1\n",
      "101     1\n",
      "21      1\n",
      "102     1\n",
      "151     1\n",
      "124     1\n",
      "173     1\n",
      "134     1\n",
      "104     1\n",
      "113     1\n",
      "82      1\n",
      "126     1\n",
      "160     1\n",
      "34      1\n",
      "39      1\n",
      "128     1\n",
      "116     1\n",
      "41      1\n",
      "64      1\n",
      "180     1\n",
      "23      1\n",
      "51      1\n",
      "119     1\n",
      "154     1\n",
      "133     1\n",
      "Name: SpecialAttack, dtype: int64\n",
      "- Min: 10\n",
      "- Mean: 72.06700593723494\n",
      "- Median: 65.0\n",
      "- Max: 180\n",
      "- Std: 31.28007152827589\n"
     ]
    }
   ],
   "source": [
    "describe_feature(data, 'SpecialAttack')"
   ]
  },
  {
   "cell_type": "markdown",
   "metadata": {},
   "source": [
    "This feature is quite simple, just as it is, it represents the SpecialAttack base state of that Pokémon. A higher value will mean higher SpecialAttack stats."
   ]
  },
  {
   "cell_type": "markdown",
   "metadata": {},
   "source": [
    "### Feature SpecialDefense"
   ]
  },
  {
   "cell_type": "code",
   "execution_count": 237,
   "metadata": {},
   "outputs": [
    {
     "name": "stdout",
     "output_type": "stream",
     "text": [
      "- Type: int64\n",
      "- First rows:\n",
      "0    100\n",
      "1     65\n",
      "2     80\n",
      "3    100\n",
      "4     50\n",
      "Name: SpecialDefense, dtype: int64\n",
      "- Last rows:\n",
      "1174    108\n",
      "1175    108\n",
      "1176     85\n",
      "1177    110\n",
      "1178     88\n",
      "Name: SpecialDefense, dtype: int64\n",
      "- Number of missing values: 0\n",
      "int64\n",
      "- Number of distinct values: 105\n",
      "- Unique value counts:\n",
      "70     73\n",
      "50     70\n",
      "80     66\n",
      "60     64\n",
      "65     61\n",
      "55     60\n",
      "75     59\n",
      "45     52\n",
      "90     52\n",
      "40     51\n",
      "95     42\n",
      "100    40\n",
      "85     40\n",
      "35     29\n",
      "30     28\n",
      "105    21\n",
      "110    18\n",
      "25     16\n",
      "120    16\n",
      "115    14\n",
      "63     11\n",
      "48     10\n",
      "130    10\n",
      "79      9\n",
      "86      8\n",
      "56      8\n",
      "20      7\n",
      "51      7\n",
      "154     7\n",
      "107     7\n",
      "82      7\n",
      "96      6\n",
      "81      6\n",
      "53      6\n",
      "58      6\n",
      "128     6\n",
      "61      6\n",
      "135     6\n",
      "52      6\n",
      "62      6\n",
      "72      5\n",
      "150     5\n",
      "89      5\n",
      "71      5\n",
      "67      5\n",
      "54      5\n",
      "41      5\n",
      "42      5\n",
      "98      4\n",
      "101     4\n",
      "125     4\n",
      "108     4\n",
      "83      4\n",
      "37      4\n",
      "73      4\n",
      "69      4\n",
      "140     4\n",
      "87      4\n",
      "77      3\n",
      "66      3\n",
      "116     3\n",
      "38      3\n",
      "43      3\n",
      "97      3\n",
      "64      3\n",
      "49      3\n",
      "31      3\n",
      "44      3\n",
      "117     2\n",
      "92      2\n",
      "46      2\n",
      "57      2\n",
      "76      2\n",
      "36      2\n",
      "84      2\n",
      "99      2\n",
      "91      2\n",
      "39      2\n",
      "131     2\n",
      "88      2\n",
      "59      2\n",
      "68      2\n",
      "113     2\n",
      "78      1\n",
      "121     1\n",
      "132     1\n",
      "109     1\n",
      "103     1\n",
      "114     1\n",
      "142     1\n",
      "47      1\n",
      "200     1\n",
      "94      1\n",
      "123     1\n",
      "129     1\n",
      "32      1\n",
      "106     1\n",
      "102     1\n",
      "138     1\n",
      "34      1\n",
      "160     1\n",
      "33      1\n",
      "23      1\n",
      "230     1\n",
      "93      1\n",
      "Name: SpecialDefense, dtype: int64\n",
      "- Min: 20\n",
      "- Mean: 71.78795589482613\n",
      "- Median: 70.0\n",
      "- Max: 230\n",
      "- Std: 27.198243928845763\n"
     ]
    }
   ],
   "source": [
    "describe_feature(data, 'SpecialDefense')"
   ]
  },
  {
   "cell_type": "markdown",
   "metadata": {},
   "source": [
    "This feature is quite simple, just as it is, it represents the SpecialDefense base state of that Pokémon. A higher value will mean higher SpecialDefense stats."
   ]
  },
  {
   "cell_type": "markdown",
   "metadata": {},
   "source": [
    "### Feature Speed"
   ]
  },
  {
   "cell_type": "code",
   "execution_count": 238,
   "metadata": {},
   "outputs": [
    {
     "name": "stdout",
     "output_type": "stream",
     "text": [
      "- Type: int64\n",
      "- First rows:\n",
      "0    100\n",
      "1     45\n",
      "2     60\n",
      "3     80\n",
      "4     65\n",
      "Name: Speed, dtype: int64\n",
      "- Last rows:\n",
      "1174    124\n",
      "1175     98\n",
      "1176     60\n",
      "1177     85\n",
      "1178     88\n",
      "Name: Speed, dtype: int64\n",
      "- Number of missing values: 0\n",
      "int64\n",
      "- Number of distinct values: 125\n",
      "- Unique value counts:\n",
      "60     60\n",
      "50     57\n",
      "65     54\n",
      "70     52\n",
      "30     48\n",
      "85     48\n",
      "45     44\n",
      "90     43\n",
      "40     42\n",
      "80     39\n",
      "55     38\n",
      "95     37\n",
      "75     36\n",
      "100    33\n",
      "35     33\n",
      "110    22\n",
      "20     20\n",
      "105    15\n",
      "15     14\n",
      "25     13\n",
      "92     13\n",
      "42     13\n",
      "36     11\n",
      "115    11\n",
      "97     11\n",
      "120    10\n",
      "58      9\n",
      "43      9\n",
      "99      9\n",
      "108     8\n",
      "72      8\n",
      "130     8\n",
      "101     8\n",
      "82      7\n",
      "68      7\n",
      "32      7\n",
      "48      7\n",
      "135     6\n",
      "86      6\n",
      "64      6\n",
      "98      6\n",
      "66      6\n",
      "91      6\n",
      "34      6\n",
      "71      6\n",
      "78      6\n",
      "150     6\n",
      "93      6\n",
      "44      5\n",
      "52      5\n",
      "106     5\n",
      "67      5\n",
      "77      5\n",
      "57      5\n",
      "83      5\n",
      "46      5\n",
      "109     5\n",
      "10      5\n",
      "111     5\n",
      "125     5\n",
      "38      4\n",
      "56      4\n",
      "104     4\n",
      "121     4\n",
      "29      4\n",
      "73      4\n",
      "81      4\n",
      "84      4\n",
      "74      4\n",
      "28      4\n",
      "39      4\n",
      "23      4\n",
      "63      3\n",
      "96      3\n",
      "49      3\n",
      "62      3\n",
      "5       3\n",
      "51      3\n",
      "102     3\n",
      "79      3\n",
      "59      3\n",
      "33      3\n",
      "61      3\n",
      "87      3\n",
      "116     3\n",
      "76      3\n",
      "112     3\n",
      "47      3\n",
      "41      3\n",
      "88      3\n",
      "37      2\n",
      "31      2\n",
      "136     2\n",
      "124     2\n",
      "119     2\n",
      "128     2\n",
      "138     2\n",
      "123     2\n",
      "94      2\n",
      "103     2\n",
      "69      2\n",
      "129     2\n",
      "151     1\n",
      "142     1\n",
      "13      1\n",
      "107     1\n",
      "148     1\n",
      "26      1\n",
      "143     1\n",
      "118     1\n",
      "117     1\n",
      "27      1\n",
      "54      1\n",
      "89      1\n",
      "126     1\n",
      "127     1\n",
      "122     1\n",
      "113     1\n",
      "160     1\n",
      "24      1\n",
      "145     1\n",
      "114     1\n",
      "180     1\n",
      "22      1\n",
      "200     1\n",
      "Name: Speed, dtype: int64\n",
      "- Min: 5\n",
      "- Mean: 69.27056827820186\n",
      "- Median: 67.0\n",
      "- Max: 200\n",
      "- Std: 29.638923393023187\n"
     ]
    }
   ],
   "source": [
    "describe_feature(data, 'Speed')"
   ]
  },
  {
   "cell_type": "markdown",
   "metadata": {},
   "source": [
    "This feature is quite simple, just as it is, it represents the Speed base state of that Pokémon. A higher value will mean higher Speed stats."
   ]
  },
  {
   "cell_type": "markdown",
   "metadata": {},
   "source": [
    "### Feature TotalStats"
   ]
  },
  {
   "cell_type": "code",
   "execution_count": 239,
   "metadata": {},
   "outputs": [
    {
     "name": "stdout",
     "output_type": "stream",
     "text": [
      "- Type: int64\n",
      "- First rows:\n",
      "0    600\n",
      "1    318\n",
      "2    405\n",
      "3    625\n",
      "4    309\n",
      "Name: TotalStats, dtype: int64\n",
      "- Last rows:\n",
      "1174    590\n",
      "1175    590\n",
      "1176    700\n",
      "1177    700\n",
      "1178    600\n",
      "Name: TotalStats, dtype: int64\n",
      "- Number of missing values: 0\n",
      "int64\n",
      "- Number of distinct values: 222\n",
      "- Unique value counts:\n",
      "600     43\n",
      "580     33\n",
      "500     31\n",
      "570     30\n",
      "490     29\n",
      "300     27\n",
      "405     26\n",
      "485     23\n",
      "530     21\n",
      "420     21\n",
      "495     20\n",
      "680     20\n",
      "480     19\n",
      "510     19\n",
      "475     19\n",
      "525     19\n",
      "330     18\n",
      "310     17\n",
      "700     16\n",
      "305     16\n",
      "410     15\n",
      "520     15\n",
      "505     15\n",
      "460     14\n",
      "470     14\n",
      "540     13\n",
      "320     13\n",
      "290     12\n",
      "455     11\n",
      "335     11\n",
      "280     11\n",
      "440     10\n",
      "350     10\n",
      "325     10\n",
      "340     10\n",
      "590     10\n",
      "535     10\n",
      "430     10\n",
      "550      9\n",
      "450      9\n",
      "515      9\n",
      "250      9\n",
      "270      8\n",
      "355      8\n",
      "303      8\n",
      "555      8\n",
      "390      8\n",
      "245      7\n",
      "315      7\n",
      "400      7\n",
      "210      7\n",
      "275      7\n",
      "425      7\n",
      "385      6\n",
      "360      6\n",
      "308      6\n",
      "465      6\n",
      "370      6\n",
      "265      6\n",
      "295      6\n",
      "476      6\n",
      "435      6\n",
      "534      5\n",
      "240      5\n",
      "551      5\n",
      "552      5\n",
      "260      5\n",
      "395      5\n",
      "483      5\n",
      "205      5\n",
      "365      5\n",
      "288      4\n",
      "452      4\n",
      "474      4\n",
      "309      4\n",
      "220      4\n",
      "424      4\n",
      "630      4\n",
      "417      4\n",
      "413      4\n",
      "498      4\n",
      "314      4\n",
      "670      4\n",
      "487      4\n",
      "528      4\n",
      "285      4\n",
      "200      4\n",
      "411      3\n",
      "508      3\n",
      "754      3\n",
      "488      3\n",
      "224      3\n",
      "521      3\n",
      "195      3\n",
      "454      3\n",
      "316      3\n",
      "519      3\n",
      "255      3\n",
      "348      3\n",
      "304      3\n",
      "708      3\n",
      "345      3\n",
      "318      3\n",
      "253      3\n",
      "489      3\n",
      "482      2\n",
      "610      2\n",
      "262      2\n",
      "329      2\n",
      "507      2\n",
      "415      2\n",
      "334      2\n",
      "514      2\n",
      "545      2\n",
      "448      2\n",
      "418      2\n",
      "269      2\n",
      "423      2\n",
      "328      2\n",
      "323      2\n",
      "292      2\n",
      "650      2\n",
      "299      2\n",
      "362      2\n",
      "640      2\n",
      "481      2\n",
      "377      2\n",
      "294      2\n",
      "780      2\n",
      "180      2\n",
      "560      2\n",
      "458      2\n",
      "436      2\n",
      "464      2\n",
      "237      2\n",
      "618      2\n",
      "502      2\n",
      "380      2\n",
      "466      2\n",
      "278      2\n",
      "341      2\n",
      "484      2\n",
      "494      2\n",
      "468      2\n",
      "472      2\n",
      "625      2\n",
      "770      2\n",
      "384      2\n",
      "620      2\n",
      "478      2\n",
      "471      2\n",
      "306      1\n",
      "369      1\n",
      "531      1\n",
      "462      1\n",
      "634      1\n",
      "230      1\n",
      "289      1\n",
      "404      1\n",
      "506      1\n",
      "297      1\n",
      "486      1\n",
      "272      1\n",
      "354      1\n",
      "477      1\n",
      "312      1\n",
      "254      1\n",
      "431      1\n",
      "1125     1\n",
      "185      1\n",
      "242      1\n",
      "284      1\n",
      "517      1\n",
      "499      1\n",
      "338      1\n",
      "213      1\n",
      "281      1\n",
      "382      1\n",
      "194      1\n",
      "467      1\n",
      "302      1\n",
      "575      1\n",
      "375      1\n",
      "190      1\n",
      "236      1\n",
      "456      1\n",
      "266      1\n",
      "198      1\n",
      "251      1\n",
      "635      1\n",
      "349      1\n",
      "579      1\n",
      "336      1\n",
      "442      1\n",
      "218      1\n",
      "215      1\n",
      "273      1\n",
      "615      1\n",
      "565      1\n",
      "263      1\n",
      "409      1\n",
      "363      1\n",
      "307      1\n",
      "313      1\n",
      "319      1\n",
      "428      1\n",
      "473      1\n",
      "567      1\n",
      "401      1\n",
      "461      1\n",
      "351      1\n",
      "509      1\n",
      "497      1\n",
      "358      1\n",
      "264      1\n",
      "446      1\n",
      "720      1\n",
      "594      1\n",
      "479      1\n",
      "244      1\n",
      "523      1\n",
      "501      1\n",
      "Name: TotalStats, dtype: int64\n",
      "- Min: 180\n",
      "- Mean: 442.0754877014419\n",
      "- Median: 464.0\n",
      "- Max: 1125\n",
      "- Std: 122.7261098214797\n"
     ]
    }
   ],
   "source": [
    "describe_feature(data, 'TotalStats')"
   ]
  },
  {
   "cell_type": "markdown",
   "metadata": {},
   "source": [
    "This feature represents the sum of all the six previous base stats for each Pokémon. This feature can be really informative about the overall power of that Pokémon."
   ]
  },
  {
   "cell_type": "markdown",
   "metadata": {},
   "source": [
    "### Feature Weight"
   ]
  },
  {
   "cell_type": "code",
   "execution_count": 240,
   "metadata": {},
   "outputs": [
    {
     "name": "stdout",
     "output_type": "stream",
     "text": [
      "- Type: float64\n",
      "- First rows:\n",
      "0      4.0\n",
      "1      6.9\n",
      "2     13.0\n",
      "3    100.0\n",
      "4      8.5\n",
      "Name: Weight, dtype: float64\n",
      "- Last rows:\n",
      "1174    162.5\n",
      "1175    156.0\n",
      "1176      6.5\n",
      "1177      6.5\n",
      "1178      0.3\n",
      "Name: Weight, dtype: float64\n",
      "- Number of missing values: 0\n",
      "float64\n",
      "- Number of distinct values: 481\n",
      "- Unique value counts:\n",
      "30.0     15\n",
      "0.3      15\n",
      "1.0      13\n",
      "6.5      13\n",
      "5.0      12\n",
      "8.0      12\n",
      "120.0    12\n",
      "28.0     12\n",
      "15.0     11\n",
      "4.0      11\n",
      "8.5      11\n",
      "12.0     10\n",
      "6.0       9\n",
      "0.1       9\n",
      "40.0      9\n",
      "19.5      9\n",
      "60.0      9\n",
      "18.0      9\n",
      "2.0       8\n",
      "25.0      8\n",
      "11.0      8\n",
      "3.4       8\n",
      "9.0       8\n",
      "10.0      8\n",
      "3.5       7\n",
      "11.5      7\n",
      "1.5       7\n",
      "2.5       7\n",
      "9.5       7\n",
      "35.0      7\n",
      "16.0      7\n",
      "12.5      7\n",
      "10.5      6\n",
      "105.0     6\n",
      "3.0       6\n",
      "17.5      6\n",
      "0.8       6\n",
      "1.2       6\n",
      "210.0     6\n",
      "5.5       6\n",
      "1.8       6\n",
      "20.0      6\n",
      "110.0     6\n",
      "55.0      6\n",
      "90.0      5\n",
      "230.0     5\n",
      "32.0      5\n",
      "79.5      5\n",
      "29.5      5\n",
      "0.5       5\n",
      "0.9       5\n",
      "32.5      5\n",
      "38.0      5\n",
      "2.1       5\n",
      "33.0      5\n",
      "7.0       5\n",
      "7.5       5\n",
      "82.5      5\n",
      "61.0      5\n",
      "45.0      5\n",
      "4.2       5\n",
      "13.0      5\n",
      "19.0      5\n",
      "27.0      4\n",
      "36.0      4\n",
      "9.9       4\n",
      "100.0     4\n",
      "2.2       4\n",
      "29.0      4\n",
      "41.0      4\n",
      "4.5       4\n",
      "92.5      4\n",
      "220.0     4\n",
      "14.5      4\n",
      "60.8      4\n",
      "20.5      4\n",
      "21.0      4\n",
      "0.6       4\n",
      "92.9      4\n",
      "19.9      4\n",
      "48.0      4\n",
      "62.0      4\n",
      "2.4       4\n",
      "3.9       4\n",
      "31.0      4\n",
      "7.7       4\n",
      "63.0      4\n",
      "39.2      4\n",
      "39.8      4\n",
      "14.0      4\n",
      "55.5      3\n",
      "94.6      3\n",
      "60.5      3\n",
      "150.0     3\n",
      "34.0      3\n",
      "33.5      3\n",
      "50.5      3\n",
      "4.4       3\n",
      "75.0      3\n",
      "58.0      3\n",
      "37.5      3\n",
      "5.8       3\n",
      "28.5      3\n",
      "13.5      3\n",
      "260.0     3\n",
      "17.0      3\n",
      "200.0     3\n",
      "3.6       3\n",
      "240.0     3\n",
      "80.0      3\n",
      "6.6       3\n",
      "66.6      3\n",
      "305.0     3\n",
      "95.0      3\n",
      "300.0     3\n",
      "15.5      3\n",
      "0.7       3\n",
      "31.5      3\n",
      "47.0      3\n",
      "54.0      3\n",
      "22.0      3\n",
      "108.0     3\n",
      "0.4       3\n",
      "89.0      3\n",
      "33.3      3\n",
      "21.5      3\n",
      "5.4       3\n",
      "18.5      3\n",
      "39.5      3\n",
      "60.2      3\n",
      "3.2       3\n",
      "215.0     3\n",
      "40.5      3\n",
      "56.0      3\n",
      "10.2      3\n",
      "16.5      3\n",
      "3.3       3\n",
      "70.0      3\n",
      "24.0      3\n",
      "24.5      3\n",
      "325.0     3\n",
      "44.5      3\n",
      "68.0      3\n",
      "39.0      3\n",
      "2.8       3\n",
      "16.3      3\n",
      "23.0      2\n",
      "1.9       2\n",
      "180.0     2\n",
      "42.0      2\n",
      "950.0     2\n",
      "30.5      2\n",
      "25.5      2\n",
      "310.0     2\n",
      "6.3       2\n",
      "6.9       2\n",
      "29.9      2\n",
      "52.5      2\n",
      "23.3      2\n",
      "9.3       2\n",
      "1.1       2\n",
      "46.0      2\n",
      "683.0     2\n",
      "48.5      2\n",
      "81.5      2\n",
      "53.0      2\n",
      "26.0      2\n",
      "150.5     2\n",
      "505.0     2\n",
      "85.0      2\n",
      "36.6      2\n",
      "0.2       2\n",
      "4.8       2\n",
      "22.2      2\n",
      "999.9     2\n",
      "800.0     2\n",
      "8.9       2\n",
      "43.0      2\n",
      "290.0     2\n",
      "12.2      2\n",
      "303.0     2\n",
      "10.9      2\n",
      "250.0     2\n",
      "336.0     2\n",
      "30.6      2\n",
      "750.0     2\n",
      "3.1       2\n",
      "320.0     2\n",
      "5.9       2\n",
      "4.1       2\n",
      "51.0      2\n",
      "7.3       2\n",
      "81.0      2\n",
      "81.1      2\n",
      "44.0      2\n",
      "5.7       2\n",
      "135.0     2\n",
      "80.5      2\n",
      "92.0      2\n",
      "330.0     2\n",
      "50.0      2\n",
      "160.0     2\n",
      "82.0      2\n",
      "175.0     2\n",
      "7.8       2\n",
      "10.4      2\n",
      "65.0      2\n",
      "34.5      2\n",
      "8.8       2\n",
      "65.5      2\n",
      "18.6      2\n",
      "152.0     2\n",
      "23.5      2\n",
      "1.7       2\n",
      "21.4      2\n",
      "20.2      2\n",
      "2.3       2\n",
      "54.5      2\n",
      "187.0     2\n",
      "31.6      2\n",
      "155.0     2\n",
      "37.0      2\n",
      "78.5      2\n",
      "7.6       2\n",
      "52.0      2\n",
      "130.0     2\n",
      "45.5      2\n",
      "6.4       2\n",
      "125.8     2\n",
      "97.0      2\n",
      "52.6      2\n",
      "21.2      2\n",
      "15.2      2\n",
      "22.5      2\n",
      "61.5      2\n",
      "40.8      2\n",
      "10.8      2\n",
      "55.4      2\n",
      "17.7      2\n",
      "88.8      2\n",
      "100.5     2\n",
      "88.4      2\n",
      "122.0     1\n",
      "75.6      1\n",
      "32.4      1\n",
      "15.8      1\n",
      "139.0     1\n",
      "203.0     1\n",
      "40.6      1\n",
      "132.5     1\n",
      "195.0     1\n",
      "17.3      1\n",
      "4.3       1\n",
      "83.0      1\n",
      "14.8      1\n",
      "14.2      1\n",
      "9.2       1\n",
      "35.5      1\n",
      "25.3      1\n",
      "920.0     1\n",
      "85.2      1\n",
      "49.8      1\n",
      "99.5      1\n",
      "71.0      1\n",
      "42.4      1\n",
      "8.4       1\n",
      "235.0     1\n",
      "345.0     1\n",
      "36.5      1\n",
      "34.6      1\n",
      "91.0      1\n",
      "136.0     1\n",
      "115.0     1\n",
      "96.0      1\n",
      "8.3       1\n",
      "35.3      1\n",
      "8.2       1\n",
      "59.0      1\n",
      "28.8      1\n",
      "460.0     1\n",
      "270.0     1\n",
      "25.2      1\n",
      "225.0     1\n",
      "50.2      1\n",
      "9.4       1\n",
      "6.8       1\n",
      "185.0     1\n",
      "76.0      1\n",
      "380.7     1\n",
      "14.9      1\n",
      "11.9      1\n",
      "48.2      1\n",
      "2.9       1\n",
      "113.0     1\n",
      "38.6      1\n",
      "27.2      1\n",
      "79.0      1\n",
      "59.1      1\n",
      "112.8     1\n",
      "42.9      1\n",
      "85.5      1\n",
      "700.0     1\n",
      "223.0     1\n",
      "111.0     1\n",
      "82.8      1\n",
      "74.2      1\n",
      "152.2     1\n",
      "699.7     1\n",
      "4.9       1\n",
      "380.0     1\n",
      "280.0     1\n",
      "125.0     1\n",
      "92.2      1\n",
      "30.1      1\n",
      "90.5      1\n",
      "93.0      1\n",
      "590.0     1\n",
      "480.0     1\n",
      "162.5     1\n",
      "61.9      1\n",
      "6.1       1\n",
      "326.5     1\n",
      "30.7      1\n",
      "120.5     1\n",
      "212.0     1\n",
      "105.5     1\n",
      "29.7      1\n",
      "78.2      1\n",
      "70.5      1\n",
      "333.6     1\n",
      "888.0     1\n",
      "820.0     1\n",
      "56.5      1\n",
      "45.2      1\n",
      "12.4      1\n",
      "115.5     1\n",
      "78.0      1\n",
      "310.5     1\n",
      "76.6      1\n",
      "5.1       1\n",
      "117.0     1\n",
      "58.2      1\n",
      "3.8       1\n",
      "520.0     1\n",
      "19.6      1\n",
      "650.0     1\n",
      "190.0     1\n",
      "145.0     1\n",
      "95.1      1\n",
      "8.6       1\n",
      "31.2      1\n",
      "9.8       1\n",
      "148.0     1\n",
      "71.5      1\n",
      "34.3      1\n",
      "46.5      1\n",
      "360.0     1\n",
      "205.0     1\n",
      "352.0     1\n",
      "32.6      1\n",
      "206.5     1\n",
      "253.8     1\n",
      "86.4      1\n",
      "84.0      1\n",
      "6.2       1\n",
      "5.2       1\n",
      "130.5     1\n",
      "84.5      1\n",
      "24.9      1\n",
      "48.4      1\n",
      "550.0     1\n",
      "19.8      1\n",
      "102.5     1\n",
      "57.0      1\n",
      "149.5     1\n",
      "59.6      1\n",
      "38.5      1\n",
      "2.6       1\n",
      "28.4      1\n",
      "20.3      1\n",
      "27.3      1\n",
      "43.8      1\n",
      "13.6      1\n",
      "19.2      1\n",
      "11.2      1\n",
      "202.5     1\n",
      "24.4      1\n",
      "60.4      1\n",
      "80.4      1\n",
      "51.3      1\n",
      "77.4      1\n",
      "20.6      1\n",
      "40.3      1\n",
      "398.0     1\n",
      "168.0     1\n",
      "154.0     1\n",
      "20.8      1\n",
      "23.6      1\n",
      "32.8      1\n",
      "10.3      1\n",
      "23.8      1\n",
      "68.2      1\n",
      "95.2      1\n",
      "7.4       1\n",
      "162.0     1\n",
      "40.2      1\n",
      "16.8      1\n",
      "256.5     1\n",
      "87.6      1\n",
      "150.6     1\n",
      "22.6      1\n",
      "23.4      1\n",
      "8.7       1\n",
      "42.1      1\n",
      "110.5     1\n",
      "102.6     1\n",
      "81.9      1\n",
      "49.5      1\n",
      "7.9       1\n",
      "96.3      1\n",
      "29.8      1\n",
      "118.0     1\n",
      "102.0     1\n",
      "48.7      1\n",
      "40.4      1\n",
      "400.0     1\n",
      "87.0      1\n",
      "64.8      1\n",
      "7.2       1\n",
      "5.3       1\n",
      "58.5      1\n",
      "200.5     1\n",
      "33.4      1\n",
      "41.5      1\n",
      "10.1      1\n",
      "26.5      1\n",
      "11.8      1\n",
      "76.5      1\n",
      "33.9      1\n",
      "107.3     1\n",
      "13.3      1\n",
      "20.1      1\n",
      "24.2      1\n",
      "15.3      1\n",
      "35.6      1\n",
      "57.5      1\n",
      "14.3      1\n",
      "18.8      1\n",
      "55.8      1\n",
      "71.2      1\n",
      "44.4      1\n",
      "21.6      1\n",
      "135.5     1\n",
      "140.0     1\n",
      "282.8     1\n",
      "128.6     1\n",
      "138.6     1\n",
      "52.2      1\n",
      "51.5      1\n",
      "25.9      1\n",
      "42.5      1\n",
      "291.0     1\n",
      "340.0     1\n",
      "106.6     1\n",
      "26.6      1\n",
      "199.0     1\n",
      "14.7      1\n",
      "216.0     1\n",
      "430.0     1\n",
      "420.0     1\n",
      "202.0     1\n",
      "85.6      1\n",
      "72.0      1\n",
      "1.4       1\n",
      "8.1       1\n",
      "198.0     1\n",
      "178.0     1\n",
      "46.8      1\n",
      "75.5      1\n",
      "11.6      1\n",
      "156.0     1\n",
      "Name: Weight, dtype: int64\n",
      "- Min: 0.1\n",
      "- Mean: 66.53681085665815\n",
      "- Median: 28.0\n",
      "- Max: 999.9\n",
      "- Std: 119.95641116378239\n"
     ]
    }
   ],
   "source": [
    "describe_feature(data, 'Weight')"
   ]
  },
  {
   "cell_type": "markdown",
   "metadata": {},
   "source": [
    "This is a simple feature indicating the weight (in kilograms) of the Pokémon. A higher value will mean heavier Pokémon."
   ]
  },
  {
   "cell_type": "markdown",
   "metadata": {},
   "source": [
    "### Feature Height"
   ]
  },
  {
   "cell_type": "code",
   "execution_count": 241,
   "metadata": {},
   "outputs": [
    {
     "name": "stdout",
     "output_type": "stream",
     "text": [
      "- Type: float64\n",
      "- First rows:\n",
      "0    0.4\n",
      "1    0.7\n",
      "2    1.0\n",
      "3    2.0\n",
      "4    0.6\n",
      "Name: Height, dtype: float64\n",
      "- Last rows:\n",
      "1174    1.5\n",
      "1175    1.6\n",
      "1176    0.2\n",
      "1177    0.2\n",
      "1178    0.3\n",
      "Name: Height, dtype: float64\n",
      "- Number of missing values: 0\n",
      "float64\n",
      "- Number of distinct values: 54\n",
      "- Unique value counts:\n",
      "0.6     102\n",
      "0.3      95\n",
      "0.4      82\n",
      "1.0      78\n",
      "0.5      77\n",
      "1.2      72\n",
      "1.5      62\n",
      "0.8      57\n",
      "0.7      53\n",
      "1.1      48\n",
      "0.9      43\n",
      "1.6      42\n",
      "1.3      42\n",
      "1.4      41\n",
      "0.2      40\n",
      "2.0      33\n",
      "1.8      33\n",
      "1.7      29\n",
      "1.9      23\n",
      "3.0      12\n",
      "2.1      12\n",
      "2.5      11\n",
      "0.1      11\n",
      "2.2      10\n",
      "2.4       7\n",
      "2.3       7\n",
      "3.5       5\n",
      "2.8       4\n",
      "4.5       4\n",
      "3.2       4\n",
      "2.9       3\n",
      "2.7       3\n",
      "3.8       3\n",
      "3.6       3\n",
      "5.0       3\n",
      "5.5       2\n",
      "4.2       2\n",
      "9.2       2\n",
      "5.4       2\n",
      "5.2       2\n",
      "4.0       2\n",
      "3.7       1\n",
      "3.3       1\n",
      "7.0       1\n",
      "2.6       1\n",
      "6.2       1\n",
      "14.5      1\n",
      "5.8       1\n",
      "3.9       1\n",
      "3.4       1\n",
      "6.5       1\n",
      "8.8       1\n",
      "20.0      1\n",
      "12.0      1\n",
      "Name: Height, dtype: int64\n",
      "- Min: 0.1\n",
      "- Mean: 1.2053435114503814\n",
      "- Median: 1.0\n",
      "- Max: 20.0\n",
      "- Std: 1.216914024009834\n"
     ]
    }
   ],
   "source": [
    "describe_feature(data, 'Height')"
   ]
  },
  {
   "cell_type": "markdown",
   "metadata": {},
   "source": [
    "This is a simple feature indicating the height (in meters) of the Pokémon. A higher value will mean taller Pokémon."
   ]
  },
  {
   "cell_type": "markdown",
   "metadata": {},
   "source": [
    "### Feature GenderProbM"
   ]
  },
  {
   "cell_type": "code",
   "execution_count": 242,
   "metadata": {},
   "outputs": [
    {
     "name": "stdout",
     "output_type": "stream",
     "text": [
      "- Type: object\n",
      "- First rows:\n",
      "0        -\n",
      "1    0.875\n",
      "2    0.875\n",
      "3    0.875\n",
      "4    0.875\n",
      "Name: GenderProbM, dtype: object\n",
      "- Last rows:\n",
      "1174      -\n",
      "1175      -\n",
      "1176    0.5\n",
      "1177    0.5\n",
      "1178      -\n",
      "Name: GenderProbM, dtype: object\n",
      "- Number of missing values: 0\n",
      "object\n",
      "- Number of distinct values: 8\n",
      "- Unique value counts:\n",
      "0.5      709\n",
      "-        193\n",
      "0.875    137\n",
      "0.0       56\n",
      "0.25      31\n",
      "1.0       30\n",
      "0.75      21\n",
      "0.125      2\n",
      "Name: GenderProbM, dtype: int64\n",
      "- Unique values: ['-' '0.875' '0.5' '0.0' '1.0' '0.25' '0.75' '0.125']\n"
     ]
    }
   ],
   "source": [
    "describe_feature(data, 'GenderProbM')"
   ]
  },
  {
   "cell_type": "markdown",
   "metadata": {},
   "source": [
    "This feature indicates the proportion of male Pokémon of that species. The value '-' indicates that that Pokémon has no gender. We need to process it for use this as a continuous attribute. For this reason, we will replace those '-' values with 0.5 and add a column indicating that those Pokémon have no Gender."
   ]
  },
  {
   "cell_type": "code",
   "execution_count": 243,
   "metadata": {},
   "outputs": [
    {
     "name": "stdout",
     "output_type": "stream",
     "text": [
      "- Type: float64\n",
      "- First rows:\n",
      "0    0.500\n",
      "1    0.875\n",
      "2    0.875\n",
      "3    0.875\n",
      "4    0.875\n",
      "Name: GenderProbM, dtype: float64\n",
      "- Last rows:\n",
      "1174    0.5\n",
      "1175    0.5\n",
      "1176    0.5\n",
      "1177    0.5\n",
      "1178    0.5\n",
      "Name: GenderProbM, dtype: float64\n",
      "- Number of missing values: 0\n",
      "float64\n",
      "- Number of distinct values: 7\n",
      "- Unique value counts:\n",
      "0.500    902\n",
      "0.875    137\n",
      "0.000     56\n",
      "0.250     31\n",
      "1.000     30\n",
      "0.750     21\n",
      "0.125      2\n",
      "Name: GenderProbM, dtype: int64\n",
      "- Min: 0.0\n",
      "- Mean: 0.5297921967769296\n",
      "- Median: 0.5\n",
      "- Max: 1.0\n",
      "- Std: 0.19161192761655535\n",
      "- Type: int64\n",
      "- First rows:\n",
      "0    1\n",
      "1    0\n",
      "2    0\n",
      "3    0\n",
      "4    0\n",
      "Name: NoGender, dtype: int64\n",
      "- Last rows:\n",
      "1174    1\n",
      "1175    1\n",
      "1176    0\n",
      "1177    0\n",
      "1178    1\n",
      "Name: NoGender, dtype: int64\n",
      "- Number of missing values: 0\n",
      "int64\n",
      "- Number of distinct values: 2\n",
      "- Unique value counts:\n",
      "0    986\n",
      "1    193\n",
      "Name: NoGender, dtype: int64\n",
      "- Min: 0\n",
      "- Mean: 0.1636980491942324\n",
      "- Median: 0.0\n",
      "- Max: 1\n",
      "- Std: 0.37015836158762744\n"
     ]
    }
   ],
   "source": [
    "data['NoGender'] = 0\n",
    "data.loc[data['GenderProbM'] == '-', 'NoGender'] = 1\n",
    "data['GenderProbM'] = data['GenderProbM'].replace(['-'], [0.5]).astype('float64')\n",
    "describe_feature(data, 'GenderProbM')\n",
    "describe_feature(data, 'NoGender')"
   ]
  },
  {
   "cell_type": "markdown",
   "metadata": {},
   "source": [
    "### Feature Category"
   ]
  },
  {
   "cell_type": "code",
   "execution_count": 244,
   "metadata": {},
   "outputs": [
    {
     "name": "stdout",
     "output_type": "stream",
     "text": [
      "- Type: object\n",
      "- First rows:\n",
      "0    Victory Pokémon\n",
      "1       Seed Pokémon\n",
      "2       Seed Pokémon\n",
      "3       Seed Pokémon\n",
      "4     Lizard Pokémon\n",
      "Name: Category, dtype: object\n",
      "- Last rows:\n",
      "1174        Paradox Pokémon\n",
      "1175        Paradox Pokémon\n",
      "1176           Tera Pokémon\n",
      "1177           Tera Pokémon\n",
      "1178    Subjugation Pokémon\n",
      "Name: Category, dtype: object\n",
      "- Number of missing values: 0\n",
      "object\n",
      "- Number of distinct values: 731\n",
      "- Unique value counts:\n",
      "Paradox Pokémon          22\n",
      "Mouse Pokémon            13\n",
      "Single Bloom Pokémon     10\n",
      "Fox Pokémon               9\n",
      "Dragon Pokémon            8\n",
      "Season Pokémon            8\n",
      "Bagworm Pokémon           8\n",
      "Balloon Pokémon           6\n",
      "Poison Pin Pokémon        6\n",
      "Plasma Pokémon            6\n",
      "Mushroom Pokémon          6\n",
      "Paleozoic Pokémon         5\n",
      "Fossil Pokémon            5\n",
      "Mole Pokémon              5\n",
      "Puppy Pokémon             5\n",
      "Flame Pokémon             5\n",
      "Dancing Pokémon           5\n",
      "Garden Pokémon            5\n",
      "Fruit Pokémon             4\n",
      "Tadpole Pokémon           4\n",
      "Weather Pokémon           4\n",
      "Rock Pokémon              4\n",
      "DNA Pokémon               4\n",
      "Sludge Pokémon            4\n",
      "Sea Slug Pokémon          4\n",
      "Land Spirit Pokémon       4\n",
      "Penguin Pokémon           4\n",
      "Parrot Pokémon            4\n",
      "Warrior Pokémon           4\n",
      "Drill Pokémon             4\n",
      "Coal Pokémon              4\n",
      "Mask Pokémon              4\n",
      "Cocoon Pokémon            4\n",
      "Rabbit Pokémon            4\n",
      "Tiny Bird Pokémon         4\n",
      "Seed Pokémon              4\n",
      "Ruinous Pokémon           4\n",
      "Emotion Pokémon           4\n",
      "Fairy Pokémon             4\n",
      "Bat Pokémon               4\n",
      "Trap Pokémon              3\n",
      "Sharp Claw Pokémon        3\n",
      "Rock Salt Pokémon         3\n",
      "Hog Pokémon               3\n",
      "Iceberg Pokémon           3\n",
      "Big Jaw Pokémon           3\n",
      "Mimicry Pokémon           3\n",
      "Virtual Pokémon           3\n",
      "Iron Armor Pokémon        3\n",
      "Poison Gas Pokémon        3\n",
      "Land Snake Pokémon        3\n",
      "Volcano Pokémon           3\n",
      "Vibration Pokémon         3\n",
      "Olive Pokémon             3\n",
      "Gulp Pokémon              3\n",
      "Zen Charm Pokémon         3\n",
      "Blazing Pokémon           3\n",
      "Scaly Pokémon             3\n",
      "Mount Pokémon             3\n",
      "Electric Pokémon          3\n",
      "Prism Pokémon             3\n",
      "Cottonweed Pokémon        3\n",
      "Wushu Pokémon             3\n",
      "Sun Pokémon               3\n",
      "Boundary Pokémon          3\n",
      "Scout Pokémon             3\n",
      "Worm Pokémon              3\n",
      "Muscular Pokémon          3\n",
      "Scratch Cat Pokémon       3\n",
      "Mud Fish Pokémon          3\n",
      "Bite Pokémon              3\n",
      "Wolf Pokémon              3\n",
      "Hostile Pokémon           3\n",
      "Psi Pokémon               3\n",
      "EleFish Pokémon           3\n",
      "Superpower Pokémon        3\n",
      "King Pokémon              3\n",
      "Retainer Pokémon          3\n",
      "Order Pokémon             3\n",
      "Flower Pokémon            3\n",
      "Shellfish Pokémon         3\n",
      "Coral Pokémon             3\n",
      "Ore Pokémon               3\n",
      "Bivalve Pokémon           3\n",
      "Sea Lion Pokémon          3\n",
      "Wild Duck Pokémon         3\n",
      "Gear Pokémon              3\n",
      "Compass Pokémon           2\n",
      "Meditate Pokémon          2\n",
      "Punk Pokémon              2\n",
      "Ember Pokémon             2\n",
      "Melody Pokémon            2\n",
      "Constraint Pokémon        2\n",
      "Cheering Pokémon          2\n",
      "Firefly Pokémon           2\n",
      "Wood Gecko Pokémon        2\n",
      "Sand Snake Pokémon        2\n",
      "Scatterdust Pokémon       2\n",
      "Radiator Pokémon          2\n",
      "Wily Pokémon              2\n",
      "Water Bird Pokémon        2\n",
      "Sword Pokémon             2\n",
      "Cream Pokémon             2\n",
      "Drowsing Pokémon          2\n",
      "Digging Pokémon           2\n",
      "Bubble Frog Pokémon       2\n",
      "Spiny Armor Pokémon       2\n",
      "Tiny Raccoon Pokémon      2\n",
      "Ninja Pokémon             2\n",
      "Two-Sided Pokémon         2\n",
      "Copperderm Pokémon        2\n",
      "Alloy Pokémon             2\n",
      "Rushing Pokémon           2\n",
      "Black Tea Pokémon         2\n",
      "Devious Pokémon           2\n",
      "Sheep Pokémon             2\n",
      "Dog Pokémon               2\n",
      "Water Bubble Pokémon      2\n",
      "Continent Pokémon         2\n",
      "Pumpkin Pokémon           2\n",
      "Toxic Mouth Pokémon       2\n",
      "Chimp Pokémon             2\n",
      "Playful Pokémon           2\n",
      "Sound Wave Pokémon        2\n",
      "Starling Pokémon          2\n",
      "Life Pokémon              2\n",
      "Toxic Lizard Pokémon      2\n",
      "Illuminating Pokémon      2\n",
      "Cricket Pokémon           2\n",
      "Head Butt Pokémon         2\n",
      "Royal Sword Pokémon       2\n",
      "Shield Pokémon            2\n",
      "Brutal Star Pokémon       2\n",
      "Small Fry Pokémon         2\n",
      "Bee Fly Pokémon           2\n",
      "Sea Weasel Pokémon        2\n",
      "Blossom Pokémon           2\n",
      "Cave Pokémon              2\n",
      "Larva Pokémon             2\n",
      "Arrow Quill Pokémon       2\n",
      "Fire Cat Pokémon          2\n",
      "Skunk Pokémon             2\n",
      "Frost Tree Pokémon        2\n",
      "Eon Pokémon               2\n",
      "Thunderbolt Pokémon       2\n",
      "Synthetic Pokémon         2\n",
      "Brutal Pokémon            2\n",
      "Formidable Pokémon        2\n",
      "Raven Pokémon             2\n",
      "Manipulate Pokémon        2\n",
      "Fire Pig Pokémon          2\n",
      "Cactus Pokémon            2\n",
      "Water Lizard Pokémon      2\n",
      "Grass Snake Pokémon       2\n",
      "Gratitude Pokémon         2\n",
      "Meteorite Pokémon         2\n",
      "Whiskers Pokémon          2\n",
      "Hex Nut Pokémon           2\n",
      "Clay Doll Pokémon         2\n",
      "Mock Kelp Pokémon         2\n",
      "Renegade Pokémon          2\n",
      "Spatial Pokémon           2\n",
      "Temporal Pokémon          2\n",
      "Tundra Pokémon            2\n",
      "Fresh Snow Pokémon        2\n",
      "Jewel Pokémon             2\n",
      "Disguise Pokémon          2\n",
      "Soft Tissue Pokémon       2\n",
      "Meteor Pokémon            2\n",
      "Generator Pokémon         2\n",
      "Big Horn Pokémon          2\n",
      "Colt Pokémon              2\n",
      "Hypnosis Pokémon          2\n",
      "Automaton Pokémon         2\n",
      "Cruel Pokémon             2\n",
      "Ice Fin Pokémon           2\n",
      "Gas Pokémon               2\n",
      "Rolling Pokémon           2\n",
      "Spicy Pepper Pokémon      2\n",
      "Leaf Pokémon              2\n",
      "Woodear Pokémon           2\n",
      "Magnet Pokémon            2\n",
      "Tumbleweed Pokémon        2\n",
      "Hermit Crab Pokémon       2\n",
      "Owl Pokémon               2\n",
      "Dopey Pokémon             2\n",
      "Five Star Pokémon         2\n",
      "Unique Horn Pokémon       2\n",
      "Fire Horse Pokémon        2\n",
      "Axe Jaw Pokémon           2\n",
      "Prototurtle Pokémon       2\n",
      "Light Pokémon             2\n",
      "Hammer Pokémon            2\n",
      "Spiral Pokémon            2\n",
      "Happiness Pokémon         2\n",
      "Abundance Pokémon         2\n",
      "Licking Pokémon           2\n",
      "Goldfish Pokémon          2\n",
      "Star Shape Pokémon        2\n",
      "Terra Whale Pokémon       2\n",
      "Ghost Dog Pokémon         2\n",
      "Bone Keeper Pokémon       2\n",
      "Coconut Pokémon           2\n",
      "Snail Pokémon             2\n",
      "Egg Pokémon               2\n",
      "Stag Beetle Pokémon       2\n",
      "Wild Bull Pokémon         2\n",
      "Fish Pokémon              2\n",
      "Sphere Pokémon            2\n",
      "Ball Pokémon              2\n",
      "Dolphin Pokémon           2\n",
      "Martial Arts Pokémon      2\n",
      "Garden Eel Pokémon        2\n",
      "Lightning Pokémon         2\n",
      "Pincer Pokémon            2\n",
      "Spirit Pokémon            2\n",
      "First Bird Pokémon        2\n",
      "Mystic Pokémon            2\n",
      "Poison Moth Pokémon       2\n",
      "Desert Croc Pokémon       2\n",
      "Weed Pokémon              2\n",
      "Floating Pokémon          2\n",
      "Fire Croc Pokémon         2\n",
      "Bird Pokémon              2\n",
      "Jet Pokémon               2\n",
      "Flowering Pokémon         2\n",
      "Kite Pokémon              2\n",
      "Grass Cat Pokémon         2\n",
      "Dark Pokémon              2\n",
      "Love-Hate Pokémon         2\n",
      "Armor Pokémon             2\n",
      "Matcha Pokémon            2\n",
      "Cyclone Pokémon           2\n",
      "Big Fish Pokémon          2\n",
      "Peat Pokémon              2\n",
      "Butterfly Pokémon         2\n",
      "Bolt Strike Pokémon       2\n",
      "Tera Pokémon              2\n",
      "Cerebral Pokémon          2\n",
      "Lava Pokémon              2\n",
      "Pig Monkey Pokémon        2\n",
      "Water Fish Pokémon        2\n",
      "Wool Pokémon              2\n",
      "Megaton Pokémon           2\n",
      "Jellyfish Pokémon         2\n",
      "Flycatcher Pokémon        2\n",
      "Legendary Pokémon         2\n",
      "Grasshopper Pokémon       2\n",
      "Long Tail Pokémon         2\n",
      "Duck Pokémon              2\n",
      "Vine Pokémon              2\n",
      "Long Neck Pokémon         2\n",
      "Darkness Pokémon          2\n",
      "Royal Pokémon             2\n",
      "Family Pokémon            2\n",
      "Classy Cat Pokémon        2\n",
      "Stump Pokémon             1\n",
      "Key Ring Pokémon          1\n",
      "Heel Pokémon              1\n",
      "Grass Quill Pokémon       1\n",
      "Djinn Pokémon             1\n",
      "Lamp Pokémon              1\n",
      "Tusk Pokémon              1\n",
      "Ice Chunk Pokémon         1\n",
      "Mischief Pokémon          1\n",
      "Luring Pokémon            1\n",
      "Elder Tree Pokémon        1\n",
      "Destruction Pokémon       1\n",
      "Blade Quill Pokémon       1\n",
      "Candle Pokémon            1\n",
      "Steam Pokémon             1\n",
      "Two-Handed Pokémon        1\n",
      "Shell Bunker Pokémon      1\n",
      "Lion Cub Pokémon          1\n",
      "Diapered Pokémon          1\n",
      "Bone Vulture Pokémon      1\n",
      "Anteater Pokémon          1\n",
      "Restraint Pokémon         1\n",
      "Iron Ant Pokémon          1\n",
      "Poodle Pokémon            1\n",
      "Irate Pokémon             1\n",
      "Daunting Pokémon          1\n",
      "Torch Pokémon             1\n",
      "Scale Pokémon             1\n",
      "Chill Pokémon             1\n",
      "Scorching Pokémon         1\n",
      "Iron Will Pokémon         1\n",
      "Cavern Pokémon            1\n",
      "Tiny Robin Pokémon        1\n",
      "Soloist Pokémon           1\n",
      "Grassland Pokémon         1\n",
      "Spiny Nut Pokémon         1\n",
      "Vast White Pokémon        1\n",
      "Deep Black Pokémon        1\n",
      "Battle Cry Pokémon        1\n",
      "Valiant Pokémon           1\n",
      "Perfume Pokémon           1\n",
      "Fragrance Pokémon         1\n",
      "Antenna Pokémon           1\n",
      "Freezing Pokémon          1\n",
      "Wrestling Pokémon         1\n",
      "Intertwining Pokémon      1\n",
      "Crystallizing Pokémon     1\n",
      "Despot Pokémon            1\n",
      "Royal Heir Pokémon        1\n",
      "Shell Out Pokémon         1\n",
      "Howitzer Pokémon          1\n",
      "Water Gun Pokémon         1\n",
      "Collective Pokémon        1\n",
      "Overturning Pokémon       1\n",
      "Sharp Blade Pokémon       1\n",
      "Revolving Pokémon         1\n",
      "Sword Blade Pokémon       1\n",
      "Bash Buffalo Pokémon      1\n",
      "Meringue Pokémon          1\n",
      "Eaglet Pokémon            1\n",
      "Cotton Candy Pokémon      1\n",
      "Pop Star Pokémon          1\n",
      "Victory Pokémon           1\n",
      "Woodpecker Pokémon        1\n",
      "Dragon Orb Pokémon        1\n",
      "Couple Pokémon            1\n",
      "Hands-On Pokémon          1\n",
      "String Ball Pokémon       1\n",
      "Dancer Pokémon            1\n",
      "Practicing Pokémon        1\n",
      "Duckling Pokémon          1\n",
      "Singer Pokémon            1\n",
      "Magician Pokémon          1\n",
      "Pin Cluster Pokémon       1\n",
      "Free Climb Pokémon        1\n",
      "Axe Pokémon               1\n",
      "Swift Horse Pokémon       1\n",
      "Wild Horse Pokémon        1\n",
      "Electron Pokémon          1\n",
      "Fire Warrior Pokémon      1\n",
      "Rogue Monkey Pokémon      1\n",
      "Gigantic Pokémon          1\n",
      "Stealth Pokémon           1\n",
      "Caretaker Pokémon         1\n",
      "Lingering Pokémon         1\n",
      "Big Rock Pokémon          1\n",
      "Frost Moth Pokémon        1\n",
      "Sea Urchin Pokémon        1\n",
      "Formation Pokémon         1\n",
      "Grudge Pokémon            1\n",
      "Comedian Pokémon          1\n",
      "Viking Pokémon            1\n",
      "Blocking Pokémon          1\n",
      "Fire Child Pokémon        1\n",
      "Fire Blades Pokémon       1\n",
      "Silent Pokémon            1\n",
      "Multi-Cyl Pokémon         1\n",
      "Apple Hydra Pokémon       1\n",
      "Candy Apple Pokémon       1\n",
      "Coin Entity Pokémon       1\n",
      "Coin Hunter Pokémon       1\n",
      "Coin Chest Pokémon        1\n",
      "Ice Dragon Pokémon        1\n",
      "Big Blade Pokémon         1\n",
      "Spiny Fish Pokémon        1\n",
      "Rage Monkey Pokémon       1\n",
      "Big Catfish Pokémon       1\n",
      "Jettison Pokémon          1\n",
      "Synchronize Pokémon       1\n",
      "Earthworm Pokémon         1\n",
      "Single-Cyl Pokémon        1\n",
      "EleTadpole Pokémon        1\n",
      "Hero Pokémon              1\n",
      "Item Drop Pokémon         1\n",
      "Metalsmith Pokémon        1\n",
      "Ostrich Pokémon           1\n",
      "Frill Pokémon             1\n",
      "Ambush Pokémon            1\n",
      "Toxic Monkey Pokémon      1\n",
      "Toxic Mouse Pokémon       1\n",
      "Boss Pokémon              1\n",
      "Rascal Pokémon            1\n",
      "Frigatebird Pokémon       1\n",
      "Storm Petrel Pokémon      1\n",
      "EleFrog Pokémon           1\n",
      "Bulk Up Pokémon           1\n",
      "Serene Pokémon            1\n",
      "Bugle Beak Pokémon        1\n",
      "Teamwork Pokémon          1\n",
      "Sunne Pokémon             1\n",
      "Protostar Pokémon         1\n",
      "Nebula Pokémon            1\n",
      "Sea Creeper Pokémon       1\n",
      "Placid Pokémon            1\n",
      "Gnash Teeth Pokémon       1\n",
      "Roly-Poly Pokémon         1\n",
      "Blast Turtle Pokémon      1\n",
      "Sea Cucumber Pokémon      1\n",
      "Sand Castle Pokémon       1\n",
      "Sand Heap Pokémon         1\n",
      "Hard Scale Pokémon        1\n",
      "Turn Tail Pokémon         1\n",
      "Sage Pokémon              1\n",
      "Parasite Pokémon          1\n",
      "Posy Picker Pokémon       1\n",
      "Strong Arm Pokémon        1\n",
      "Flailing Pokémon          1\n",
      "Bloom Sickle Pokémon      1\n",
      "Sickle Grass Pokémon      1\n",
      "Draft Horse Pokémon       1\n",
      "Donkey Pokémon            1\n",
      "Woolly Crab Pokémon       1\n",
      "Boxing Pokémon            1\n",
      "Battery Pokémon           1\n",
      "Stakeout Pokémon          1\n",
      "Loitering Pokémon         1\n",
      "Cannon Pokémon            1\n",
      "Moone Pokémon             1\n",
      "Swollen Pokémon           1\n",
      "Calm Pokémon              1\n",
      "Greedy Pokémon            1\n",
      "Jujitsu Pokémon           1\n",
      "Tantrum Pokémon           1\n",
      "Baby Pokémon              1\n",
      "Skewer Pokémon            1\n",
      "Rush Pokémon              1\n",
      "Apple Nectar Pokémon      1\n",
      "Apple Wing Pokémon        1\n",
      "Apple Core Pokémon        1\n",
      "Snapping Pokémon          1\n",
      "Thorn Seed Pokémon        1\n",
      "Cotton Bloom Pokémon      1\n",
      "Seven Spot Pokémon        1\n",
      "Radome Pokémon            1\n",
      "Cheeky Pokémon            1\n",
      "Lissome Pokémon           1\n",
      "Secret Agent Pokémon      1\n",
      "Striker Pokémon           1\n",
      "Drummer Pokémon           1\n",
      "Beat Pokémon              1\n",
      "Thunderclap Pokémon       1\n",
      "Fireworks Pokémon         1\n",
      "Rampart Pokémon           1\n",
      "Gloomdweller Pokémon      1\n",
      "Artificial Pokémon        1\n",
      "Junkivore Pokémon         1\n",
      "Drawn Sword Pokémon       1\n",
      "Launch Pokémon            1\n",
      "Glowing Pokémon           1\n",
      "Thorn Pod Pokémon         1\n",
      "Regal Pokémon             1\n",
      "EleSpider Pokémon         1\n",
      "Slacker Pokémon           1\n",
      "Swallow Pokémon           1\n",
      "Seagull Pokémon           1\n",
      "Feeling Pokémon           1\n",
      "Embrace Pokémon           1\n",
      "Pond Skater Pokémon       1\n",
      "Eyeball Pokémon           1\n",
      "Wild Monkey Pokémon       1\n",
      "Wicked Pokémon            1\n",
      "Lazy Pokémon              1\n",
      "Trainee Pokémon           1\n",
      "Shed Pokémon              1\n",
      "Whisper Pokémon           1\n",
      "Big Voice Pokémon         1\n",
      "Loud Noise Pokémon        1\n",
      "Tiny Swallow Pokémon      1\n",
      "Acorn Pokémon             1\n",
      "Arm Thrust Pokémon        1\n",
      "Rainbow Pokémon           1\n",
      "Milk Cow Pokémon          1\n",
      "Thunder Pokémon           1\n",
      "Aurora Pokémon            1\n",
      "Rock Skin Pokémon         1\n",
      "Hard Shell Pokémon        1\n",
      "Diving Pokémon            1\n",
      "Time Travel Pokémon       1\n",
      "Carefree Pokémon          1\n",
      "Forest Pokémon            1\n",
      "Chick Pokémon             1\n",
      "Young Fowl Pokémon        1\n",
      "Blaze Pokémon             1\n",
      "Water Weed Pokémon        1\n",
      "Jolly Pokémon             1\n",
      "Guts Pokémon              1\n",
      "Polka Dot Pokémon         1\n",
      "Attaching Pokémon         1\n",
      "Plate Pokémon             1\n",
      "Fang Snake Pokémon        1\n",
      "Ruffian Pokémon           1\n",
      "Rogue Pokémon             1\n",
      "Sea Lily Pokémon          1\n",
      "Barnacle Pokémon          1\n",
      "Old Shrimp Pokémon        1\n",
      "Tender Pokémon            1\n",
      "Humming Pokémon           1\n",
      "Color Swap Pokémon        1\n",
      "Puppet Pokémon            1\n",
      "Marionette Pokémon        1\n",
      "Requiem Pokémon           1\n",
      "Beckon Pokémon            1\n",
      "Wind Chime Pokémon        1\n",
      "Cat Ferret Pokémon        1\n",
      "Cotton Bird Pokémon       1\n",
      "Kitten Pokémon            1\n",
      "Savage Pokémon            1\n",
      "Prim Pokémon              1\n",
      "Deceiver Pokémon          1\n",
      "Discharge Pokémon         1\n",
      "Thorn Pokémon             1\n",
      "Stomach Pokémon           1\n",
      "Poison Bag Pokémon        1\n",
      "Ball Whale Pokémon        1\n",
      "Scarecrow Pokémon         1\n",
      "Float Whale Pokémon       1\n",
      "Numb Pokémon              1\n",
      "Eruption Pokémon          1\n",
      "Bounce Pokémon            1\n",
      "Spot Panda Pokémon        1\n",
      "Ant Pit Pokémon           1\n",
      "Live Coal Pokémon         1\n",
      "Kiss Pokémon              1\n",
      "Handstand Pokémon         1\n",
      "Atrocious Pokémon         1\n",
      "Parent Pokémon            1\n",
      "Mysterious Pokémon        1\n",
      "Barrier Pokémon           1\n",
      "Mantis Pokémon            1\n",
      "Human Shape Pokémon       1\n",
      "Spitfire Pokémon          1\n",
      "Transport Pokémon         1\n",
      "Punching Pokémon          1\n",
      "Transform Pokémon         1\n",
      "Evolution Pokémon         1\n",
      "Bubble Jet Pokémon        1\n",
      "Sleeping Pokémon          1\n",
      "Freeze Pokémon            1\n",
      "Strong Legs Pokémon       1\n",
      "Spikes Pokémon            1\n",
      "Kicking Pokémon           1\n",
      "Scuffle Pokémon           1\n",
      "Snake Pokémon             1\n",
      "Lizard Pokémon            1\n",
      "Tiny Turtle Pokémon       1\n",
      "Turtle Pokémon            1\n",
      "Hairy Bug Pokémon         1\n",
      "Poison Bee Pokémon        1\n",
      "Beak Pokémon              1\n",
      "Cobra Pokémon             1\n",
      "Lonely Pokémon            1\n",
      "Insect Pokémon            1\n",
      "Twin Bird Pokémon         1\n",
      "Triple Bird Pokémon       1\n",
      "Shadow Pokémon            1\n",
      "Rock Snake Pokémon        1\n",
      "River Crab Pokémon        1\n",
      "Malevolent Pokémon        1\n",
      "Genetic Pokémon           1\n",
      "New Species Pokémon       1\n",
      "Little Bear Pokémon       1\n",
      "Symbol Pokémon            1\n",
      "Patient Pokémon           1\n",
      "Fly Scorpion Pokémon      1\n",
      "Iron Snake Pokémon        1\n",
      "Mold Pokémon              1\n",
      "Single Horn Pokémon       1\n",
      "Hibernator Pokémon        1\n",
      "Herb Pokémon              1\n",
      "Pig Pokémon               1\n",
      "Swine Pokémon             1\n",
      "Delivery Pokémon          1\n",
      "Armor Bird Pokémon        1\n",
      "Long Nose Pokémon         1\n",
      "Painter Pokémon           1\n",
      "Screech Pokémon           1\n",
      "Hexpert Pokémon           1\n",
      "Moonlight Pokémon         1\n",
      "Poison Fish Pokémon       1\n",
      "Clear Wing Pokémon        1\n",
      "Frog Pokémon              1\n",
      "Imitation Pokémon         1\n",
      "Aqua Rabbit Pokémon       1\n",
      "Aqua Mouse Pokémon        1\n",
      "Spike Ball Pokémon        1\n",
      "Tiny Mouse Pokémon        1\n",
      "Angler Pokémon            1\n",
      "Long Leg Pokémon          1\n",
      "String Spit Pokémon       1\n",
      "Long Body Pokémon         1\n",
      "Ghost Flame Pokémon       1\n",
      "Fire Mouse Pokémon        1\n",
      "Disaster Pokémon          1\n",
      "Bright Pokémon            1\n",
      "Snow Hat Pokémon          1\n",
      "Courting Pokémon          1\n",
      "Tiny Pigeon Pokémon       1\n",
      "Wild Pigeon Pokémon       1\n",
      "Proud Pokémon             1\n",
      "Electrified Pokémon       1\n",
      "Mantle Pokémon            1\n",
      "Compressed Pokémon        1\n",
      "Subterrene Pokémon        1\n",
      "Geyser Pokémon            1\n",
      "Hearing Pokémon           1\n",
      "Judo Pokémon              1\n",
      "Karate Pokémon            1\n",
      "Sewing Pokémon            1\n",
      "Leaf-Wrapped Pokémon      1\n",
      "Nurturing Pokémon         1\n",
      "Dream Eater Pokémon       1\n",
      "Spray Pokémon             1\n",
      "Willpower Pokémon         1\n",
      "Mega Fire Pig Pokémon     1\n",
      "Colossal Pokémon          1\n",
      "Lunar Pokémon             1\n",
      "Sea Drifter Pokémon       1\n",
      "Seafaring Pokémon         1\n",
      "Pitch-Black Pokémon       1\n",
      "Alpha Pokémon             1\n",
      "Sea Otter Pokémon         1\n",
      "High Temp Pokémon         1\n",
      "Discipline Pokémon        1\n",
      "Lookout Pokémon           1\n",
      "Loyal Dog Pokémon         1\n",
      "Big-Hearted Pokémon       1\n",
      "Grass Monkey Pokémon      1\n",
      "Thorn Monkey Pokémon      1\n",
      "Centipede Pokémon         1\n",
      "Curlipede Pokémon         1\n",
      "Megapede Pokémon          1\n",
      "Multiplying Pokémon       1\n",
      "Chinchilla Pokémon        1\n",
      "Scarf Pokémon             1\n",
      "Fixation Pokémon          1\n",
      "Astral Body Pokémon       1\n",
      "Cell Pokémon              1\n",
      "Mitosis Pokémon           1\n",
      "White Bird Pokémon        1\n",
      "Cotton Puff Pokémon       1\n",
      "Icy Snow Pokémon          1\n",
      "Snowstorm Pokémon         1\n",
      "Sky Squirrel Pokémon      1\n",
      "Clamping Pokémon          1\n",
      "Cavalry Pokémon           1\n",
      "Caring Pokémon            1\n",
      "Baneful Fox Pokémon       1\n",
      "Illusion Fox Pokémon      1\n",
      "Spiteful Fox Pokémon      1\n",
      "Tricky Fox Pokémon        1\n",
      "Trash Heap Pokémon        1\n",
      "Trash Bag Pokémon         1\n",
      "Coffin Pokémon            1\n",
      "Avianoid Pokémon          1\n",
      "Hoodlum Pokémon           1\n",
      "Shedding Pokémon          1\n",
      "Stone Home Pokémon        1\n",
      "Rock Inn Pokémon          1\n",
      "Intimidation Pokémon      1\n",
      "Mellow Pokémon            1\n",
      "Spinning Pokémon          1\n",
      "Bulb Pokémon              1\n",
      "Windveiled Pokémon        1\n",
      "Lava Dome Pokémon         1\n",
      "Knowledge Pokémon         1\n",
      "Face Pokémon              1\n",
      "Spark Pokémon             1\n",
      "Grove Pokémon             1\n",
      "Emperor Pokémon           1\n",
      "Predator Pokémon          1\n",
      "Plump Mouse Pokémon       1\n",
      "Beaver Pokémon            1\n",
      "Flash Pokémon             1\n",
      "Gleam Eyes Pokémon        1\n",
      "Wish Pokémon              1\n",
      "Bud Pokémon               1\n",
      "Bouquet Pokémon           1\n",
      "Moth Pokémon              1\n",
      "Tiny Bee Pokémon          1\n",
      "Beehive Pokémon           1\n",
      "EleSquirrel Pokémon       1\n",
      "Tiny Leaf Pokémon         1\n",
      "Sky High Pokémon          1\n",
      "Snow Land Pokémon         1\n",
      "Rendezvous Pokémon        1\n",
      "Clap Pokémon              1\n",
      "Ball Roll Pokémon         1\n",
      "Ice Break Pokémon         1\n",
      "Deep Sea Pokémon          1\n",
      "South Sea Pokémon         1\n",
      "Longevity Pokémon         1\n",
      "Rock Head Pokémon         1\n",
      "Sea Basin Pokémon         1\n",
      "Endurance Pokémon         1\n",
      "Iron Ball Pokémon         1\n",
      "Iron Claw Pokémon         1\n",
      "Iron Leg Pokémon          1\n",
      "Rock Peak Pokémon         1\n",
      "Iron Pokémon              1\n",
      "Cherry Pokémon            1\n",
      "Blimp Pokémon             1\n",
      "Magical Pokémon           1\n",
      "Blast Pokémon             1\n",
      "Scorpion Pokémon          1\n",
      "Ogre Scorpion Pokémon     1\n",
      "Bug Catcher Pokémon       1\n",
      "Wing Fish Pokémon         1\n",
      "Neon Pokémon              1\n",
      "Magnet Area Pokémon       1\n",
      "Jubilee Pokémon           1\n",
      "Big Boss Pokémon          1\n",
      "Ogre Darner Pokémon       1\n",
      "Verdant Pokémon           1\n",
      "Fang Scorpion Pokémon     1\n",
      "Twin Tusk Pokémon         1\n",
      "Blade Pokémon             1\n",
      "Gripper Pokémon           1\n",
      "Heavyweight Pokémon       1\n",
      "Hippo Pokémon             1\n",
      "Aura Pokémon              1\n",
      "Emanation Pokémon         1\n",
      "Big Eater Pokémon         1\n",
      "Mach Pokémon              1\n",
      "Land Shark Pokémon        1\n",
      "Forbidden Pokémon         1\n",
      "Music Note Pokémon        1\n",
      "Playhouse Pokémon         1\n",
      "Mime Pokémon              1\n",
      "Bonsai Pokémon            1\n",
      "Bronze Bell Pokémon       1\n",
      "Bronze Pokémon            1\n",
      "Bell Pokémon              1\n",
      "Tiger Cat Pokémon         1\n",
      "Catty Pokémon             1\n",
      "Subjugation Pokémon       1\n",
      "Name: Category, dtype: int64\n",
      "- Unique values: ['Victory Pokémon' 'Seed Pokémon' 'Lizard Pokémon' 'Flame Pokémon'\n",
      " 'Tiny Turtle Pokémon' 'Turtle Pokémon' 'Shellfish Pokémon' 'Worm Pokémon'\n",
      " 'Cocoon Pokémon' 'Butterfly Pokémon' 'Hairy Bug Pokémon'\n",
      " 'Poison Bee Pokémon' 'Tiny Bird Pokémon' 'Bird Pokémon' 'Mouse Pokémon'\n",
      " 'Beak Pokémon' 'Snake Pokémon' 'Cobra Pokémon' 'Poison Pin Pokémon'\n",
      " 'Drill Pokémon' 'Fairy Pokémon' 'Fox Pokémon' 'Balloon Pokémon'\n",
      " 'Bat Pokémon' 'Weed Pokémon' 'Flower Pokémon' 'Mushroom Pokémon'\n",
      " 'Insect Pokémon' 'Poison Moth Pokémon' 'Mole Pokémon'\n",
      " 'Scratch Cat Pokémon' 'Classy Cat Pokémon' 'Duck Pokémon'\n",
      " 'Pig Monkey Pokémon' 'Puppy Pokémon' 'Scout Pokémon' 'Legendary Pokémon'\n",
      " 'Tadpole Pokémon' 'Psi Pokémon' 'Superpower Pokémon' 'Flycatcher Pokémon'\n",
      " 'Jellyfish Pokémon' 'Rock Pokémon' 'Megaton Pokémon' 'Fire Horse Pokémon'\n",
      " 'Unique Horn Pokémon' 'Dopey Pokémon' 'Hermit Crab Pokémon'\n",
      " 'Magnet Pokémon' 'Wild Duck Pokémon' 'Twin Bird Pokémon'\n",
      " 'Triple Bird Pokémon' 'Sea Lion Pokémon' 'Sludge Pokémon'\n",
      " 'Bivalve Pokémon' 'Gas Pokémon' 'Shadow Pokémon' 'Rock Snake Pokémon'\n",
      " 'Hypnosis Pokémon' 'River Crab Pokémon' 'Pincer Pokémon' 'Ball Pokémon'\n",
      " 'Sphere Pokémon' 'Egg Pokémon' 'Coconut Pokémon' 'Lonely Pokémon'\n",
      " 'Bone Keeper Pokémon' 'Kicking Pokémon' 'Punching Pokémon'\n",
      " 'Licking Pokémon' 'Poison Gas Pokémon' 'Spikes Pokémon' 'Vine Pokémon'\n",
      " 'Parent Pokémon' 'Dragon Pokémon' 'Goldfish Pokémon' 'Star Shape Pokémon'\n",
      " 'Mysterious Pokémon' 'Barrier Pokémon' 'Dancing Pokémon' 'Mantis Pokémon'\n",
      " 'Human Shape Pokémon' 'Electric Pokémon' 'Spitfire Pokémon'\n",
      " 'Stag Beetle Pokémon' 'Wild Bull Pokémon' 'Fish Pokémon'\n",
      " 'Atrocious Pokémon' 'Transport Pokémon' 'Transform Pokémon'\n",
      " 'Evolution Pokémon' 'Bubble Jet Pokémon' 'Lightning Pokémon'\n",
      " 'Virtual Pokémon' 'Spiral Pokémon' 'Fossil Pokémon' 'Sleeping Pokémon'\n",
      " 'Freeze Pokémon' 'Cruel Pokémon' 'Strong Legs Pokémon'\n",
      " 'Malevolent Pokémon' 'Genetic Pokémon' 'New Species Pokémon'\n",
      " 'Leaf Pokémon' 'Herb Pokémon' 'Fire Mouse Pokémon' 'Volcano Pokémon'\n",
      " 'Ghost Flame Pokémon' 'Big Jaw Pokémon' 'Long Body Pokémon' 'Owl Pokémon'\n",
      " 'Five Star Pokémon' 'String Spit Pokémon' 'Long Leg Pokémon'\n",
      " 'Angler Pokémon' 'Light Pokémon' 'Tiny Mouse Pokémon'\n",
      " 'Spike Ball Pokémon' 'Happiness Pokémon' 'Mystic Pokémon' 'Wool Pokémon'\n",
      " 'Aqua Mouse Pokémon' 'Aqua Rabbit Pokémon' 'Imitation Pokémon'\n",
      " 'Frog Pokémon' 'Cottonweed Pokémon' 'Long Tail Pokémon' 'Sun Pokémon'\n",
      " 'Clear Wing Pokémon' 'Water Fish Pokémon' 'Poison Fish Pokémon'\n",
      " 'Moonlight Pokémon' 'Darkness Pokémon' 'Royal Pokémon' 'Hexpert Pokémon'\n",
      " 'Screech Pokémon' 'Symbol Pokémon' 'Patient Pokémon' 'Long Neck Pokémon'\n",
      " 'Bagworm Pokémon' 'Land Snake Pokémon' 'Fly Scorpion Pokémon'\n",
      " 'Iron Snake Pokémon' 'Mold Pokémon' 'Single Horn Pokémon'\n",
      " 'Sharp Claw Pokémon' 'Little Bear Pokémon' 'Hibernator Pokémon'\n",
      " 'Lava Pokémon' 'Pig Pokémon' 'Swine Pokémon' 'Coral Pokémon'\n",
      " 'Jet Pokémon' 'Delivery Pokémon' 'Kite Pokémon' 'Armor Bird Pokémon'\n",
      " 'Dark Pokémon' 'Long Nose Pokémon' 'Armor Pokémon' 'Big Horn Pokémon'\n",
      " 'Painter Pokémon' 'Scuffle Pokémon' 'Handstand Pokémon' 'Kiss Pokémon'\n",
      " 'Live Coal Pokémon' 'Milk Cow Pokémon' 'Thunder Pokémon' 'Aurora Pokémon'\n",
      " 'Rock Skin Pokémon' 'Hard Shell Pokémon' 'Diving Pokémon'\n",
      " 'Rainbow Pokémon' 'Time Travel Pokémon' 'Wood Gecko Pokémon'\n",
      " 'Forest Pokémon' 'Chick Pokémon' 'Young Fowl Pokémon' 'Blaze Pokémon'\n",
      " 'Mud Fish Pokémon' 'Bite Pokémon' 'Tiny Raccoon Pokémon'\n",
      " 'Rushing Pokémon' 'Water Weed Pokémon' 'Jolly Pokémon' 'Carefree Pokémon'\n",
      " 'Acorn Pokémon' 'Wily Pokémon' 'Wicked Pokémon' 'Tiny Swallow Pokémon'\n",
      " 'Swallow Pokémon' 'Seagull Pokémon' 'Water Bird Pokémon'\n",
      " 'Feeling Pokémon' 'Emotion Pokémon' 'Embrace Pokémon'\n",
      " 'Pond Skater Pokémon' 'Eyeball Pokémon' 'Slacker Pokémon'\n",
      " 'Wild Monkey Pokémon' 'Lazy Pokémon' 'Trainee Pokémon' 'Ninja Pokémon'\n",
      " 'Shed Pokémon' 'Whisper Pokémon' 'Big Voice Pokémon' 'Loud Noise Pokémon'\n",
      " 'Guts Pokémon' 'Arm Thrust Pokémon' 'Polka Dot Pokémon' 'Compass Pokémon'\n",
      " 'Kitten Pokémon' 'Prim Pokémon' 'Deceiver Pokémon' 'Iron Armor Pokémon'\n",
      " 'Meditate Pokémon' 'Discharge Pokémon' 'Cheering Pokémon'\n",
      " 'Firefly Pokémon' 'Thorn Pokémon' 'Stomach Pokémon' 'Poison Bag Pokémon'\n",
      " 'Savage Pokémon' 'Brutal Pokémon' 'Ball Whale Pokémon'\n",
      " 'Float Whale Pokémon' 'Numb Pokémon' 'Eruption Pokémon' 'Coal Pokémon'\n",
      " 'Bounce Pokémon' 'Manipulate Pokémon' 'Spot Panda Pokémon'\n",
      " 'Ant Pit Pokémon' 'Vibration Pokémon' 'Cactus Pokémon'\n",
      " 'Scarecrow Pokémon' 'Cotton Bird Pokémon' 'Humming Pokémon'\n",
      " 'Cat Ferret Pokémon' 'Fang Snake Pokémon' 'Meteorite Pokémon'\n",
      " 'Whiskers Pokémon' 'Ruffian Pokémon' 'Rogue Pokémon' 'Clay Doll Pokémon'\n",
      " 'Sea Lily Pokémon' 'Barnacle Pokémon' 'Old Shrimp Pokémon'\n",
      " 'Plate Pokémon' 'Tender Pokémon' 'Weather Pokémon' 'Color Swap Pokémon'\n",
      " 'Puppet Pokémon' 'Marionette Pokémon' 'Requiem Pokémon' 'Beckon Pokémon'\n",
      " 'Fruit Pokémon' 'Wind Chime Pokémon' 'Disaster Pokémon' 'Bright Pokémon'\n",
      " 'Snow Hat Pokémon' 'Face Pokémon' 'Clap Pokémon' 'Ball Roll Pokémon'\n",
      " 'Ice Break Pokémon' 'Deep Sea Pokémon' 'South Sea Pokémon'\n",
      " 'Longevity Pokémon' 'Rendezvous Pokémon' 'Rock Head Pokémon'\n",
      " 'Endurance Pokémon' 'Iron Ball Pokémon' 'Iron Claw Pokémon'\n",
      " 'Iron Leg Pokémon' 'Rock Peak Pokémon' 'Iceberg Pokémon' 'Iron Pokémon'\n",
      " 'Eon Pokémon' 'Sea Basin Pokémon' 'Continent Pokémon' 'Sky High Pokémon'\n",
      " 'Wish Pokémon' 'DNA Pokémon' 'Tiny Leaf Pokémon' 'Grove Pokémon'\n",
      " 'Chimp Pokémon' 'Playful Pokémon' 'Penguin Pokémon' 'Emperor Pokémon'\n",
      " 'Starling Pokémon' 'Predator Pokémon' 'Plump Mouse Pokémon'\n",
      " 'Beaver Pokémon' 'Cricket Pokémon' 'Flash Pokémon' 'Spark Pokémon'\n",
      " 'Gleam Eyes Pokémon' 'Bud Pokémon' 'Bouquet Pokémon' 'Head Butt Pokémon'\n",
      " 'Shield Pokémon' 'Moth Pokémon' 'Tiny Bee Pokémon' 'Beehive Pokémon'\n",
      " 'EleSquirrel Pokémon' 'Sea Weasel Pokémon' 'Cherry Pokémon'\n",
      " 'Blossom Pokémon' 'Sea Slug Pokémon' 'Blimp Pokémon' 'Rabbit Pokémon'\n",
      " 'Magical Pokémon' 'Big Boss Pokémon' 'Catty Pokémon' 'Tiger Cat Pokémon'\n",
      " 'Bell Pokémon' 'Skunk Pokémon' 'Bronze Pokémon' 'Bronze Bell Pokémon'\n",
      " 'Bonsai Pokémon' 'Mime Pokémon' 'Playhouse Pokémon' 'Music Note Pokémon'\n",
      " 'Forbidden Pokémon' 'Land Shark Pokémon' 'Cave Pokémon' 'Mach Pokémon'\n",
      " 'Big Eater Pokémon' 'Emanation Pokémon' 'Aura Pokémon' 'Hippo Pokémon'\n",
      " 'Heavyweight Pokémon' 'Scorpion Pokémon' 'Ogre Scorpion Pokémon'\n",
      " 'Toxic Mouth Pokémon' 'Bug Catcher Pokémon' 'Wing Fish Pokémon'\n",
      " 'Neon Pokémon' 'Frost Tree Pokémon' 'Magnet Area Pokémon'\n",
      " 'Thunderbolt Pokémon' 'Blast Pokémon' 'Jubilee Pokémon'\n",
      " 'Ogre Darner Pokémon' 'Verdant Pokémon' 'Fresh Snow Pokémon'\n",
      " 'Fang Scorpion Pokémon' 'Twin Tusk Pokémon' 'Blade Pokémon'\n",
      " 'Gripper Pokémon' 'Snow Land Pokémon' 'Plasma Pokémon'\n",
      " 'Knowledge Pokémon' 'Willpower Pokémon' 'Temporal Pokémon'\n",
      " 'Spatial Pokémon' 'Lava Dome Pokémon' 'Colossal Pokémon'\n",
      " 'Renegade Pokémon' 'Lunar Pokémon' 'Sea Drifter Pokémon'\n",
      " 'Seafaring Pokémon' 'Pitch-Black Pokémon' 'Gratitude Pokémon'\n",
      " 'Alpha Pokémon' 'Grass Snake Pokémon' 'Regal Pokémon' 'Fire Pig Pokémon'\n",
      " 'Mega Fire Pig Pokémon' 'Sea Otter Pokémon' 'Discipline Pokémon'\n",
      " 'Formidable Pokémon' 'Lookout Pokémon' 'Loyal Dog Pokémon'\n",
      " 'Big-Hearted Pokémon' 'Devious Pokémon' 'Grass Monkey Pokémon'\n",
      " 'Thorn Monkey Pokémon' 'High Temp Pokémon' 'Ember Pokémon'\n",
      " 'Spray Pokémon' 'Geyser Pokémon' 'Dream Eater Pokémon' 'Drowsing Pokémon'\n",
      " 'Tiny Pigeon Pokémon' 'Wild Pigeon Pokémon' 'Proud Pokémon'\n",
      " 'Electrified Pokémon' 'Mantle Pokémon' 'Ore Pokémon' 'Compressed Pokémon'\n",
      " 'Courting Pokémon' 'Subterrene Pokémon' 'Hearing Pokémon'\n",
      " 'Muscular Pokémon' 'Judo Pokémon' 'Karate Pokémon' 'Sewing Pokémon'\n",
      " 'Leaf-Wrapped Pokémon' 'Nurturing Pokémon' 'Centipede Pokémon'\n",
      " 'Curlipede Pokémon' 'Megapede Pokémon' 'Cotton Puff Pokémon'\n",
      " 'Windveiled Pokémon' 'Bulb Pokémon' 'Flowering Pokémon'\n",
      " 'Spinning Pokémon' 'Hostile Pokémon' 'Mellow Pokémon'\n",
      " 'Desert Croc Pokémon' 'Intimidation Pokémon' 'Zen Charm Pokémon'\n",
      " 'Blazing Pokémon' 'Rock Inn Pokémon' 'Stone Home Pokémon'\n",
      " 'Shedding Pokémon' 'Hoodlum Pokémon' 'Avianoid Pokémon' 'Spirit Pokémon'\n",
      " 'Coffin Pokémon' 'Prototurtle Pokémon' 'First Bird Pokémon'\n",
      " 'Trash Bag Pokémon' 'Trash Heap Pokémon' 'Tricky Fox Pokémon'\n",
      " 'Spiteful Fox Pokémon' 'Illusion Fox Pokémon' 'Baneful Fox Pokémon'\n",
      " 'Chinchilla Pokémon' 'Scarf Pokémon' 'Fixation Pokémon'\n",
      " 'Astral Body Pokémon' 'Cell Pokémon' 'Mitosis Pokémon'\n",
      " 'Multiplying Pokémon' 'White Bird Pokémon' 'Icy Snow Pokémon'\n",
      " 'Snowstorm Pokémon' 'Season Pokémon' 'Sky Squirrel Pokémon'\n",
      " 'Clamping Pokémon' 'Cavalry Pokémon' 'Floating Pokémon' 'Caring Pokémon'\n",
      " 'Attaching Pokémon' 'EleSpider Pokémon' 'Thorn Seed Pokémon'\n",
      " 'Thorn Pod Pokémon' 'Gear Pokémon' 'EleFish Pokémon' 'Cerebral Pokémon'\n",
      " 'Candle Pokémon' 'Lamp Pokémon' 'Luring Pokémon' 'Tusk Pokémon'\n",
      " 'Axe Jaw Pokémon' 'Chill Pokémon' 'Freezing Pokémon'\n",
      " 'Crystallizing Pokémon' 'Snail Pokémon' 'Shell Out Pokémon'\n",
      " 'Trap Pokémon' 'Martial Arts Pokémon' 'Automaton Pokémon'\n",
      " 'Sharp Blade Pokémon' 'Sword Blade Pokémon' 'Bash Buffalo Pokémon'\n",
      " 'Eaglet Pokémon' 'Valiant Pokémon' 'Battle Cry Pokémon'\n",
      " 'Diapered Pokémon' 'Bone Vulture Pokémon' 'Anteater Pokémon'\n",
      " 'Iron Ant Pokémon' 'Irate Pokémon' 'Torch Pokémon' 'Iron Will Pokémon'\n",
      " 'Cavern Pokémon' 'Grassland Pokémon' 'Cyclone Pokémon'\n",
      " 'Bolt Strike Pokémon' 'Vast White Pokémon' 'Deep Black Pokémon'\n",
      " 'Abundance Pokémon' 'Boundary Pokémon' 'Colt Pokémon' 'Melody Pokémon'\n",
      " 'Paleozoic Pokémon' 'Spiny Nut Pokémon' 'Spiny Armor Pokémon'\n",
      " 'Bubble Frog Pokémon' 'Digging Pokémon' 'Tiny Robin Pokémon'\n",
      " 'Scorching Pokémon' 'Scatterdust Pokémon' 'Scale Pokémon'\n",
      " 'Lion Cub Pokémon' 'Single Bloom Pokémon' 'Garden Pokémon'\n",
      " 'Mount Pokémon' 'Daunting Pokémon' 'Poodle Pokémon' 'Restraint Pokémon'\n",
      " 'Constraint Pokémon' 'Sword Pokémon' 'Royal Sword Pokémon'\n",
      " 'Perfume Pokémon' 'Fragrance Pokémon' 'Cotton Candy Pokémon'\n",
      " 'Meringue Pokémon' 'Revolving Pokémon' 'Overturning Pokémon'\n",
      " 'Two-Handed Pokémon' 'Collective Pokémon' 'Mock Kelp Pokémon'\n",
      " 'Water Gun Pokémon' 'Howitzer Pokémon' 'Generator Pokémon'\n",
      " 'Royal Heir Pokémon' 'Despot Pokémon' 'Tundra Pokémon'\n",
      " 'Intertwining Pokémon' 'Wrestling Pokémon' 'Antenna Pokémon'\n",
      " 'Jewel Pokémon' 'Soft Tissue Pokémon' 'Shell Bunker Pokémon'\n",
      " 'Key Ring Pokémon' 'Stump Pokémon' 'Elder Tree Pokémon' 'Pumpkin Pokémon'\n",
      " 'Ice Chunk Pokémon' 'Sound Wave Pokémon' 'Life Pokémon'\n",
      " 'Destruction Pokémon' 'Order Pokémon' 'Mischief Pokémon' 'Djinn Pokémon'\n",
      " 'Steam Pokémon' 'Grass Quill Pokémon' 'Blade Quill Pokémon'\n",
      " 'Arrow Quill Pokémon' 'Fire Cat Pokémon' 'Heel Pokémon'\n",
      " 'Pop Star Pokémon' 'Soloist Pokémon' 'Woodpecker Pokémon'\n",
      " 'Bugle Beak Pokémon' 'Cannon Pokémon' 'Loitering Pokémon'\n",
      " 'Stakeout Pokémon' 'Larva Pokémon' 'Battery Pokémon' 'Boxing Pokémon'\n",
      " 'Woolly Crab Pokémon' 'Bee Fly Pokémon' 'Wolf Pokémon'\n",
      " 'Small Fry Pokémon' 'Brutal Star Pokémon' 'Donkey Pokémon'\n",
      " 'Draft Horse Pokémon' 'Water Bubble Pokémon' 'Sickle Grass Pokémon'\n",
      " 'Bloom Sickle Pokémon' 'Illuminating Pokémon' 'Toxic Lizard Pokémon'\n",
      " 'Flailing Pokémon' 'Strong Arm Pokémon' 'Posy Picker Pokémon'\n",
      " 'Sage Pokémon' 'Teamwork Pokémon' 'Turn Tail Pokémon'\n",
      " 'Hard Scale Pokémon' 'Sand Heap Pokémon' 'Sand Castle Pokémon'\n",
      " 'Sea Cucumber Pokémon' 'Synthetic Pokémon' 'Meteor Pokémon'\n",
      " 'Blast Turtle Pokémon' 'Roly-Poly Pokémon' 'Disguise Pokémon'\n",
      " 'Gnash Teeth Pokémon' 'Placid Pokémon' 'Sea Creeper Pokémon'\n",
      " 'Scaly Pokémon' 'Land Spirit Pokémon' 'Nebula Pokémon'\n",
      " 'Protostar Pokémon' 'Sunne Pokémon' 'Moone Pokémon' 'Parasite Pokémon'\n",
      " 'Swollen Pokémon' 'Lissome Pokémon' 'Glowing Pokémon' 'Launch Pokémon'\n",
      " 'Drawn Sword Pokémon' 'Junkivore Pokémon' 'Prism Pokémon'\n",
      " 'Artificial Pokémon' 'Gloomdweller Pokémon' 'Rampart Pokémon'\n",
      " 'Fireworks Pokémon' 'Thunderclap Pokémon' 'Hex Nut Pokémon'\n",
      " 'Beat Pokémon' 'Drummer Pokémon' 'Striker Pokémon' 'Water Lizard Pokémon'\n",
      " 'Secret Agent Pokémon' 'Cheeky Pokémon' 'Greedy Pokémon' 'Raven Pokémon'\n",
      " 'Radome Pokémon' 'Seven Spot Pokémon' 'Cotton Bloom Pokémon'\n",
      " 'Sheep Pokémon' 'Snapping Pokémon' 'Dog Pokémon' 'Apple Core Pokémon'\n",
      " 'Apple Wing Pokémon' 'Apple Nectar Pokémon' 'Sand Snake Pokémon'\n",
      " 'Gulp Pokémon' 'Rush Pokémon' 'Skewer Pokémon' 'Baby Pokémon'\n",
      " 'Punk Pokémon' 'Radiator Pokémon' 'Tantrum Pokémon' 'Jujitsu Pokémon'\n",
      " 'Black Tea Pokémon' 'Calm Pokémon' 'Serene Pokémon' 'Silent Pokémon'\n",
      " 'Bulk Up Pokémon' 'Blocking Pokémon' 'Viking Pokémon' 'Comedian Pokémon'\n",
      " 'Grudge Pokémon' 'Cream Pokémon' 'Formation Pokémon' 'Sea Urchin Pokémon'\n",
      " 'Frost Moth Pokémon' 'Big Rock Pokémon' 'Two-Sided Pokémon'\n",
      " 'Copperderm Pokémon' 'Alloy Pokémon' 'Lingering Pokémon'\n",
      " 'Caretaker Pokémon' 'Stealth Pokémon' 'Warrior Pokémon'\n",
      " 'Gigantic Pokémon' 'Wushu Pokémon' 'Rogue Monkey Pokémon'\n",
      " 'Electron Pokémon' 'Dragon Orb Pokémon' 'Wild Horse Pokémon'\n",
      " 'Swift Horse Pokémon' 'King Pokémon' 'Axe Pokémon' 'Peat Pokémon'\n",
      " 'Big Fish Pokémon' 'Free Climb Pokémon' 'Pin Cluster Pokémon'\n",
      " 'Love-Hate Pokémon' 'Grass Cat Pokémon' 'Magician Pokémon'\n",
      " 'Fire Croc Pokémon' 'Singer Pokémon' 'Duckling Pokémon'\n",
      " 'Practicing Pokémon' 'Dancer Pokémon' 'Hog Pokémon' 'String Ball Pokémon'\n",
      " 'Grasshopper Pokémon' 'Hands-On Pokémon' 'Couple Pokémon'\n",
      " 'Family Pokémon' 'Olive Pokémon' 'Parrot Pokémon' 'Rock Salt Pokémon'\n",
      " 'Fire Child Pokémon' 'Fire Warrior Pokémon' 'Fire Blades Pokémon'\n",
      " 'EleTadpole Pokémon' 'EleFrog Pokémon' 'Storm Petrel Pokémon'\n",
      " 'Frigatebird Pokémon' 'Rascal Pokémon' 'Boss Pokémon'\n",
      " 'Toxic Mouse Pokémon' 'Toxic Monkey Pokémon' 'Tumbleweed Pokémon'\n",
      " 'Woodear Pokémon' 'Ambush Pokémon' 'Spicy Pepper Pokémon'\n",
      " 'Rolling Pokémon' 'Frill Pokémon' 'Ostrich Pokémon' 'Metalsmith Pokémon'\n",
      " 'Hammer Pokémon' 'Garden Eel Pokémon' 'Item Drop Pokémon'\n",
      " 'Dolphin Pokémon' 'Hero Pokémon' 'Single-Cyl Pokémon' 'Multi-Cyl Pokémon'\n",
      " 'Earthworm Pokémon' 'Ghost Dog Pokémon' 'Synchronize Pokémon'\n",
      " 'Terra Whale Pokémon' 'Jettison Pokémon' 'Big Catfish Pokémon'\n",
      " 'Mimicry Pokémon' 'Rage Monkey Pokémon' 'Spiny Fish Pokémon'\n",
      " 'Big Blade Pokémon' 'Paradox Pokémon' 'Ice Fin Pokémon'\n",
      " 'Ice Dragon Pokémon' 'Coin Chest Pokémon' 'Coin Hunter Pokémon'\n",
      " 'Coin Entity Pokémon' 'Ruinous Pokémon' 'Candy Apple Pokémon'\n",
      " 'Matcha Pokémon' 'Retainer Pokémon' 'Mask Pokémon' 'Apple Hydra Pokémon'\n",
      " 'Tera Pokémon' 'Subjugation Pokémon']\n"
     ]
    }
   ],
   "source": [
    "describe_feature(data, 'Category')"
   ]
  },
  {
   "cell_type": "markdown",
   "metadata": {},
   "source": [
    "This feature represents the Dex category of the Pokémon. We will use it as a categorical attribute."
   ]
  },
  {
   "cell_type": "markdown",
   "metadata": {},
   "source": [
    "### Feature CatchRate"
   ]
  },
  {
   "cell_type": "code",
   "execution_count": 245,
   "metadata": {},
   "outputs": [
    {
     "name": "stdout",
     "output_type": "stream",
     "text": [
      "- Type: int64\n",
      "- First rows:\n",
      "0     3\n",
      "1    45\n",
      "2    45\n",
      "3    45\n",
      "4    45\n",
      "Name: CatchRate, dtype: int64\n",
      "- Last rows:\n",
      "1174     10\n",
      "1175     10\n",
      "1176    255\n",
      "1177    255\n",
      "1178      3\n",
      "Name: CatchRate, dtype: int64\n",
      "- Number of missing values: 0\n",
      "int64\n",
      "- Number of distinct values: 37\n",
      "- Unique value counts:\n",
      "45     351\n",
      "3      111\n",
      "190    109\n",
      "255     95\n",
      "75      87\n",
      "120     77\n",
      "60      68\n",
      "90      54\n",
      "30      35\n",
      "200     21\n",
      "225     19\n",
      "25      18\n",
      "50      15\n",
      "180     15\n",
      "100     14\n",
      "10      13\n",
      "150     10\n",
      "235      8\n",
      "127      8\n",
      "70       6\n",
      "140      6\n",
      "5        6\n",
      "55       4\n",
      "6        4\n",
      "125      3\n",
      "65       3\n",
      "80       3\n",
      "20       3\n",
      "130      2\n",
      "15       2\n",
      "220      2\n",
      "170      2\n",
      "155      1\n",
      "145      1\n",
      "35       1\n",
      "160      1\n",
      "205      1\n",
      "Name: CatchRate, dtype: int64\n",
      "- Min: 3\n",
      "- Mean: 92.69974554707379\n",
      "- Median: 60.0\n",
      "- Max: 255\n",
      "- Std: 76.09049717636522\n"
     ]
    }
   ],
   "source": [
    "describe_feature(data, 'CatchRate')"
   ]
  },
  {
   "cell_type": "markdown",
   "metadata": {},
   "source": [
    "Thishis feature indicates the catch rate of the Pokémon. Lower values indicate lower catch rates. We will use it as it is."
   ]
  },
  {
   "cell_type": "markdown",
   "metadata": {},
   "source": [
    "### Feature EggCycles"
   ]
  },
  {
   "cell_type": "code",
   "execution_count": 246,
   "metadata": {},
   "outputs": [
    {
     "name": "stdout",
     "output_type": "stream",
     "text": [
      "- Type: int64\n",
      "- First rows:\n",
      "0    120\n",
      "1     20\n",
      "2     20\n",
      "3     20\n",
      "4     20\n",
      "Name: EggCycles, dtype: int64\n",
      "- Last rows:\n",
      "1174    50\n",
      "1175    50\n",
      "1176     5\n",
      "1177     5\n",
      "1178    20\n",
      "Name: EggCycles, dtype: int64\n",
      "- Number of missing values: 0\n",
      "int64\n",
      "- Number of distinct values: 11\n",
      "- Unique value counts:\n",
      "20     622\n",
      "15     181\n",
      "120     99\n",
      "25      77\n",
      "40      58\n",
      "10      32\n",
      "30      31\n",
      "50      29\n",
      "35      26\n",
      "80      20\n",
      "5        4\n",
      "Name: EggCycles, dtype: int64\n",
      "- Min: 5\n",
      "- Mean: 30.966921119592875\n",
      "- Median: 20.0\n",
      "- Max: 120\n",
      "- Std: 28.975103620459258\n"
     ]
    }
   ],
   "source": [
    "describe_feature(data, 'EggCycles')"
   ]
  },
  {
   "cell_type": "markdown",
   "metadata": {},
   "source": [
    "This attribute indicates es how many cycles it takes for a Pokémon to hatch from an egg. Lower values indicate faster hatching times. We will use it as it is."
   ]
  },
  {
   "cell_type": "markdown",
   "metadata": {},
   "source": [
    "### Feature EggGroup"
   ]
  },
  {
   "cell_type": "code",
   "execution_count": 247,
   "metadata": {},
   "outputs": [
    {
     "name": "stdout",
     "output_type": "stream",
     "text": [
      "- Type: object\n",
      "- First rows:\n",
      "0                       -\n",
      "1     ['Monster' 'Grass']\n",
      "2     ['Monster' 'Grass']\n",
      "3     ['Monster' 'Grass']\n",
      "4    ['Monster' 'Dragon']\n",
      "Name: EggGroup, dtype: object\n",
      "- Last rows:\n",
      "1174    -\n",
      "1175    -\n",
      "1176    -\n",
      "1177    -\n",
      "1178    -\n",
      "Name: EggGroup, dtype: object\n",
      "- Number of missing values: 0\n",
      "object\n",
      "- Number of distinct values: 67\n",
      "- Unique value counts:\n",
      "['Field']                     221\n",
      "-                             189\n",
      "['Bug']                        75\n",
      "['Mineral']                    63\n",
      "['Flying']                     57\n",
      "['Amorphous']                  49\n",
      "['Human-Like']                 44\n",
      "['Grass']                      40\n",
      "['Fairy']                      36\n",
      "['Water 1' 'Field']            27\n",
      "['Water 2']                    27\n",
      "['Monster' 'Dragon']           20\n",
      "['Water 1']                    19\n",
      "['Water 3']                    19\n",
      "['Monster']                    19\n",
      "['Monster' 'Water 1']          18\n",
      "['Field' 'Fairy']              16\n",
      "['Field' 'Human-Like']         14\n",
      "['Dragon']                     14\n",
      "['Water 1' 'Water 3']          13\n",
      "['Monster' 'Field']            13\n",
      "['Monster' 'Grass']            12\n",
      "['Field' 'Grass']              12\n",
      "['Water 1' 'Dragon']           10\n",
      "['Fairy' 'Grass']              10\n",
      "['Water 1' 'Flying']            9\n",
      "['Mineral' 'Amorphous']         8\n",
      "['Field' 'Dragon']              7\n",
      "['Water 1' 'Amorphous']         7\n",
      "['Water 1' 'Water 2']           6\n",
      "['Fairy' 'Amorphous']           6\n",
      "['Field' 'Water 2']             5\n",
      "['Grass' 'Dragon']              5\n",
      "['Fairy' 'Mineral']             5\n",
      "['Flying' 'Dragon']             5\n",
      "['Water 1' 'Bug']               4\n",
      "['Human-Like' 'Amorphous']      4\n",
      "['Field' 'Mineral']             4\n",
      "['Water 1' 'Fairy']             4\n",
      "['Bug' 'Water 3']               4\n",
      "['Water 1' 'Grass']             3\n",
      "['Flying' 'Water 1']            3\n",
      "['Amorphous' 'Dragon']          3\n",
      "['Fairy' 'Human-Like']          3\n",
      "['Monster' 'Mineral']           3\n",
      "['Bug' 'Mineral']               3\n",
      "['Dragon' 'Mineral']            3\n",
      "['Flying' 'Field']              3\n",
      "['Bug' 'Dragon']                3\n",
      "['Flying' 'Fairy']              2\n",
      "['Water 2' 'Dragon']            2\n",
      "['Bug' 'Human-Like']            2\n",
      "['Mineral' 'Dragon']            2\n",
      "['Bug' 'Grass']                 2\n",
      "['Water 1' 'Human-Like']        2\n",
      "['Grass' 'Human-Like']          2\n",
      "['Bug' 'Fairy']                 2\n",
      "['Water 2' 'Water 1']           2\n",
      "['Grass' 'Amorphous']           2\n",
      "['Grass' 'Mineral']             2\n",
      "['Flying' 'Water 3']            2\n",
      "['Grass' 'Fairy']               2\n",
      "['Field' 'Flying']              2\n",
      "['Flying' 'Human-Like']         1\n",
      "['Dragon' 'Monster']            1\n",
      "['Mineral' 'Bug']               1\n",
      "['Ditto']                       1\n",
      "Name: EggGroup, dtype: int64\n",
      "- Unique values: ['-' \"['Monster' 'Grass']\" \"['Monster' 'Dragon']\" \"['Monster' 'Water 1']\"\n",
      " \"['Bug']\" \"['Flying']\" \"['Field']\" \"['Field' 'Dragon']\"\n",
      " \"['Field' 'Fairy']\" \"['Monster' 'Field']\" \"['Fairy']\" \"['Grass']\"\n",
      " \"['Bug' 'Grass']\" \"['Water 1' 'Field']\" \"['Water 1']\" \"['Human-Like']\"\n",
      " \"['Water 3']\" \"['Mineral']\" \"['Flying' 'Field']\" \"['Amorphous']\"\n",
      " \"['Monster']\" \"['Water 1' 'Dragon']\" \"['Water 2']\" \"['Water 2' 'Dragon']\"\n",
      " \"['Ditto']\" \"['Water 1' 'Water 3']\" \"['Flying' 'Dragon']\"\n",
      " \"['Flying' 'Fairy']\" \"['Water 1' 'Fairy']\" \"['Fairy' 'Grass']\"\n",
      " \"['Water 1' 'Water 2']\" \"['Water 1' 'Grass']\" \"['Field' 'Grass']\"\n",
      " \"['Water 1' 'Flying']\" \"['Human-Like' 'Amorphous']\" \"['Water 1' 'Bug']\"\n",
      " \"['Bug' 'Mineral']\" \"['Mineral' 'Bug']\" \"['Bug' 'Human-Like']\"\n",
      " \"['Field' 'Water 2']\" \"['Field' 'Human-Like']\" \"['Bug' 'Dragon']\"\n",
      " \"['Grass' 'Human-Like']\" \"['Water 2' 'Water 1']\" \"['Fairy' 'Amorphous']\"\n",
      " \"['Fairy' 'Mineral']\" \"['Dragon']\" \"['Water 1' 'Amorphous']\"\n",
      " \"['Bug' 'Water 3']\" \"['Field' 'Flying']\" \"['Grass' 'Fairy']\"\n",
      " \"['Mineral' 'Amorphous']\" \"['Flying' 'Water 3']\" \"['Grass' 'Mineral']\"\n",
      " \"['Dragon' 'Monster']\" \"['Flying' 'Human-Like']\" \"['Grass' 'Amorphous']\"\n",
      " \"['Monster' 'Mineral']\" \"['Bug' 'Fairy']\" \"['Grass' 'Dragon']\"\n",
      " \"['Water 1' 'Human-Like']\" \"['Fairy' 'Human-Like']\" \"['Field' 'Mineral']\"\n",
      " \"['Mineral' 'Dragon']\" \"['Amorphous' 'Dragon']\" \"['Flying' 'Water 1']\"\n",
      " \"['Dragon' 'Mineral']\"]\n"
     ]
    }
   ],
   "source": [
    "describe_feature(data, 'EggGroup')"
   ]
  },
  {
   "cell_type": "markdown",
   "metadata": {},
   "source": [
    "We will process it like the types feature. Apart from it, there are several Pokémon whose egg group is non existent (Pokémon that cannot breed, or with \"No Eggs Discovered\" egg group), so we will substitue them."
   ]
  },
  {
   "cell_type": "code",
   "execution_count": 248,
   "metadata": {},
   "outputs": [
    {
     "name": "stdout",
     "output_type": "stream",
     "text": [
      "- Type: object\n",
      "- First rows:\n",
      "0    No Eggs Discovered\n",
      "1               Monster\n",
      "2               Monster\n",
      "3               Monster\n",
      "4               Monster\n",
      "Name: EggGroup1, dtype: object\n",
      "- Last rows:\n",
      "1174    No Eggs Discovered\n",
      "1175    No Eggs Discovered\n",
      "1176    No Eggs Discovered\n",
      "1177    No Eggs Discovered\n",
      "1178    No Eggs Discovered\n",
      "Name: EggGroup1, dtype: object\n",
      "- Number of missing values: 0\n",
      "object\n",
      "- Number of distinct values: 15\n",
      "- Unique value counts:\n",
      "Field                 281\n",
      "No Eggs Discovered    189\n",
      "Water 1               104\n",
      "Bug                    91\n",
      "Monster                85\n",
      "Mineral                74\n",
      "Flying                 73\n",
      "Fairy                  60\n",
      "Grass                  53\n",
      "Amorphous              52\n",
      "Human-Like             48\n",
      "Water 2                31\n",
      "Water 3                19\n",
      "Dragon                 18\n",
      "Ditto                   1\n",
      "Name: EggGroup1, dtype: int64\n",
      "- Unique values: ['No Eggs Discovered' 'Monster' 'Bug' 'Flying' 'Field' 'Fairy' 'Grass'\n",
      " 'Water 1' 'Human-Like' 'Water 3' 'Mineral' 'Amorphous' 'Water 2' 'Ditto'\n",
      " 'Dragon']\n",
      "- Type: object\n",
      "- First rows:\n",
      "0    No Egg Group\n",
      "1           Grass\n",
      "2           Grass\n",
      "3           Grass\n",
      "4          Dragon\n",
      "Name: EggGroup2, dtype: object\n",
      "- Last rows:\n",
      "1174    No Egg Group\n",
      "1175    No Egg Group\n",
      "1176    No Egg Group\n",
      "1177    No Egg Group\n",
      "1178    No Egg Group\n",
      "Name: EggGroup2, dtype: object\n",
      "- Number of missing values: 0\n",
      "object\n",
      "- Number of distinct values: 14\n",
      "- Unique value counts:\n",
      "No Egg Group    873\n",
      "Dragon           57\n",
      "Field            43\n",
      "Grass            39\n",
      "Amorphous        27\n",
      "Fairy            26\n",
      "Human-Like       24\n",
      "Water 1          23\n",
      "Mineral          20\n",
      "Water 3          19\n",
      "Water 2          11\n",
      "Flying           11\n",
      "Bug               5\n",
      "Monster           1\n",
      "Name: EggGroup2, dtype: int64\n",
      "- Unique values: ['No Egg Group' 'Grass' 'Dragon' 'Water 1' 'Fairy' 'Field' 'Water 3'\n",
      " 'Water 2' 'Flying' 'Amorphous' 'Bug' 'Mineral' 'Human-Like' 'Monster']\n"
     ]
    }
   ],
   "source": [
    "data['EggGroup'] = remove_first_last_letter(data['EggGroup'], '')\n",
    "data['EggGroup1'] = get_first_element(data['EggGroup'])\n",
    "data['EggGroup2'] = get_second_element(data['EggGroup'])\n",
    "data.loc[data['EggGroup1'] == '', 'EggGroup1'] = 'No Eggs Discovered'\n",
    "data.loc[data['EggGroup2'] == 'None', 'EggGroup2'] = 'No Egg Group'\n",
    "\n",
    "describe_feature(data, 'EggGroup1')\n",
    "describe_feature(data, 'EggGroup2')\n",
    "data = data.drop('EggGroup', axis=1)"
   ]
  },
  {
   "cell_type": "markdown",
   "metadata": {},
   "source": [
    "This feature needs to be processed just like the Types."
   ]
  },
  {
   "cell_type": "markdown",
   "metadata": {},
   "source": [
    "### Feature LevelingRate"
   ]
  },
  {
   "cell_type": "code",
   "execution_count": 249,
   "metadata": {},
   "outputs": [
    {
     "name": "stdout",
     "output_type": "stream",
     "text": [
      "- Type: object\n",
      "- First rows:\n",
      "0           Slow\n",
      "1    Medium Slow\n",
      "2    Medium Slow\n",
      "3    Medium Slow\n",
      "4    Medium Slow\n",
      "Name: LevelingRate, dtype: object\n",
      "- Last rows:\n",
      "1174    Slow\n",
      "1175    Slow\n",
      "1176    Slow\n",
      "1177    Slow\n",
      "1178    Slow\n",
      "Name: LevelingRate, dtype: object\n",
      "- Number of missing values: 0\n",
      "object\n",
      "- Number of distinct values: 6\n",
      "- Unique value counts:\n",
      "Medium Fast    484\n",
      "Slow           298\n",
      "Medium Slow    279\n",
      "Fast            71\n",
      "Erratic         33\n",
      "Fluctuating     14\n",
      "Name: LevelingRate, dtype: int64\n",
      "- Unique values: ['Slow' 'Medium Slow' 'Medium Fast' 'Fast' 'Fluctuating' 'Erratic']\n"
     ]
    }
   ],
   "source": [
    "data['LevelingRate'] = remove_last_letter(data['LevelingRate'])\n",
    "describe_feature(data, 'LevelingRate')"
   ]
  },
  {
   "cell_type": "markdown",
   "metadata": {},
   "source": [
    "These are all possible categories for the Leveling Rate"
   ]
  },
  {
   "cell_type": "markdown",
   "metadata": {},
   "source": [
    "### Feature BaseFrienship"
   ]
  },
  {
   "cell_type": "code",
   "execution_count": 250,
   "metadata": {},
   "outputs": [
    {
     "name": "stdout",
     "output_type": "stream",
     "text": [
      "- Type: int64\n",
      "- First rows:\n",
      "0    100\n",
      "1     70\n",
      "2     70\n",
      "3     70\n",
      "4     70\n",
      "Name: BaseFriendship, dtype: int64\n",
      "- Last rows:\n",
      "1174     0\n",
      "1175     0\n",
      "1176    50\n",
      "1177    50\n",
      "1178     0\n",
      "Name: BaseFriendship, dtype: int64\n",
      "- Number of missing values: 0\n",
      "int64\n",
      "- Number of distinct values: 8\n",
      "- Unique value counts:\n",
      "70     763\n",
      "50     195\n",
      "0       98\n",
      "35      80\n",
      "100     20\n",
      "140     12\n",
      "90       8\n",
      "20       3\n",
      "Name: BaseFriendship, dtype: int64\n",
      "- Min: 0\n",
      "- Mean: 59.72858354537744\n",
      "- Median: 70.0\n",
      "- Max: 140\n",
      "- Std: 22.928862208698874\n"
     ]
    }
   ],
   "source": [
    "describe_feature(data, 'BaseFriendship')"
   ]
  },
  {
   "cell_type": "markdown",
   "metadata": {},
   "source": [
    "This feature indicates the base friendship of the Pokémon. Lower values indicate lower base friendship. We will use it as it is."
   ]
  },
  {
   "cell_type": "markdown",
   "metadata": {},
   "source": [
    "### Feature IsLegendary"
   ]
  },
  {
   "cell_type": "code",
   "execution_count": 251,
   "metadata": {},
   "outputs": [
    {
     "name": "stdout",
     "output_type": "stream",
     "text": [
      "- Type: int64\n",
      "- First rows:\n",
      "0    0\n",
      "1    0\n",
      "2    0\n",
      "3    0\n",
      "4    0\n",
      "Name: IsLegendary, dtype: int64\n",
      "- Last rows:\n",
      "1174    0\n",
      "1175    0\n",
      "1176    1\n",
      "1177    1\n",
      "1178    0\n",
      "Name: IsLegendary, dtype: int64\n",
      "- Number of missing values: 0\n",
      "int64\n",
      "- Number of distinct values: 2\n",
      "- Unique value counts:\n",
      "0    1082\n",
      "1      97\n",
      "Name: IsLegendary, dtype: int64\n",
      "- Min: 0\n",
      "- Mean: 0.08227311280746395\n",
      "- Median: 0.0\n",
      "- Max: 1\n",
      "- Std: 0.2748969679773158\n"
     ]
    }
   ],
   "source": [
    "describe_feature(data, 'IsLegendary')"
   ]
  },
  {
   "cell_type": "markdown",
   "metadata": {},
   "source": [
    "This feature indicates wether the Pokémon is a Legendary Pokémon (1) or not (0). We will use it as it is."
   ]
  },
  {
   "cell_type": "markdown",
   "metadata": {},
   "source": [
    "### Feature IsMythical"
   ]
  },
  {
   "cell_type": "code",
   "execution_count": 252,
   "metadata": {},
   "outputs": [
    {
     "name": "stdout",
     "output_type": "stream",
     "text": [
      "- Type: int64\n",
      "- First rows:\n",
      "0    1\n",
      "1    0\n",
      "2    0\n",
      "3    0\n",
      "4    0\n",
      "Name: IsMythical, dtype: int64\n",
      "- Last rows:\n",
      "1174    0\n",
      "1175    0\n",
      "1176    0\n",
      "1177    0\n",
      "1178    1\n",
      "Name: IsMythical, dtype: int64\n",
      "- Number of missing values: 0\n",
      "int64\n",
      "- Number of distinct values: 2\n",
      "- Unique value counts:\n",
      "0    1145\n",
      "1      34\n",
      "Name: IsMythical, dtype: int64\n",
      "- Min: 0\n",
      "- Mean: 0.02883799830364716\n",
      "- Median: 0.0\n",
      "- Max: 1\n",
      "- Std: 0.16742204951428044\n"
     ]
    }
   ],
   "source": [
    "describe_feature(data, 'IsMythical')"
   ]
  },
  {
   "cell_type": "markdown",
   "metadata": {},
   "source": [
    "This feature indicates wether the Pokémon is a Mythical Pokémon (1) or not (0). We will use it as it is."
   ]
  },
  {
   "cell_type": "markdown",
   "metadata": {},
   "source": [
    "### Feature IsUltraBeast"
   ]
  },
  {
   "cell_type": "code",
   "execution_count": 253,
   "metadata": {},
   "outputs": [
    {
     "name": "stdout",
     "output_type": "stream",
     "text": [
      "- Type: int64\n",
      "- First rows:\n",
      "0    0\n",
      "1    0\n",
      "2    0\n",
      "3    0\n",
      "4    0\n",
      "Name: IsUltraBeast, dtype: int64\n",
      "- Last rows:\n",
      "1174    0\n",
      "1175    0\n",
      "1176    0\n",
      "1177    0\n",
      "1178    0\n",
      "Name: IsUltraBeast, dtype: int64\n",
      "- Number of missing values: 0\n",
      "int64\n",
      "- Number of distinct values: 2\n",
      "- Unique value counts:\n",
      "0    1168\n",
      "1      11\n",
      "Name: IsUltraBeast, dtype: int64\n",
      "- Min: 0\n",
      "- Mean: 0.009329940627650551\n",
      "- Median: 0.0\n",
      "- Max: 1\n",
      "- Std: 0.09618076259995513\n"
     ]
    }
   ],
   "source": [
    "describe_feature(data, 'IsUltraBeast')"
   ]
  },
  {
   "cell_type": "markdown",
   "metadata": {},
   "source": [
    "This feature indicates wether the Pokémon is an Ultra Beast (1) or not (0). We will use it as it is."
   ]
  },
  {
   "cell_type": "markdown",
   "metadata": {},
   "source": [
    "### Feature HasMega"
   ]
  },
  {
   "cell_type": "code",
   "execution_count": 254,
   "metadata": {},
   "outputs": [
    {
     "name": "stdout",
     "output_type": "stream",
     "text": [
      "- Type: int64\n",
      "- First rows:\n",
      "0    0\n",
      "1    0\n",
      "2    0\n",
      "3    1\n",
      "4    0\n",
      "Name: HasMega, dtype: int64\n",
      "- Last rows:\n",
      "1174    0\n",
      "1175    0\n",
      "1176    0\n",
      "1177    0\n",
      "1178    0\n",
      "Name: HasMega, dtype: int64\n",
      "- Number of missing values: 0\n",
      "int64\n",
      "- Number of distinct values: 2\n",
      "- Unique value counts:\n",
      "0    1132\n",
      "1      47\n",
      "Name: HasMega, dtype: int64\n",
      "- Min: 0\n",
      "- Mean: 0.03986429177268872\n",
      "- Median: 0.0\n",
      "- Max: 1\n",
      "- Std: 0.19572332930837602\n"
     ]
    }
   ],
   "source": [
    "describe_feature(data, 'HasMega')"
   ]
  },
  {
   "cell_type": "markdown",
   "metadata": {},
   "source": [
    "This feature indicates wether the Pokémon has a Mega Evolution (1) or not (0). We will use it as it is."
   ]
  },
  {
   "cell_type": "markdown",
   "metadata": {},
   "source": [
    "### Feature EvoStage"
   ]
  },
  {
   "cell_type": "code",
   "execution_count": 255,
   "metadata": {},
   "outputs": [
    {
     "name": "stdout",
     "output_type": "stream",
     "text": [
      "- Type: int64\n",
      "- First rows:\n",
      "0    1\n",
      "1    1\n",
      "2    2\n",
      "3    3\n",
      "4    1\n",
      "Name: EvoStage, dtype: int64\n",
      "- Last rows:\n",
      "1174    1\n",
      "1175    1\n",
      "1176    1\n",
      "1177    1\n",
      "1178    1\n",
      "Name: EvoStage, dtype: int64\n",
      "- Number of missing values: 0\n",
      "int64\n",
      "- Number of distinct values: 3\n",
      "- Unique value counts:\n",
      "1    638\n",
      "2    407\n",
      "3    134\n",
      "Name: EvoStage, dtype: int64\n",
      "- Min: 1\n",
      "- Mean: 1.5725190839694656\n",
      "- Median: 1.0\n",
      "- Max: 3\n",
      "- Std: 0.687352156241489\n"
     ]
    }
   ],
   "source": [
    "describe_feature(data, 'EvoStage')"
   ]
  },
  {
   "cell_type": "markdown",
   "metadata": {},
   "source": [
    "This feature indicates the evolution stage of the Pokémon, with possible values being 1 (first evolution stage), 2 and 3 respectively. We will use it as it is."
   ]
  },
  {
   "cell_type": "markdown",
   "metadata": {},
   "source": [
    "### Feature TotalEvoStages"
   ]
  },
  {
   "cell_type": "code",
   "execution_count": 256,
   "metadata": {},
   "outputs": [
    {
     "name": "stdout",
     "output_type": "stream",
     "text": [
      "- Type: int64\n",
      "- First rows:\n",
      "0    1\n",
      "1    3\n",
      "2    3\n",
      "3    3\n",
      "4    3\n",
      "Name: TotalEvoStages, dtype: int64\n",
      "- Last rows:\n",
      "1174    1\n",
      "1175    1\n",
      "1176    1\n",
      "1177    1\n",
      "1178    1\n",
      "Name: TotalEvoStages, dtype: int64\n",
      "- Number of missing values: 0\n",
      "int64\n",
      "- Number of distinct values: 3\n",
      "- Unique value counts:\n",
      "2    537\n",
      "3    375\n",
      "1    267\n",
      "Name: TotalEvoStages, dtype: int64\n",
      "- Min: 1\n",
      "- Mean: 2.0916030534351147\n",
      "- Median: 2.0\n",
      "- Max: 3\n",
      "- Std: 0.732525268127781\n"
     ]
    }
   ],
   "source": [
    "describe_feature(data, 'TotalEvoStages')"
   ]
  },
  {
   "cell_type": "markdown",
   "metadata": {},
   "source": [
    "This feature indicates the maximum amount of the evolution line which the Pokémon belongs to. A value of 1 indicates that the Pokémon has no evolutions, a value of 2 and 3 indicates that there are 2 or 3 evolutions for the Pokémon's evolution line respectively. We will use it as it is."
   ]
  },
  {
   "cell_type": "markdown",
   "metadata": {},
   "source": [
    "### Feature DamageFromNormal"
   ]
  },
  {
   "cell_type": "code",
   "execution_count": 257,
   "metadata": {},
   "outputs": [
    {
     "name": "stdout",
     "output_type": "stream",
     "text": [
      "- Type: float64\n",
      "- First rows:\n",
      "0    1.0\n",
      "1    1.0\n",
      "2    1.0\n",
      "3    1.0\n",
      "4    1.0\n",
      "Name: DamageFromNormal, dtype: float64\n",
      "- Last rows:\n",
      "1174    0.5\n",
      "1175    0.5\n",
      "1176    1.0\n",
      "1177    1.0\n",
      "1178    0.0\n",
      "Name: DamageFromNormal, dtype: float64\n",
      "- Number of missing values: 0\n",
      "float64\n",
      "- Number of distinct values: 4\n",
      "- Unique value counts:\n",
      "1.00    948\n",
      "0.50    147\n",
      "0.00     77\n",
      "0.25      7\n",
      "Name: DamageFromNormal, dtype: int64\n",
      "- Min: 0.0\n",
      "- Mean: 0.8678965224766751\n",
      "- Median: 1.0\n",
      "- Max: 1.0\n",
      "- Std: 0.2871208038554019\n"
     ]
    }
   ],
   "source": [
    "describe_feature(data, 'DamageFromNormal')"
   ]
  },
  {
   "cell_type": "markdown",
   "metadata": {},
   "source": [
    "This feature indicates the damage multiplier for Normal type attacks to that Pokémon. We will use it as it is."
   ]
  },
  {
   "cell_type": "markdown",
   "metadata": {},
   "source": [
    "### Feature DamageFromFighting"
   ]
  },
  {
   "cell_type": "code",
   "execution_count": 258,
   "metadata": {},
   "outputs": [
    {
     "name": "stdout",
     "output_type": "stream",
     "text": [
      "- Type: float64\n",
      "- First rows:\n",
      "0    0.5\n",
      "1    0.5\n",
      "2    0.5\n",
      "3    0.5\n",
      "4    1.0\n",
      "Name: DamageFromFighting, dtype: float64\n",
      "- Last rows:\n",
      "1174    1.0\n",
      "1175    1.0\n",
      "1176    2.0\n",
      "1177    2.0\n",
      "1178    0.0\n",
      "Name: DamageFromFighting, dtype: float64\n",
      "- Number of missing values: 0\n",
      "float64\n",
      "- Number of distinct values: 6\n",
      "- Unique value counts:\n",
      "1.00    467\n",
      "2.00    281\n",
      "0.50    271\n",
      "0.00     77\n",
      "0.25     59\n",
      "4.00     24\n",
      "Name: DamageFromFighting, dtype: int64\n",
      "- Min: 0.0\n",
      "- Mean: 1.0816369804919423\n",
      "- Median: 1.0\n",
      "- Max: 4.0\n",
      "- Std: 0.7525169654003325\n"
     ]
    }
   ],
   "source": [
    "describe_feature(data, 'DamageFromFighting')"
   ]
  },
  {
   "cell_type": "markdown",
   "metadata": {},
   "source": [
    "This feature indicates the damage multiplier for Fighting type attacks to that Pokémon. We will use it as it is."
   ]
  },
  {
   "cell_type": "markdown",
   "metadata": {},
   "source": [
    "### Feature DamageFromFlying"
   ]
  },
  {
   "cell_type": "code",
   "execution_count": 259,
   "metadata": {},
   "outputs": [
    {
     "name": "stdout",
     "output_type": "stream",
     "text": [
      "- Type: float64\n",
      "- First rows:\n",
      "0    1.0\n",
      "1    2.0\n",
      "2    2.0\n",
      "3    2.0\n",
      "4    1.0\n",
      "Name: DamageFromFlying, dtype: float64\n",
      "- Last rows:\n",
      "1174    0.5\n",
      "1175    0.5\n",
      "1176    1.0\n",
      "1177    1.0\n",
      "1178    1.0\n",
      "Name: DamageFromFlying, dtype: float64\n",
      "- Number of missing values: 0\n",
      "float64\n",
      "- Number of distinct values: 5\n",
      "- Unique value counts:\n",
      "1.00    703\n",
      "2.00    262\n",
      "0.50    184\n",
      "4.00     15\n",
      "0.25     15\n",
      "Name: DamageFromFlying, dtype: int64\n",
      "- Min: 0.25\n",
      "- Mean: 1.172815945716709\n",
      "- Median: 1.0\n",
      "- Max: 4.0\n",
      "- Std: 0.5944181865711297\n"
     ]
    }
   ],
   "source": [
    "describe_feature(data, 'DamageFromFlying')"
   ]
  },
  {
   "cell_type": "markdown",
   "metadata": {},
   "source": [
    "This feature indicates the damage multiplier for Flying type attacks to that Pokémon. We will use it as it is."
   ]
  },
  {
   "cell_type": "markdown",
   "metadata": {},
   "source": [
    "### Feature DamageFromPoison"
   ]
  },
  {
   "cell_type": "code",
   "execution_count": 260,
   "metadata": {},
   "outputs": [
    {
     "name": "stdout",
     "output_type": "stream",
     "text": [
      "- Type: float64\n",
      "- First rows:\n",
      "0    1.0\n",
      "1    1.0\n",
      "2    1.0\n",
      "3    1.0\n",
      "4    1.0\n",
      "Name: DamageFromPoison, dtype: float64\n",
      "- Last rows:\n",
      "1174    0.50\n",
      "1175    0.00\n",
      "1176    1.00\n",
      "1177    1.00\n",
      "1178    0.25\n",
      "Name: DamageFromPoison, dtype: float64\n",
      "- Number of missing values: 0\n",
      "float64\n",
      "- Number of distinct values: 6\n",
      "- Unique value counts:\n",
      "1.00    664\n",
      "0.50    230\n",
      "2.00    172\n",
      "0.00     82\n",
      "0.25     26\n",
      "4.00      5\n",
      "Name: DamageFromPoison, dtype: int64\n",
      "- Min: 0.0\n",
      "- Mean: 0.9749787955894826\n",
      "- Median: 1.0\n",
      "- Max: 4.0\n",
      "- Std: 0.5607317515292662\n"
     ]
    }
   ],
   "source": [
    "describe_feature(data, 'DamageFromPoison')"
   ]
  },
  {
   "cell_type": "markdown",
   "metadata": {},
   "source": [
    "This feature indicates the damage multiplier for Poison type attacks to that Pokémon. We will use it as it is."
   ]
  },
  {
   "cell_type": "markdown",
   "metadata": {},
   "source": [
    "### Feature DamageFromGround"
   ]
  },
  {
   "cell_type": "code",
   "execution_count": 261,
   "metadata": {},
   "outputs": [
    {
     "name": "stdout",
     "output_type": "stream",
     "text": [
      "- Type: float64\n",
      "- First rows:\n",
      "0    2.0\n",
      "1    1.0\n",
      "2    1.0\n",
      "3    1.0\n",
      "4    2.0\n",
      "Name: DamageFromGround, dtype: float64\n",
      "- Last rows:\n",
      "1174    2.0\n",
      "1175    2.0\n",
      "1176    1.0\n",
      "1177    1.0\n",
      "1178    2.0\n",
      "Name: DamageFromGround, dtype: float64\n",
      "- Number of missing values: 0\n",
      "float64\n",
      "- Number of distinct values: 6\n",
      "- Unique value counts:\n",
      "1.00    578\n",
      "2.00    281\n",
      "0.50    153\n",
      "0.00    128\n",
      "4.00     33\n",
      "0.25      6\n",
      "Name: DamageFromGround, dtype: int64\n",
      "- Min: 0.0\n",
      "- Mean: 1.1450381679389312\n",
      "- Median: 1.0\n",
      "- Max: 4.0\n",
      "- Std: 0.7833276896292724\n"
     ]
    }
   ],
   "source": [
    "describe_feature(data, 'DamageFromGround')"
   ]
  },
  {
   "cell_type": "markdown",
   "metadata": {},
   "source": [
    "This feature indicates the damage multiplier for Ground type attacks to that Pokémon. We will use it as it is."
   ]
  },
  {
   "cell_type": "markdown",
   "metadata": {},
   "source": [
    "### Feature DamageFromRock"
   ]
  },
  {
   "cell_type": "code",
   "execution_count": 262,
   "metadata": {},
   "outputs": [
    {
     "name": "stdout",
     "output_type": "stream",
     "text": [
      "- Type: float64\n",
      "- First rows:\n",
      "0    2.0\n",
      "1    1.0\n",
      "2    1.0\n",
      "3    1.0\n",
      "4    2.0\n",
      "Name: DamageFromRock, dtype: float64\n",
      "- Last rows:\n",
      "1174    1.0\n",
      "1175    0.5\n",
      "1176    1.0\n",
      "1177    1.0\n",
      "1178    1.0\n",
      "Name: DamageFromRock, dtype: float64\n",
      "- Number of missing values: 0\n",
      "float64\n",
      "- Number of distinct values: 5\n",
      "- Unique value counts:\n",
      "1.00    669\n",
      "2.00    283\n",
      "0.50    189\n",
      "4.00     28\n",
      "0.25     10\n",
      "Name: DamageFromRock, dtype: int64\n",
      "- Min: 0.25\n",
      "- Mean: 1.2247667514843088\n",
      "- Median: 1.0\n",
      "- Max: 4.0\n",
      "- Std: 0.6696879964668355\n"
     ]
    }
   ],
   "source": [
    "describe_feature(data, 'DamageFromRock')"
   ]
  },
  {
   "cell_type": "markdown",
   "metadata": {},
   "source": [
    "This feature indicates the damage multiplier for Rock type attacks to that Pokémon. We will use it as it is."
   ]
  },
  {
   "cell_type": "markdown",
   "metadata": {},
   "source": [
    "### Feature DamageFromBug"
   ]
  },
  {
   "cell_type": "code",
   "execution_count": 263,
   "metadata": {},
   "outputs": [
    {
     "name": "stdout",
     "output_type": "stream",
     "text": [
      "- Type: float64\n",
      "- First rows:\n",
      "0    1.0\n",
      "1    1.0\n",
      "2    1.0\n",
      "3    1.0\n",
      "4    0.5\n",
      "Name: DamageFromBug, dtype: float64\n",
      "- Last rows:\n",
      "1174    2.00\n",
      "1175    1.00\n",
      "1176    1.00\n",
      "1177    1.00\n",
      "1178    0.25\n",
      "Name: DamageFromBug, dtype: float64\n",
      "- Number of missing values: 0\n",
      "float64\n",
      "- Number of distinct values: 5\n",
      "- Unique value counts:\n",
      "1.00    513\n",
      "0.50    372\n",
      "2.00    202\n",
      "0.25     75\n",
      "4.00     17\n",
      "Name: DamageFromBug, dtype: int64\n",
      "- Min: 0.25\n",
      "- Mean: 1.0091178965224767\n",
      "- Median: 1.0\n",
      "- Max: 4.0\n",
      "- Std: 0.6450079181233035\n"
     ]
    }
   ],
   "source": [
    "describe_feature(data, 'DamageFromBug')"
   ]
  },
  {
   "cell_type": "markdown",
   "metadata": {},
   "source": [
    "This feature indicates the damage multiplier for Bug type attacks to that Pokémon. We will use it as it is."
   ]
  },
  {
   "cell_type": "markdown",
   "metadata": {},
   "source": [
    "### Feature DamageFromGhost"
   ]
  },
  {
   "cell_type": "code",
   "execution_count": 264,
   "metadata": {},
   "outputs": [
    {
     "name": "stdout",
     "output_type": "stream",
     "text": [
      "- Type: float64\n",
      "- First rows:\n",
      "0    2.0\n",
      "1    1.0\n",
      "2    1.0\n",
      "3    1.0\n",
      "4    1.0\n",
      "Name: DamageFromGhost, dtype: float64\n",
      "- Last rows:\n",
      "1174    2.0\n",
      "1175    2.0\n",
      "1176    0.0\n",
      "1177    0.0\n",
      "1178    2.0\n",
      "Name: DamageFromGhost, dtype: float64\n",
      "- Number of missing values: 0\n",
      "float64\n",
      "- Number of distinct values: 5\n",
      "- Unique value counts:\n",
      "1.0    770\n",
      "2.0    181\n",
      "0.0    154\n",
      "0.5     72\n",
      "4.0      2\n",
      "Name: DamageFromGhost, dtype: int64\n",
      "- Min: 0.0\n",
      "- Mean: 0.9974554707379135\n",
      "- Median: 1.0\n",
      "- Max: 4.0\n",
      "- Std: 0.5611898939967861\n"
     ]
    }
   ],
   "source": [
    "describe_feature(data, 'DamageFromGhost')"
   ]
  },
  {
   "cell_type": "markdown",
   "metadata": {},
   "source": [
    "This feature indicates the damage multiplier for Ghost type attacks to that Pokémon. We will use it as it is."
   ]
  },
  {
   "cell_type": "markdown",
   "metadata": {},
   "source": [
    "### Feature DamageFromSteel"
   ]
  },
  {
   "cell_type": "code",
   "execution_count": 265,
   "metadata": {},
   "outputs": [
    {
     "name": "stdout",
     "output_type": "stream",
     "text": [
      "- Type: float64\n",
      "- First rows:\n",
      "0    0.5\n",
      "1    1.0\n",
      "2    1.0\n",
      "3    1.0\n",
      "4    0.5\n",
      "Name: DamageFromSteel, dtype: float64\n",
      "- Last rows:\n",
      "1174    2.0\n",
      "1175    0.5\n",
      "1176    1.0\n",
      "1177    1.0\n",
      "1178    1.0\n",
      "Name: DamageFromSteel, dtype: float64\n",
      "- Number of missing values: 0\n",
      "float64\n",
      "- Number of distinct values: 5\n",
      "- Unique value counts:\n",
      "1.00    643\n",
      "0.50    356\n",
      "2.00    163\n",
      "0.25     11\n",
      "4.00      6\n",
      "Name: DamageFromSteel, dtype: int64\n",
      "- Min: 0.25\n",
      "- Mean: 0.9955470737913485\n",
      "- Median: 1.0\n",
      "- Max: 4.0\n",
      "- Std: 0.5147766606047728\n"
     ]
    }
   ],
   "source": [
    "describe_feature(data, 'DamageFromSteel')"
   ]
  },
  {
   "cell_type": "markdown",
   "metadata": {},
   "source": [
    "This feature indicates the damage multiplier for Steel type attacks to that Pokémon. We will use it as it is."
   ]
  },
  {
   "cell_type": "markdown",
   "metadata": {},
   "source": [
    "### Feature DamageFromFire"
   ]
  },
  {
   "cell_type": "code",
   "execution_count": 266,
   "metadata": {},
   "outputs": [
    {
     "name": "stdout",
     "output_type": "stream",
     "text": [
      "- Type: float64\n",
      "- First rows:\n",
      "0    0.5\n",
      "1    2.0\n",
      "2    2.0\n",
      "3    2.0\n",
      "4    0.5\n",
      "Name: DamageFromFire, dtype: float64\n",
      "- Last rows:\n",
      "1174    0.5\n",
      "1175    2.0\n",
      "1176    1.0\n",
      "1177    1.0\n",
      "1178    1.0\n",
      "Name: DamageFromFire, dtype: float64\n",
      "- Number of missing values: 0\n",
      "float64\n",
      "- Number of distinct values: 5\n",
      "- Unique value counts:\n",
      "1.00    540\n",
      "0.50    308\n",
      "2.00    276\n",
      "0.25     30\n",
      "4.00     25\n",
      "Name: DamageFromFire, dtype: int64\n",
      "- Min: 0.25\n",
      "- Mean: 1.1480067854113656\n",
      "- Median: 1.0\n",
      "- Max: 4.0\n",
      "- Std: 0.695027094502895\n"
     ]
    }
   ],
   "source": [
    "describe_feature(data, 'DamageFromFire')"
   ]
  },
  {
   "cell_type": "markdown",
   "metadata": {},
   "source": [
    "This feature indicates the damage multiplier for Fire type attacks to that Pokémon. We will use it as it is."
   ]
  },
  {
   "cell_type": "markdown",
   "metadata": {},
   "source": [
    "### Feature DamageFromWater"
   ]
  },
  {
   "cell_type": "code",
   "execution_count": 267,
   "metadata": {},
   "outputs": [
    {
     "name": "stdout",
     "output_type": "stream",
     "text": [
      "- Type: float64\n",
      "- First rows:\n",
      "0    2.0\n",
      "1    0.5\n",
      "2    0.5\n",
      "3    0.5\n",
      "4    2.0\n",
      "Name: DamageFromWater, dtype: float64\n",
      "- Last rows:\n",
      "1174    2.0\n",
      "1175    1.0\n",
      "1176    1.0\n",
      "1177    1.0\n",
      "1178    1.0\n",
      "Name: DamageFromWater, dtype: float64\n",
      "- Number of missing values: 0\n",
      "float64\n",
      "- Number of distinct values: 5\n",
      "- Unique value counts:\n",
      "1.00    637\n",
      "0.50    321\n",
      "2.00    187\n",
      "0.25     18\n",
      "4.00     16\n",
      "Name: DamageFromWater, dtype: int64\n",
      "- Min: 0.25\n",
      "- Mean: 1.0517387616624259\n",
      "- Median: 1.0\n",
      "- Max: 4.0\n",
      "- Std: 0.5958393770770385\n"
     ]
    }
   ],
   "source": [
    "describe_feature(data, 'DamageFromWater')"
   ]
  },
  {
   "cell_type": "markdown",
   "metadata": {},
   "source": [
    "This feature indicates the damage multiplier for Water type attacks to that Pokémon. We will use it as it is."
   ]
  },
  {
   "cell_type": "markdown",
   "metadata": {},
   "source": [
    "### Feature DamageFromGrass"
   ]
  },
  {
   "cell_type": "code",
   "execution_count": 268,
   "metadata": {},
   "outputs": [
    {
     "name": "stdout",
     "output_type": "stream",
     "text": [
      "- Type: float64\n",
      "- First rows:\n",
      "0    0.50\n",
      "1    0.25\n",
      "2    0.25\n",
      "3    0.25\n",
      "4    0.50\n",
      "Name: DamageFromGrass, dtype: float64\n",
      "- Last rows:\n",
      "1174    2.0\n",
      "1175    0.5\n",
      "1176    1.0\n",
      "1177    1.0\n",
      "1178    0.5\n",
      "Name: DamageFromGrass, dtype: float64\n",
      "- Number of missing values: 0\n",
      "float64\n",
      "- Number of distinct values: 5\n",
      "- Unique value counts:\n",
      "1.00    449\n",
      "0.50    399\n",
      "2.00    187\n",
      "0.25    114\n",
      "4.00     30\n",
      "Name: DamageFromGrass, dtype: int64\n",
      "- Min: 0.25\n",
      "- Mean: 0.993214588634436\n",
      "- Median: 1.0\n",
      "- Max: 4.0\n",
      "- Std: 0.7259562610528735\n"
     ]
    }
   ],
   "source": [
    "describe_feature(data, 'DamageFromGrass')"
   ]
  },
  {
   "cell_type": "markdown",
   "metadata": {},
   "source": [
    "This feature indicates the damage multiplier for Grass type attacks to that Pokémon. We will use it as it is."
   ]
  },
  {
   "cell_type": "markdown",
   "metadata": {},
   "source": [
    "### Feature DamageFromElectric"
   ]
  },
  {
   "cell_type": "code",
   "execution_count": 269,
   "metadata": {},
   "outputs": [
    {
     "name": "stdout",
     "output_type": "stream",
     "text": [
      "- Type: float64\n",
      "- First rows:\n",
      "0    1.0\n",
      "1    0.5\n",
      "2    0.5\n",
      "3    0.5\n",
      "4    1.0\n",
      "Name: DamageFromElectric, dtype: float64\n",
      "- Last rows:\n",
      "1174    1.0\n",
      "1175    1.0\n",
      "1176    1.0\n",
      "1177    1.0\n",
      "1178    1.0\n",
      "Name: DamageFromElectric, dtype: float64\n",
      "- Number of missing values: 0\n",
      "float64\n",
      "- Number of distinct values: 6\n",
      "- Unique value counts:\n",
      "1.00    603\n",
      "0.50    237\n",
      "2.00    230\n",
      "0.00     86\n",
      "0.25     13\n",
      "4.00     10\n",
      "Name: DamageFromElectric, dtype: int64\n",
      "- Min: 0.0\n",
      "- Mean: 1.0388040712468194\n",
      "- Median: 1.0\n",
      "- Max: 4.0\n",
      "- Std: 0.632178445706601\n"
     ]
    }
   ],
   "source": [
    "describe_feature(data, 'DamageFromElectric')"
   ]
  },
  {
   "cell_type": "markdown",
   "metadata": {},
   "source": [
    "This feature indicates the damage multiplier for Electric type attacks to that Pokémon. We will use it as it is."
   ]
  },
  {
   "cell_type": "markdown",
   "metadata": {},
   "source": [
    "### Feature DamageFromPsychic"
   ]
  },
  {
   "cell_type": "code",
   "execution_count": 270,
   "metadata": {},
   "outputs": [
    {
     "name": "stdout",
     "output_type": "stream",
     "text": [
      "- Type: float64\n",
      "- First rows:\n",
      "0    0.5\n",
      "1    2.0\n",
      "2    2.0\n",
      "3    2.0\n",
      "4    1.0\n",
      "Name: DamageFromPsychic, dtype: float64\n",
      "- Last rows:\n",
      "1174    0.50\n",
      "1175    0.25\n",
      "1176    1.00\n",
      "1177    1.00\n",
      "1178    2.00\n",
      "Name: DamageFromPsychic, dtype: float64\n",
      "- Number of missing values: 0\n",
      "float64\n",
      "- Number of distinct values: 6\n",
      "- Unique value counts:\n",
      "1.00    771\n",
      "0.50    171\n",
      "2.00    142\n",
      "0.00     82\n",
      "0.25      8\n",
      "4.00      5\n",
      "Name: DamageFromPsychic, dtype: int64\n",
      "- Min: 0.0\n",
      "- Mean: 0.9860050890585241\n",
      "- Median: 1.0\n",
      "- Max: 4.0\n",
      "- Std: 0.5179454350202226\n"
     ]
    }
   ],
   "source": [
    "describe_feature(data, 'DamageFromPsychic')"
   ]
  },
  {
   "cell_type": "markdown",
   "metadata": {},
   "source": [
    "This feature indicates the damage multiplier for Psychic type attacks to that Pokémon. We will use it as it is."
   ]
  },
  {
   "cell_type": "markdown",
   "metadata": {},
   "source": [
    "### Feature DamageFromIce"
   ]
  },
  {
   "cell_type": "code",
   "execution_count": 271,
   "metadata": {},
   "outputs": [
    {
     "name": "stdout",
     "output_type": "stream",
     "text": [
      "- Type: float64\n",
      "- First rows:\n",
      "0    0.5\n",
      "1    2.0\n",
      "2    2.0\n",
      "3    2.0\n",
      "4    0.5\n",
      "Name: DamageFromIce, dtype: float64\n",
      "- Last rows:\n",
      "1174    1.0\n",
      "1175    0.5\n",
      "1176    1.0\n",
      "1177    1.0\n",
      "1178    1.0\n",
      "Name: DamageFromIce, dtype: float64\n",
      "- Number of missing values: 0\n",
      "float64\n",
      "- Number of distinct values: 5\n",
      "- Unique value counts:\n",
      "1.00    532\n",
      "0.50    303\n",
      "2.00    297\n",
      "4.00     34\n",
      "0.25     13\n",
      "Name: DamageFromIce, dtype: int64\n",
      "- Min: 0.25\n",
      "- Mean: 1.2016539440203562\n",
      "- Median: 1.0\n",
      "- Max: 4.0\n",
      "- Std: 0.7360007997667888\n"
     ]
    }
   ],
   "source": [
    "describe_feature(data, 'DamageFromIce')"
   ]
  },
  {
   "cell_type": "markdown",
   "metadata": {},
   "source": [
    "This feature indicates the damage multiplier for Ice type attacks to that Pokémon. We will use it as it is."
   ]
  },
  {
   "cell_type": "markdown",
   "metadata": {},
   "source": [
    "### Feature DamageFromDragon"
   ]
  },
  {
   "cell_type": "code",
   "execution_count": 272,
   "metadata": {},
   "outputs": [
    {
     "name": "stdout",
     "output_type": "stream",
     "text": [
      "- Type: float64\n",
      "- First rows:\n",
      "0    1.0\n",
      "1    1.0\n",
      "2    1.0\n",
      "3    1.0\n",
      "4    1.0\n",
      "Name: DamageFromDragon, dtype: float64\n",
      "- Last rows:\n",
      "1174    1.0\n",
      "1175    0.5\n",
      "1176    1.0\n",
      "1177    1.0\n",
      "1178    1.0\n",
      "Name: DamageFromDragon, dtype: float64\n",
      "- Number of missing values: 0\n",
      "float64\n",
      "- Number of distinct values: 4\n",
      "- Unique value counts:\n",
      "1.0    951\n",
      "0.0     83\n",
      "2.0     76\n",
      "0.5     69\n",
      "Name: DamageFromDragon, dtype: int64\n",
      "- Min: 0.0\n",
      "- Mean: 0.9648006785411366\n",
      "- Median: 1.0\n",
      "- Max: 2.0\n",
      "- Std: 0.3851985885191705\n"
     ]
    }
   ],
   "source": [
    "describe_feature(data, 'DamageFromDragon')"
   ]
  },
  {
   "cell_type": "markdown",
   "metadata": {},
   "source": [
    "This feature indicates the damage multiplier for Dragon type attacks to that Pokémon. We will use it as it is."
   ]
  },
  {
   "cell_type": "markdown",
   "metadata": {},
   "source": [
    "### Feature DamageFromDark"
   ]
  },
  {
   "cell_type": "code",
   "execution_count": 273,
   "metadata": {},
   "outputs": [
    {
     "name": "stdout",
     "output_type": "stream",
     "text": [
      "- Type: float64\n",
      "- First rows:\n",
      "0    2.0\n",
      "1    1.0\n",
      "2    1.0\n",
      "3    1.0\n",
      "4    1.0\n",
      "Name: DamageFromDark, dtype: float64\n",
      "- Last rows:\n",
      "1174    2.0\n",
      "1175    2.0\n",
      "1176    1.0\n",
      "1177    1.0\n",
      "1178    2.0\n",
      "Name: DamageFromDark, dtype: float64\n",
      "- Number of missing values: 0\n",
      "float64\n",
      "- Number of distinct values: 5\n",
      "- Unique value counts:\n",
      "1.00    787\n",
      "0.50    209\n",
      "2.00    173\n",
      "0.25      8\n",
      "4.00      2\n",
      "Name: DamageFromDark, dtype: int64\n",
      "- Min: 0.25\n",
      "- Mean: 1.058100084817642\n",
      "- Median: 1.0\n",
      "- Max: 4.0\n",
      "- Std: 0.4549017545287548\n"
     ]
    }
   ],
   "source": [
    "describe_feature(data, 'DamageFromDark')"
   ]
  },
  {
   "cell_type": "markdown",
   "metadata": {},
   "source": [
    "This feature indicates the damage multiplier for Dark type attacks to that Pokémon. We will use it as it is."
   ]
  },
  {
   "cell_type": "markdown",
   "metadata": {},
   "source": [
    "### Feature DamageFromFairy"
   ]
  },
  {
   "cell_type": "code",
   "execution_count": 274,
   "metadata": {},
   "outputs": [
    {
     "name": "stdout",
     "output_type": "stream",
     "text": [
      "- Type: float64\n",
      "- First rows:\n",
      "0    0.5\n",
      "1    0.5\n",
      "2    0.5\n",
      "3    0.5\n",
      "4    0.5\n",
      "Name: DamageFromFairy, dtype: float64\n",
      "- Last rows:\n",
      "1174    1.0\n",
      "1175    0.5\n",
      "1176    1.0\n",
      "1177    1.0\n",
      "1178    0.5\n",
      "Name: DamageFromFairy, dtype: float64\n",
      "- Number of missing values: 0\n",
      "float64\n",
      "- Number of distinct values: 5\n",
      "- Unique value counts:\n",
      "1.00    765\n",
      "0.50    214\n",
      "2.00    182\n",
      "4.00     12\n",
      "0.25      6\n",
      "Name: DamageFromFairy, dtype: int64\n",
      "- Min: 0.25\n",
      "- Mean: 1.0903307888040712\n",
      "- Median: 1.0\n",
      "- Max: 4.0\n",
      "- Std: 0.5350648303327862\n"
     ]
    }
   ],
   "source": [
    "describe_feature(data, 'DamageFromFairy')"
   ]
  },
  {
   "cell_type": "markdown",
   "metadata": {},
   "source": [
    "This feature indicates the damage multiplier for Fairy type attacks to that Pokémon. We will use it as it is."
   ]
  }
 ],
 "metadata": {
  "kernelspec": {
   "display_name": "base",
   "language": "python",
   "name": "python3"
  },
  "language_info": {
   "codemirror_mode": {
    "name": "ipython",
    "version": 3
   },
   "file_extension": ".py",
   "mimetype": "text/x-python",
   "name": "python",
   "nbconvert_exporter": "python",
   "pygments_lexer": "ipython3",
   "version": "3.9.12"
  }
 },
 "nbformat": 4,
 "nbformat_minor": 2
}
